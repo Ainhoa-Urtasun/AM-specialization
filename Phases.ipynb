{
 "cells": [
  {
   "cell_type": "code",
   "execution_count": 3,
   "metadata": {},
   "outputs": [],
   "source": [
    "import pandas\n",
    "import numpy\n",
    "import openpyxl\n",
    "import tensorflow as tf\n",
    "import tensorflow_hub as hub\n",
    "from tensorflow import keras\n",
    "from tensorflow.keras import regularizers\n",
    "import matplotlib.pyplot as plt"
   ]
  },
  {
   "cell_type": "markdown",
   "metadata": {},
   "source": [
    "### Manufacturing sample"
   ]
  },
  {
   "cell_type": "code",
   "execution_count": 4,
   "metadata": {},
   "outputs": [
    {
     "name": "stdout",
     "output_type": "stream",
     "text": [
      "4416837 initial postings\n",
      "1131600 postings with missing Employer\n",
      "3285237 postings with nonmissing Employer\n",
      "BGTJobId           int64\n",
      "JobDate           object\n",
      "CleanTitle        object\n",
      "CanonTitle        object\n",
      "SOC                int64\n",
      "SOCName           object\n",
      "ONET              object\n",
      "ONETName          object\n",
      "Employer          object\n",
      "Sector            object\n",
      "SectorName        object\n",
      "NAICS3           float64\n",
      "NAICS4           float64\n",
      "NAICS5           float64\n",
      "NAICS6           float64\n",
      "City              object\n",
      "County            object\n",
      "State             object\n",
      "Lat              float64\n",
      "Lon              float64\n",
      "Edu              float64\n",
      "MaxEdu           float64\n",
      "Degree            object\n",
      "MaxDegree         object\n",
      "Exp              float64\n",
      "MaxExp           float64\n",
      "MinSalary        float64\n",
      "MaxSalary        float64\n",
      "MinHrlySalary    float64\n",
      "MaxHrlySalary    float64\n",
      "PayFrequency      object\n",
      "SalaryType        object\n",
      "JobHours          object\n",
      "SOC2               int64\n",
      "SOC4               int64\n",
      "SOC5               int64\n",
      "SK                object\n",
      "dtype: object\n",
      "162                                  planning,purchasing\n",
      "163    positive disposition,repair,communication skil...\n",
      "164    product sales,microsoft excel,proposal writing...\n",
      "165    clinical development,performance management,pr...\n",
      "166    ansys,nastran,mechanical engineering,nastran /...\n",
      "Name: SK, dtype: object\n"
     ]
    }
   ],
   "source": [
    "data = pandas.read_csv('D:/BG/Paper_2/Data/Downloading/SKILL.txt', sep='\\t')\n",
    "data = data.sort_values(['JobDate','BGTJobId'], ascending=[True, True])\n",
    "print('{} initial postings'.format(data.shape[0]))\n",
    "print('{} postings with missing Employer'.format(data.Employer.isna().sum()))\n",
    "print('{} postings with nonmissing Employer'.format(data.shape[0]-data.Employer.isna().sum()))\n",
    "print(data.dtypes)\n",
    "print(data.SK[0:5])"
   ]
  },
  {
   "cell_type": "code",
   "execution_count": 5,
   "metadata": {},
   "outputs": [
    {
     "name": "stdout",
     "output_type": "stream",
     "text": [
      "4416837 Postings in Manufacturing sample\n",
      "[['planning', 'purchasing'], ['positive disposition', 'repair', 'communication skills', 'verbal / oral communication', 'welding', 'system maintenance'], ['product sales', 'microsoft excel', 'proposal writing', 'scheduling', 'staff management', 'planning', 'technical training', 'customer contact', 'customer service', 'project planning and development skills', 'microsoft project', 'supervisory skills'], ['clinical development', 'performance management', 'project management', 'research', 'pharmacology', 'creativity', 'budgeting', 'mentoring', 'writing', 'due diligence', 'problem solving', 'teamwork / collaboration', 'building effective relationships', 'clinical trials', 'drug development'], ['ansys', 'nastran', 'mechanical engineering', 'nastran / patran', 'system design', 'finite element method / analysis software', 'communication skills', 'ls-dyna', 'finite element analysis', 'cad / cam (computer-aided design / manufacturing)', 'troubleshooting', 'unigraphics']]\n",
      "50250978 Terms in Manufacturing sample\n",
      "12016 Unique terms in Manufacturing sample\n"
     ]
    }
   ],
   "source": [
    "BoW = data['SK']\n",
    "BoW = [job.replace('colleterallized loan obligation (clo)','collateralized loan obligations (clos)') for job in BoW]\n",
    "BoW = [job.split(',') for job in BoW]\n",
    "print(len(BoW),'Postings in Manufacturing sample')\n",
    "print(BoW[0:5])\n",
    "BoW = [term for job in BoW for term in job]\n",
    "print(len(BoW),'Terms in Manufacturing sample')\n",
    "print(len(list(set(BoW))),'Unique terms in Manufacturing sample')\n",
    "skills = pandas.DataFrame(list(set(BoW)),columns=['Skill_US'])"
   ]
  },
  {
   "cell_type": "markdown",
   "metadata": {},
   "source": [
    "## Approach 1\n"
   ]
  },
  {
   "cell_type": "code",
   "execution_count": 134,
   "metadata": {},
   "outputs": [
    {
     "name": "stdout",
     "output_type": "stream",
     "text": [
      "12016 terms to label\n",
      "4931 labelled\n",
      "Software                      1877\n",
      "Support Activities            1839\n",
      "Tooling and Machining          290\n",
      "Supply Chain and Logistics     250\n",
      "Ideation and Development       164\n",
      "Design                         163\n",
      "Materials                      120\n",
      "Production and Assembling      119\n",
      "General Skills                 109\n",
      "Name: Phases, dtype: int64\n"
     ]
    }
   ],
   "source": [
    "original = pandas.read_csv('All_Skills_US.csv',sep=',')\n",
    "original['Skill_US'] = original['Skill_US'].str.lower()\n",
    "original['Skill_US'] = original['Skill_US'].str.replace(r',','',regex=True)\n",
    "original['SkillClusterFamily'] = original['SkillClusterFamily'].str.lower()\n",
    "original['SkillCluster'] = original['SkillCluster'].str.lower()\n",
    "original = original.merge(skills,on='Skill_US',how='right')\n",
    "print(len(original),'terms to label')\n",
    "original['SkillId'] = original['SkillId'].astype('int')\n",
    "original = original.sort_values('SkillId').reset_index(drop=True)\n",
    "original['Phases'] = numpy.nan\n",
    "\n",
    "original.loc[(original.SkillCluster=='analog design'),'Phases'] = 'Design'\n",
    "original.loc[(original.SkillClusterFamily=='design'),'Phases'] = 'Design'\n",
    "original.loc[(original.SkillCluster=='drafting and engineering design'),'Phases'] = 'Design'\n",
    "\n",
    "original.loc[(original.IsBaseline==1)&(original.IsSoftware==0),'Phases'] = 'General Skills'\n",
    "original.loc[(original.SkillCluster=='foreign language skills'),'Phases'] = 'General Skills'\n",
    "original.loc[(original.SkillCluster=='physical abilities'),'Phases'] = 'General Skills'\n",
    "\n",
    "original.loc[(original.SkillCluster=='concept development'),'Phases'] = 'Ideation and Development'\n",
    "original.loc[(original.SkillCluster=='engineering processes'),'Phases'] = 'Ideation and Development'\n",
    "original.loc[(original.SkillCluster=='engineering software'),'Phases'] = 'Ideation and Development'\n",
    "original.loc[(original.SkillCluster=='mathematical modeling'),'Phases'] = 'Ideation and Development'\n",
    "original.loc[(original.SkillCluster=='product development'),'Phases'] = 'Ideation and Development'\n",
    "original.loc[(original.SkillCluster=='research methodology'),'Phases'] = 'Ideation and Development'\n",
    "original.loc[(original.SkillCluster=='simulation'),'Phases'] = 'Ideation and Development'\n",
    "original.loc[(original.SkillCluster=='simulation software'),'Phases'] = 'Ideation and Development'\n",
    "original.loc[(original.Phases.isna())&(original.Skill_US.str.contains('develop')),'Phases'] = 'Ideation and Development'\n",
    "\n",
    "original.loc[(original.SkillCluster=='aluminium industry knowledge'),'Phases'] = 'Materials'\n",
    "original.loc[(original.SkillCluster=='cellular biology'),'Phases'] = 'Materials'\n",
    "original.loc[(original.SkillCluster=='chemical analysis'),'Phases'] = 'Materials'\n",
    "original.loc[(original.SkillCluster=='chemical industry knowledge'),'Phases'] = 'Materials'\n",
    "original.loc[(original.SkillCluster=='chemistry'),'Phases'] = 'Materials'\n",
    "original.loc[(original.SkillCluster=='materials process'),'Phases'] = 'Materials'\n",
    "original.loc[(original.SkillCluster=='materials science'),'Phases'] = 'Materials'\n",
    "original.loc[(original.SkillCluster=='metal industy industry knowledge'),'Phases'] = 'Materials'\n",
    "original.loc[(original.SkillCluster=='molecular biology'),'Phases'] = 'Materials'\n",
    "original.loc[(original.SkillCluster=='physics'),'Phases'] = 'Materials'\n",
    "original.loc[(original.SkillCluster=='plastics material industry knowledge'),'Phases'] = 'Materials'\n",
    "original.loc[(original.SkillCluster=='process engineering'),'Phases'] = 'Materials'\n",
    "\n",
    "original.loc[(original.SkillClusterFamily=='manufacturing and production')&(original.SkillCluster!='computer-aided manufacturing')&(original.SkillCluster!='equipment acquisition standards')&(original.SkillCluster!='machine tools')&(original.SkillCluster!='machinery')&(original.SkillCluster!='materials process')&(original.SkillCluster!='materials science')&(original.SkillCluster!='product development'),'Phases'] = 'Production and Assembling'\n",
    "                                                      \n",
    "original.loc[(original.SkillCluster=='automation engineering'),'Phases'] = 'Tooling and Machining'\n",
    "original.loc[(original.SkillCluster=='machine tools'),'Phases'] = 'Tooling and Machining'\n",
    "original.loc[(original.SkillCluster=='machinery'),'Phases'] = 'Tooling and Machining'\n",
    "original.loc[(original.SkillCluster=='equipment acquisition standards'),'Phases'] = 'Tooling and Machining'\n",
    "original.loc[(original.SkillClusterFamily=='maintenance, repair, and installation'),'Phases'] = 'Tooling and Machining'\n",
    "original.loc[(original.SkillCluster=='robotics'),'Phases'] = 'Tooling and Machining'\n",
    "original.loc[(original.SkillCluster=='computer-aided manufacturing'),'Phases'] = 'Tooling and Machining'\n",
    "\n",
    "original.loc[(original.SkillClusterFamily=='information technology'),'Phases'] = 'Software'\n",
    "original.loc[(original.IsSoftware==1)&(original.Phases.isna()),'Phases'] = 'Software'\n",
    "\n",
    "original.loc[(original.SkillClusterFamily=='supply chain and logistics'),'Phases'] = 'Supply Chain and Logistics'\n",
    "original.loc[(original.SkillCluster=='supply chain and logistics industry knowledge'),'Phases'] = 'Supply Chain and Logistics'\n",
    "\n",
    "original.loc[(original.SkillClusterFamily=='accounting'),'Phases'] = 'Support Activities'\n",
    "original.loc[(original.SkillClusterFamily=='administration'),'Phases'] = 'Support Activities'\n",
    "original.loc[(original.SkillClusterFamily=='analysis')&(original.SkillCluster!='mathematical modeling'),'Phases'] = 'Support Activities'\n",
    "original.loc[(original.SkillClusterFamily=='business'),'Phases'] = 'Support Activities'\n",
    "original.loc[(original.SkillClusterFamily=='customer and client support'),'Phases'] = 'Support Activities'\n",
    "original.loc[(original.SkillClusterFamily=='finance'),'Phases'] = 'Support Activities'\n",
    "original.loc[(original.SkillClusterFamily=='human resources'),'Phases'] = 'Support Activities'\n",
    "original.loc[(original.SkillClusterFamily=='legal'),'Phases'] = 'Support Activities'\n",
    "original.loc[(original.SkillClusterFamily=='marketing and public relations')&(original.SkillCluster!='concept development'),'Phases'] = 'Support Activities'\n",
    "original.loc[(original.SkillClusterFamily=='sales'),'Phases'] = 'Support Activities'\n",
    "original.loc[(original.SkillCluster=='surveying'),'Phases'] = 'Support Activities'\n",
    "original.loc[(original.SkillCluster=='surveys'),'Phases'] = 'Support Activities'\n",
    "original.loc[(original.SkillCluster=='training programs'),'Phases'] = 'Support Activities'\n",
    "\n",
    "original.to_excel('Phases.xlsx')\n",
    "final = original.dropna()\n",
    "final = final.sample(frac=1).reset_index(drop=True)\n",
    "print(len(final),'labelled')\n",
    "print(final.Phases.value_counts())"
   ]
  },
  {
   "cell_type": "markdown",
   "metadata": {},
   "source": [
    "## Dense layers"
   ]
  },
  {
   "cell_type": "code",
   "execution_count": 120,
   "metadata": {},
   "outputs": [],
   "source": [
    "embedding = \"https://tfhub.dev/google/universal-sentence-encoder/4\"\n",
    "l0 = hub.KerasLayer(embedding,input_shape=[],dtype=tf.string,trainable=False)\n",
    "l1 = tf.keras.layers.Dropout(rate=0.1)\n",
    "l2 = tf.keras.layers.Dense(units=18,activation='relu')\n",
    "l3 = tf.keras.layers.Dropout(rate=0.1)\n",
    "l4 = tf.keras.layers.Dense(units=9,activation='softmax')"
   ]
  },
  {
   "cell_type": "code",
   "execution_count": 121,
   "metadata": {},
   "outputs": [
    {
     "data": {
      "text/plain": [
       "<tf.Tensor: shape=(2, 512), dtype=float32, numpy=\n",
       "array([[ 0.08127169, -0.03838172,  0.00959098, ...,  0.02456087,\n",
       "        -0.0584658 , -0.0573303 ],\n",
       "       [-0.04563627, -0.04145808,  0.04414954, ..., -0.03978812,\n",
       "        -0.01473864, -0.00792809]], dtype=float32)>"
      ]
     },
     "execution_count": 121,
     "metadata": {},
     "output_type": "execute_result"
    }
   ],
   "source": [
    "l0(final.Skill_US[0:2].to_numpy())"
   ]
  },
  {
   "cell_type": "code",
   "execution_count": 122,
   "metadata": {},
   "outputs": [
    {
     "name": "stdout",
     "output_type": "stream",
     "text": [
      "Model: \"sequential_17\"\n",
      "_________________________________________________________________\n",
      "Layer (type)                 Output Shape              Param #   \n",
      "=================================================================\n",
      "keras_layer_15 (KerasLayer)  (None, 512)               256797824 \n",
      "_________________________________________________________________\n",
      "dropout_10 (Dropout)         (None, 512)               0         \n",
      "_________________________________________________________________\n",
      "dense_34 (Dense)             (None, 18)                9234      \n",
      "_________________________________________________________________\n",
      "dropout_11 (Dropout)         (None, 18)                0         \n",
      "_________________________________________________________________\n",
      "dense_35 (Dense)             (None, 9)                 171       \n",
      "=================================================================\n",
      "Total params: 256,807,229\n",
      "Trainable params: 9,405\n",
      "Non-trainable params: 256,797,824\n",
      "_________________________________________________________________\n",
      "None\n"
     ]
    }
   ],
   "source": [
    "model = tf.keras.Sequential([l0,l1,l2,l3,l4])\n",
    "print(model.summary())\n",
    "model.compile(optimizer='adam',loss='categorical_crossentropy',metrics=['accuracy'])"
   ]
  },
  {
   "cell_type": "markdown",
   "metadata": {},
   "source": [
    "## Labels"
   ]
  },
  {
   "cell_type": "code",
   "execution_count": 123,
   "metadata": {},
   "outputs": [
    {
     "name": "stdout",
     "output_type": "stream",
     "text": [
      "Index(['Design', 'General Skills', 'Ideation and Development', 'Materials',\n",
      "       'Production and Assembling', 'Software', 'Supply Chain and Logistics',\n",
      "       'Support Activities', 'Tooling and Machining'],\n",
      "      dtype='object')\n"
     ]
    },
    {
     "data": {
      "text/plain": [
       "{0: 'Design',\n",
       " 1: 'General Skills',\n",
       " 2: 'Ideation and Development',\n",
       " 3: 'Materials',\n",
       " 4: 'Production and Assembling',\n",
       " 5: 'Software',\n",
       " 6: 'Supply Chain and Logistics',\n",
       " 7: 'Support Activities',\n",
       " 8: 'Tooling and Machining'}"
      ]
     },
     "execution_count": 123,
     "metadata": {},
     "output_type": "execute_result"
    }
   ],
   "source": [
    "y = final.Phases.str.get_dummies()\n",
    "labels = y.columns\n",
    "print(labels)\n",
    "mydict = dict(enumerate(labels))\n",
    "mydict"
   ]
  },
  {
   "cell_type": "markdown",
   "metadata": {},
   "source": [
    "## Splitting the sample (training and validation)"
   ]
  },
  {
   "cell_type": "code",
   "execution_count": 124,
   "metadata": {},
   "outputs": [],
   "source": [
    "y = y.to_numpy()\n",
    "y_train = y\n",
    "y_val = y_train[-250:]\n",
    "y_train = y_train[:-250]\n",
    "x_train = final.Skill_US.to_numpy()\n",
    "x_val = x_train[-250:]\n",
    "x_train = x_train[:-250]"
   ]
  },
  {
   "cell_type": "code",
   "execution_count": 125,
   "metadata": {},
   "outputs": [
    {
     "name": "stdout",
     "output_type": "stream",
     "text": [
      "Fit model on training data\n",
      "Epoch 1/50\n",
      "74/74 [==============================] - 4s 26ms/step - loss: 1.8397 - accuracy: 0.3841 - val_loss: 1.5819 - val_accuracy: 0.4560\n",
      "Epoch 2/50\n",
      "74/74 [==============================] - 1s 19ms/step - loss: 1.3510 - accuracy: 0.5918 - val_loss: 1.2652 - val_accuracy: 0.6400ccuracy: 0.\n",
      "Epoch 3/50\n",
      "74/74 [==============================] - 1s 20ms/step - loss: 1.1482 - accuracy: 0.6317 - val_loss: 1.1085 - val_accuracy: 0.6560\n",
      "Epoch 4/50\n",
      "74/74 [==============================] - 1s 19ms/step - loss: 1.0461 - accuracy: 0.6618 - val_loss: 1.0245 - val_accuracy: 0.6920\n",
      "Epoch 5/50\n",
      "74/74 [==============================] - 1s 19ms/step - loss: 0.9786 - accuracy: 0.6894 - val_loss: 0.9629 - val_accuracy: 0.7120\n",
      "Epoch 6/50\n",
      "74/74 [==============================] - 1s 19ms/step - loss: 0.9303 - accuracy: 0.7009 - val_loss: 0.9175 - val_accuracy: 0.7280\n",
      "Epoch 7/50\n",
      "74/74 [==============================] - 1s 19ms/step - loss: 0.8973 - accuracy: 0.7105 - val_loss: 0.8857 - val_accuracy: 0.7480\n",
      "Epoch 8/50\n",
      "74/74 [==============================] - 1s 19ms/step - loss: 0.8641 - accuracy: 0.7114 - val_loss: 0.8622 - val_accuracy: 0.7440\n",
      "Epoch 9/50\n",
      "74/74 [==============================] - 1s 19ms/step - loss: 0.8470 - accuracy: 0.7112 - val_loss: 0.8376 - val_accuracy: 0.7360\n",
      "Epoch 10/50\n",
      "74/74 [==============================] - 1s 19ms/step - loss: 0.8251 - accuracy: 0.7197 - val_loss: 0.8215 - val_accuracy: 0.7400\n",
      "Epoch 11/50\n",
      "74/74 [==============================] - 1s 19ms/step - loss: 0.8166 - accuracy: 0.7182 - val_loss: 0.8100 - val_accuracy: 0.7400\n",
      "Epoch 12/50\n",
      "74/74 [==============================] - 1s 19ms/step - loss: 0.7961 - accuracy: 0.7278 - val_loss: 0.7936 - val_accuracy: 0.7400\n",
      "Epoch 13/50\n",
      "74/74 [==============================] - 1s 19ms/step - loss: 0.7740 - accuracy: 0.7360 - val_loss: 0.7885 - val_accuracy: 0.7400\n",
      "Epoch 14/50\n",
      "74/74 [==============================] - 1s 19ms/step - loss: 0.7658 - accuracy: 0.7298 - val_loss: 0.7770 - val_accuracy: 0.7400\n",
      "Epoch 15/50\n",
      "74/74 [==============================] - 1s 19ms/step - loss: 0.7530 - accuracy: 0.7404 - val_loss: 0.7657 - val_accuracy: 0.7400\n",
      "Epoch 16/50\n",
      "74/74 [==============================] - 1s 19ms/step - loss: 0.7380 - accuracy: 0.7462 - val_loss: 0.7591 - val_accuracy: 0.7360\n",
      "Epoch 17/50\n",
      "74/74 [==============================] - 1s 19ms/step - loss: 0.7324 - accuracy: 0.7454 - val_loss: 0.7515 - val_accuracy: 0.7360\n",
      "Epoch 18/50\n",
      "74/74 [==============================] - 1s 19ms/step - loss: 0.7154 - accuracy: 0.7524 - val_loss: 0.7482 - val_accuracy: 0.7600\n",
      "Epoch 19/50\n",
      "74/74 [==============================] - 1s 19ms/step - loss: 0.7072 - accuracy: 0.7571 - val_loss: 0.7439 - val_accuracy: 0.7600\n",
      "Epoch 20/50\n",
      "74/74 [==============================] - 1s 19ms/step - loss: 0.7014 - accuracy: 0.7577 - val_loss: 0.7402 - val_accuracy: 0.7560\n",
      "Epoch 21/50\n",
      "74/74 [==============================] - 1s 20ms/step - loss: 0.6981 - accuracy: 0.7605 - val_loss: 0.7299 - val_accuracy: 0.7560\n",
      "Epoch 22/50\n",
      "74/74 [==============================] - 1s 19ms/step - loss: 0.6905 - accuracy: 0.7629 - val_loss: 0.7301 - val_accuracy: 0.7600\n",
      "Epoch 23/50\n",
      "74/74 [==============================] - 2s 21ms/step - loss: 0.6790 - accuracy: 0.7635 - val_loss: 0.7268 - val_accuracy: 0.7560\n",
      "Epoch 24/50\n",
      "74/74 [==============================] - 1s 19ms/step - loss: 0.6712 - accuracy: 0.7684 - val_loss: 0.7249 - val_accuracy: 0.7600\n",
      "Epoch 25/50\n",
      "74/74 [==============================] - 1s 19ms/step - loss: 0.6647 - accuracy: 0.7695 - val_loss: 0.7255 - val_accuracy: 0.7560\n",
      "Epoch 26/50\n",
      "74/74 [==============================] - 1s 19ms/step - loss: 0.6594 - accuracy: 0.7725 - val_loss: 0.7232 - val_accuracy: 0.7560\n",
      "Epoch 27/50\n",
      "74/74 [==============================] - 1s 19ms/step - loss: 0.6516 - accuracy: 0.7763 - val_loss: 0.7206 - val_accuracy: 0.7680\n",
      "Epoch 28/50\n",
      "74/74 [==============================] - 1s 19ms/step - loss: 0.6414 - accuracy: 0.7765 - val_loss: 0.7242 - val_accuracy: 0.7520\n",
      "Epoch 29/50\n",
      "74/74 [==============================] - 2s 26ms/step - loss: 0.6412 - accuracy: 0.7785 - val_loss: 0.7205 - val_accuracy: 0.7640\n",
      "Epoch 30/50\n",
      "74/74 [==============================] - 2s 22ms/step - loss: 0.6406 - accuracy: 0.7830 - val_loss: 0.7205 - val_accuracy: 0.7560\n",
      "Epoch 31/50\n",
      "74/74 [==============================] - 2s 22ms/step - loss: 0.6331 - accuracy: 0.7783 - val_loss: 0.7216 - val_accuracy: 0.7600\n",
      "Epoch 32/50\n",
      "74/74 [==============================] - 2s 21ms/step - loss: 0.6280 - accuracy: 0.7815 - val_loss: 0.7205 - val_accuracy: 0.7480\n",
      "Epoch 33/50\n",
      "74/74 [==============================] - 2s 21ms/step - loss: 0.6168 - accuracy: 0.7817 - val_loss: 0.7200 - val_accuracy: 0.7640\n",
      "Epoch 34/50\n",
      "74/74 [==============================] - 2s 21ms/step - loss: 0.6097 - accuracy: 0.7883 - val_loss: 0.7214 - val_accuracy: 0.7560\n",
      "Epoch 35/50\n",
      "74/74 [==============================] - 2s 21ms/step - loss: 0.6035 - accuracy: 0.7879 - val_loss: 0.7220 - val_accuracy: 0.7640\n",
      "Epoch 36/50\n",
      "74/74 [==============================] - 2s 21ms/step - loss: 0.6011 - accuracy: 0.7932 - val_loss: 0.7178 - val_accuracy: 0.7600\n",
      "Epoch 37/50\n",
      "74/74 [==============================] - 2s 22ms/step - loss: 0.5958 - accuracy: 0.7943 - val_loss: 0.7138 - val_accuracy: 0.7720\n",
      "Epoch 38/50\n",
      "74/74 [==============================] - 2s 21ms/step - loss: 0.6029 - accuracy: 0.7921 - val_loss: 0.7217 - val_accuracy: 0.7720\n",
      "Epoch 39/50\n",
      "74/74 [==============================] - 2s 22ms/step - loss: 0.5991 - accuracy: 0.7924 - val_loss: 0.7165 - val_accuracy: 0.7800\n",
      "Epoch 40/50\n",
      "74/74 [==============================] - 2s 21ms/step - loss: 0.5974 - accuracy: 0.7881 - val_loss: 0.7241 - val_accuracy: 0.7640\n",
      "Epoch 41/50\n",
      "74/74 [==============================] - 1s 20ms/step - loss: 0.5883 - accuracy: 0.7864 - val_loss: 0.7255 - val_accuracy: 0.7640\n",
      "Epoch 42/50\n",
      "74/74 [==============================] - 2s 20ms/step - loss: 0.5836 - accuracy: 0.7977 - val_loss: 0.7282 - val_accuracy: 0.7640\n",
      "Epoch 43/50\n",
      "74/74 [==============================] - 2s 20ms/step - loss: 0.5817 - accuracy: 0.7968 - val_loss: 0.7272 - val_accuracy: 0.7680\n",
      "Epoch 44/50\n",
      "74/74 [==============================] - 2s 20ms/step - loss: 0.5767 - accuracy: 0.7975 - val_loss: 0.7222 - val_accuracy: 0.7640\n",
      "Epoch 45/50\n",
      "74/74 [==============================] - 2s 21ms/step - loss: 0.5805 - accuracy: 0.7953 - val_loss: 0.7304 - val_accuracy: 0.7720\n",
      "Epoch 46/50\n",
      "74/74 [==============================] - 2s 22ms/step - loss: 0.5714 - accuracy: 0.7966 - val_loss: 0.7355 - val_accuracy: 0.7680\n",
      "Epoch 47/50\n",
      "74/74 [==============================] - 2s 21ms/step - loss: 0.5700 - accuracy: 0.7983 - val_loss: 0.7288 - val_accuracy: 0.7680\n",
      "Epoch 48/50\n",
      "74/74 [==============================] - 2s 21ms/step - loss: 0.5621 - accuracy: 0.8022 - val_loss: 0.7337 - val_accuracy: 0.7720\n",
      "Epoch 49/50\n",
      "74/74 [==============================] - 2s 22ms/step - loss: 0.5534 - accuracy: 0.8071 - val_loss: 0.7320 - val_accuracy: 0.7720\n",
      "Epoch 50/50\n",
      "74/74 [==============================] - 2s 21ms/step - loss: 0.5538 - accuracy: 0.8022 - val_loss: 0.7362 - val_accuracy: 0.7640\n"
     ]
    }
   ],
   "source": [
    "print(\"Fit model on training data\")\n",
    "history = model.fit(x_train,y_train,batch_size=64,epochs=50,validation_data=(x_val,y_val))"
   ]
  },
  {
   "cell_type": "markdown",
   "metadata": {},
   "source": [
    "## Loss and accuracy plots on training and validation datasets"
   ]
  },
  {
   "cell_type": "code",
   "execution_count": 126,
   "metadata": {},
   "outputs": [
    {
     "data": {
      "text/plain": [
       "<matplotlib.legend.Legend at 0x21444dd0d90>"
      ]
     },
     "execution_count": 126,
     "metadata": {},
     "output_type": "execute_result"
    },
    {
     "data": {
      "image/png": "[encoded data removed]",
      "text/plain": [
       "<Figure size 432x288 with 1 Axes>"
      ]
     },
     "metadata": {
      "needs_background": "light"
     },
     "output_type": "display_data"
    }
   ],
   "source": [
    "plt.xlabel('Epoch Number')\n",
    "plt.ylabel(\"Loss Magnitude\")\n",
    "plt.plot(history.history['val_loss'],'r',label='validation loss')\n",
    "plt.plot(history.history['loss'],'b',label='training loss')\n",
    "plt.legend()"
   ]
  },
  {
   "cell_type": "code",
   "execution_count": 127,
   "metadata": {},
   "outputs": [
    {
     "data": {
      "text/plain": [
       "<matplotlib.legend.Legend at 0x21456101910>"
      ]
     },
     "execution_count": 127,
     "metadata": {},
     "output_type": "execute_result"
    },
    {
     "data": {
      "image/png": "[encoded data removed]",
      "text/plain": [
       "<Figure size 432x288 with 1 Axes>"
      ]
     },
     "metadata": {
      "needs_background": "light"
     },
     "output_type": "display_data"
    }
   ],
   "source": [
    "plt.xlabel('Epoch Number')\n",
    "plt.ylabel(\"Loss Magnitude\")\n",
    "plt.plot(history.history['val_accuracy'],'r',label='validation accuracy')\n",
    "plt.plot(history.history['accuracy'],'b',label='training accuracy')\n",
    "plt.legend()"
   ]
  },
  {
   "cell_type": "markdown",
   "metadata": {},
   "source": [
    "## Evaluate accuracy on test dataset"
   ]
  },
  {
   "cell_type": "code",
   "execution_count": 128,
   "metadata": {},
   "outputs": [
    {
     "name": "stdout",
     "output_type": "stream",
     "text": [
      "8/8 [==============================] - 0s 12ms/step - loss: 0.7362 - accuracy: 0.7640\n",
      "Accuracy on test dataset: 0.7639999985694885\n"
     ]
    }
   ],
   "source": [
    "x_test = final.Skill_US[-250:].to_numpy()\n",
    "y_test = y[-250:]\n",
    "test_loss, test_accuracy = model.evaluate(x_test,y_test)\n",
    "print('Accuracy on test dataset:',test_accuracy)"
   ]
  },
  {
   "cell_type": "markdown",
   "metadata": {},
   "source": [
    "## Predictions on test dataset"
   ]
  },
  {
   "cell_type": "code",
   "execution_count": 129,
   "metadata": {},
   "outputs": [
    {
     "data": {
      "text/html": [
       "<div>\n",
       "<style scoped>\n",
       "    .dataframe tbody tr th:only-of-type {\n",
       "        vertical-align: middle;\n",
       "    }\n",
       "\n",
       "    .dataframe tbody tr th {\n",
       "        vertical-align: top;\n",
       "    }\n",
       "\n",
       "    .dataframe thead th {\n",
       "        text-align: right;\n",
       "    }\n",
       "</style>\n",
       "<table border=\"1\" class=\"dataframe\">\n",
       "  <thead>\n",
       "    <tr style=\"text-align: right;\">\n",
       "      <th></th>\n",
       "      <th>Skill_US</th>\n",
       "      <th>Phases</th>\n",
       "      <th>Predicted Phases</th>\n",
       "    </tr>\n",
       "  </thead>\n",
       "  <tbody>\n",
       "    <tr>\n",
       "      <th>4681</th>\n",
       "      <td>international shipping</td>\n",
       "      <td>Supply Chain and Logistics</td>\n",
       "      <td>Supply Chain and Logistics</td>\n",
       "    </tr>\n",
       "    <tr>\n",
       "      <th>4682</th>\n",
       "      <td>liferay</td>\n",
       "      <td>Software</td>\n",
       "      <td>Software</td>\n",
       "    </tr>\n",
       "    <tr>\n",
       "      <th>4683</th>\n",
       "      <td>disco</td>\n",
       "      <td>Software</td>\n",
       "      <td>Software</td>\n",
       "    </tr>\n",
       "    <tr>\n",
       "      <th>4684</th>\n",
       "      <td>product distribution</td>\n",
       "      <td>Supply Chain and Logistics</td>\n",
       "      <td>Support Activities</td>\n",
       "    </tr>\n",
       "    <tr>\n",
       "      <th>4685</th>\n",
       "      <td>materials testing</td>\n",
       "      <td>Materials</td>\n",
       "      <td>Materials</td>\n",
       "    </tr>\n",
       "    <tr>\n",
       "      <th>...</th>\n",
       "      <td>...</td>\n",
       "      <td>...</td>\n",
       "      <td>...</td>\n",
       "    </tr>\n",
       "    <tr>\n",
       "      <th>4926</th>\n",
       "      <td>brand planning</td>\n",
       "      <td>Support Activities</td>\n",
       "      <td>Support Activities</td>\n",
       "    </tr>\n",
       "    <tr>\n",
       "      <th>4927</th>\n",
       "      <td>ten-key calculator</td>\n",
       "      <td>Support Activities</td>\n",
       "      <td>Support Activities</td>\n",
       "    </tr>\n",
       "    <tr>\n",
       "      <th>4928</th>\n",
       "      <td>behavioral analytics</td>\n",
       "      <td>Support Activities</td>\n",
       "      <td>Support Activities</td>\n",
       "    </tr>\n",
       "    <tr>\n",
       "      <th>4929</th>\n",
       "      <td>dxdesigner</td>\n",
       "      <td>Software</td>\n",
       "      <td>Software</td>\n",
       "    </tr>\n",
       "    <tr>\n",
       "      <th>4930</th>\n",
       "      <td>plotters</td>\n",
       "      <td>Support Activities</td>\n",
       "      <td>Software</td>\n",
       "    </tr>\n",
       "  </tbody>\n",
       "</table>\n",
       "<p>250 rows × 3 columns</p>\n",
       "</div>"
      ],
      "text/plain": [
       "                    Skill_US                      Phases  \\\n",
       "4681  international shipping  Supply Chain and Logistics   \n",
       "4682                 liferay                    Software   \n",
       "4683                   disco                    Software   \n",
       "4684    product distribution  Supply Chain and Logistics   \n",
       "4685       materials testing                   Materials   \n",
       "...                      ...                         ...   \n",
       "4926          brand planning          Support Activities   \n",
       "4927      ten-key calculator          Support Activities   \n",
       "4928    behavioral analytics          Support Activities   \n",
       "4929              dxdesigner                    Software   \n",
       "4930                plotters          Support Activities   \n",
       "\n",
       "                Predicted Phases  \n",
       "4681  Supply Chain and Logistics  \n",
       "4682                    Software  \n",
       "4683                    Software  \n",
       "4684          Support Activities  \n",
       "4685                   Materials  \n",
       "...                          ...  \n",
       "4926          Support Activities  \n",
       "4927          Support Activities  \n",
       "4928          Support Activities  \n",
       "4929                    Software  \n",
       "4930                    Software  \n",
       "\n",
       "[250 rows x 3 columns]"
      ]
     },
     "execution_count": 129,
     "metadata": {},
     "output_type": "execute_result"
    }
   ],
   "source": [
    "predicted_probabilities = model.predict(x_test)\n",
    "predicted_phase = numpy.argmax(predicted_probabilities,axis=-1)\n",
    "df = final[-250:]\n",
    "df = df[['Skill_US','Phases']]\n",
    "df['Predicted Phases'] = predicted_phase\n",
    "df['Predicted Phases'].replace(mydict,inplace=True)\n",
    "df.to_excel('Predictions.xlsx')\n",
    "df"
   ]
  },
  {
   "cell_type": "markdown",
   "metadata": {},
   "source": [
    "## NaNs"
   ]
  },
  {
   "cell_type": "code",
   "execution_count": 130,
   "metadata": {},
   "outputs": [
    {
     "data": {
      "text/plain": [
       "Tooling and Machining         200\n",
       "Support Activities            172\n",
       "Design                        172\n",
       "Supply Chain and Logistics    137\n",
       "Production and Assembly       109\n",
       "Materials                      39\n",
       "Software                       20\n",
       "Ideation and Development        4\n",
       "General Skills                  4\n",
       "Name: Phases, dtype: int64"
      ]
     },
     "execution_count": 130,
     "metadata": {},
     "output_type": "execute_result"
    }
   ],
   "source": [
    "dfnan = original.copy()\n",
    "dfnan = dfnan.loc[coded.Phases.isna()]\n",
    "dfnan.loc[(dfnan.Phases.isna())&(dfnan.Skill_US.str.contains('design'))&(~dfnan.Skill_US.str.contains('supply'))&(~dfnan.Skill_US.str.contains('sales')),'Phases'] = 'Design'\n",
    "dfnan.loc[(dfnan.Phases.isna())&(dfnan.Skill_US.str.contains('skills')),'Phases'] = 'General Skills'\n",
    "dfnan.loc[(dfnan.Phases.isna())&(dfnan.Skill_US.str.contains('discover')),'Phases'] = 'Ideation and Development'\n",
    "dfnan.loc[(dfnan.Phases.isna())&(dfnan.Skill_US.str.contains('prototyp')),'Phases'] = 'Ideation and Development'\n",
    "dfnan.loc[(dfnan.Phases.isna())&(dfnan.Skill_US.str.contains('material'))&(~dfnan.Skill_US.str.contains('design'))&(~dfnan.Skill_US.str.contains('inventory'))&(~dfnan.Skill_US.str.contains('manufactur'))&(~dfnan.Skill_US.str.contains('procurement'))&(~dfnan.Skill_US.str.contains('purchas')),'Phases'] = 'Materials'\n",
    "dfnan.loc[(dfnan.Phases.isna())&(dfnan.Skill_US.str.contains('brazing'))&(~dfnan.Skill_US.str.contains('design'))&(~dfnan.Skill_US.str.contains('equipment'))&(~dfnan.Skill_US.str.contains('machine')),'Phases'] = 'Production and Assembly'\n",
    "dfnan.loc[(dfnan.Phases.isna())&(dfnan.Skill_US.str.contains('manufactur'))&(~dfnan.Skill_US.str.contains('design'))&(~dfnan.Skill_US.str.contains('equipment'))&(~dfnan.Skill_US.str.contains('machine')),'Phases'] = 'Production and Assembly'\n",
    "dfnan.loc[(dfnan.Phases.isna())&(dfnan.Skill_US.str.contains('production'))&(~dfnan.Skill_US.str.contains('design'))&(~dfnan.Skill_US.str.contains('equipment'))&(~dfnan.Skill_US.str.contains('machine')),'Phases'] = 'Production and Assembly'\n",
    "dfnan.loc[(dfnan.Phases.isna())&(dfnan.Skill_US.str.contains('soldering'))&(~dfnan.Skill_US.str.contains('design'))&(~dfnan.Skill_US.str.contains('equipment'))&(~dfnan.Skill_US.str.contains('machine')),'Phases'] = 'Production and Assembly'\n",
    "dfnan.loc[(dfnan.Phases.isna())&(dfnan.Skill_US.str.contains('welding'))&(~dfnan.Skill_US.str.contains('design'))&(~dfnan.Skill_US.str.contains('equipment'))&(~dfnan.Skill_US.str.contains('machine')),'Phases'] = 'Production and Assembly'\n",
    "dfnan.loc[(dfnan.Phases.isna())&(dfnan.Skill_US.str.contains('software')),'Phases'] = 'Software'\n",
    "dfnan.loc[(dfnan.Phases.isna())&(dfnan.Skill_US.str.contains('inventory'))&(~dfnan.Skill_US.str.contains('manufactur'))&(~dfnan.Skill_US.str.contains('market')),'Phases'] = 'Supply Chain and Logistics'\n",
    "dfnan.loc[(dfnan.Phases.isna())&(dfnan.Skill_US.str.contains('procurement'))&(~dfnan.Skill_US.str.contains('manufactur'))&(~dfnan.Skill_US.str.contains('market')),'Phases'] = 'Supply Chain and Logistics'\n",
    "dfnan.loc[(dfnan.Phases.isna())&(dfnan.Skill_US.str.contains('purchas'))&(~dfnan.Skill_US.str.contains('manufactur'))&(~dfnan.Skill_US.str.contains('market')),'Phases'] = 'Supply Chain and Logistics'\n",
    "dfnan.loc[(dfnan.Phases.isna())&(dfnan.Skill_US.str.contains('supplier'))&(~dfnan.Skill_US.str.contains('manufactur'))&(~dfnan.Skill_US.str.contains('market')),'Phases'] = 'Supply Chain and Logistics'\n",
    "dfnan.loc[(dfnan.Phases.isna())&(dfnan.Skill_US.str.contains('supply'))&(~dfnan.Skill_US.str.contains('manufactur'))&(~dfnan.Skill_US.str.contains('market')),'Phases'] = 'Supply Chain and Logistics'\n",
    "dfnan.loc[(dfnan.Phases.isna())&(dfnan.Skill_US.str.contains('stock'))&(~dfnan.Skill_US.str.contains('manufactur'))&(~dfnan.Skill_US.str.contains('market')),'Phases'] = 'Supply Chain and Logistics'\n",
    "dfnan.loc[(dfnan.Phases.isna())&(dfnan.Skill_US.str.contains('management')),'Phases'] = 'Support Activities'\n",
    "dfnan.loc[(dfnan.Phases.isna())&(dfnan.Skill_US.str.contains('device'))&(~dfnan.Skill_US.str.contains('design'))&(~dfnan.Skill_US.str.contains('sales')),'Phases'] = 'Tooling and Machining'\n",
    "dfnan.loc[(dfnan.Phases.isna())&(dfnan.Skill_US.str.contains('equipment'))&(~dfnan.Skill_US.str.contains('design'))&(~dfnan.Skill_US.str.contains('sales')),'Phases'] = 'Tooling and Machining'\n",
    "dfnan.loc[(dfnan.Phases.isna())&(dfnan.Skill_US.str.contains('instrument'))&(~dfnan.Skill_US.str.contains('design'))&(~dfnan.Skill_US.str.contains('sales')),'Phases'] = 'Tooling and Machining'\n",
    "dfnan.loc[(dfnan.Phases.isna())&(dfnan.Skill_US.str.contains('machine'))&(~dfnan.Skill_US.str.contains('design'))&(~dfnan.Skill_US.str.contains('sales')),'Phases'] = 'Tooling and Machining'\n",
    "dfnan.loc[(dfnan.Phases.isna())&(dfnan.Skill_US.str.contains('machine'))&(~dfnan.Skill_US.str.contains('design'))&(~dfnan.Skill_US.str.contains('sales')),'Phases'] = 'Tooling and Machining'\n",
    "dfnan.loc[(dfnan.Phases.isna())&(dfnan.Skill_US.str.contains('repair'))&(~dfnan.Skill_US.str.contains('design'))&(~dfnan.Skill_US.str.contains('sales')),'Phases'] = 'Tooling and Machining'\n",
    "dfnan.loc[(dfnan.Phases.isna())&(dfnan.Skill_US.str.contains('vehicle'))&(~dfnan.Skill_US.str.contains('design'))&(~dfnan.Skill_US.str.contains('sales')),'Phases'] = 'Tooling and Machining'\n",
    "dfnan = dfnan.dropna(subset=['Phases'])\n",
    "len(dfnan)\n",
    "dfnan.Phases.value_counts()"
   ]
  },
  {
   "cell_type": "markdown",
   "metadata": {},
   "source": [
    "## Accuracy on NaNs dataset"
   ]
  },
  {
   "cell_type": "code",
   "execution_count": 131,
   "metadata": {},
   "outputs": [
    {
     "name": "stdout",
     "output_type": "stream",
     "text": [
      "27/27 [==============================] - 0s 13ms/step - loss: 1.1163 - accuracy: 0.6324\n",
      "Accuracy on nans dataset: 0.6324387192726135\n"
     ]
    }
   ],
   "source": [
    "x_nan = dfnan.Skill_US.to_numpy()\n",
    "y_nan = dfnan.Phases.str.get_dummies()\n",
    "y_nan = y_nan.to_numpy()\n",
    "nan_loss, nan_accuracy = model.evaluate(x_nan,y_nan)\n",
    "print('Accuracy on nans dataset:',nan_accuracy)"
   ]
  },
  {
   "cell_type": "markdown",
   "metadata": {},
   "source": [
    "## Predictions on NaNs dataset"
   ]
  },
  {
   "cell_type": "code",
   "execution_count": 132,
   "metadata": {},
   "outputs": [
    {
     "data": {
      "text/html": [
       "<div>\n",
       "<style scoped>\n",
       "    .dataframe tbody tr th:only-of-type {\n",
       "        vertical-align: middle;\n",
       "    }\n",
       "\n",
       "    .dataframe tbody tr th {\n",
       "        vertical-align: top;\n",
       "    }\n",
       "\n",
       "    .dataframe thead th {\n",
       "        text-align: right;\n",
       "    }\n",
       "</style>\n",
       "<table border=\"1\" class=\"dataframe\">\n",
       "  <thead>\n",
       "    <tr style=\"text-align: right;\">\n",
       "      <th></th>\n",
       "      <th>Skill_US</th>\n",
       "      <th>Phases</th>\n",
       "      <th>Predicted Phases</th>\n",
       "    </tr>\n",
       "  </thead>\n",
       "  <tbody>\n",
       "    <tr>\n",
       "      <th>5</th>\n",
       "      <td>energy management</td>\n",
       "      <td>Support Activities</td>\n",
       "      <td>Support Activities</td>\n",
       "    </tr>\n",
       "    <tr>\n",
       "      <th>24</th>\n",
       "      <td>water distribution system design</td>\n",
       "      <td>Design</td>\n",
       "      <td>Software</td>\n",
       "    </tr>\n",
       "    <tr>\n",
       "      <th>26</th>\n",
       "      <td>materials management applications</td>\n",
       "      <td>Materials</td>\n",
       "      <td>Software</td>\n",
       "    </tr>\n",
       "    <tr>\n",
       "      <th>33</th>\n",
       "      <td>electrical testing instruments</td>\n",
       "      <td>Tooling and Machining</td>\n",
       "      <td>Tooling and Machining</td>\n",
       "    </tr>\n",
       "    <tr>\n",
       "      <th>45</th>\n",
       "      <td>leadership in energy and environmental design ...</td>\n",
       "      <td>Design</td>\n",
       "      <td>Design</td>\n",
       "    </tr>\n",
       "    <tr>\n",
       "      <th>...</th>\n",
       "      <td>...</td>\n",
       "      <td>...</td>\n",
       "      <td>...</td>\n",
       "    </tr>\n",
       "    <tr>\n",
       "      <th>11783</th>\n",
       "      <td>spectrum management</td>\n",
       "      <td>Support Activities</td>\n",
       "      <td>Support Activities</td>\n",
       "    </tr>\n",
       "    <tr>\n",
       "      <th>11879</th>\n",
       "      <td>connected vehicle security</td>\n",
       "      <td>Tooling and Machining</td>\n",
       "      <td>Software</td>\n",
       "    </tr>\n",
       "    <tr>\n",
       "      <th>11928</th>\n",
       "      <td>ics/ot threat and vulnerability management</td>\n",
       "      <td>Support Activities</td>\n",
       "      <td>Software</td>\n",
       "    </tr>\n",
       "    <tr>\n",
       "      <th>11936</th>\n",
       "      <td>iot device management</td>\n",
       "      <td>Support Activities</td>\n",
       "      <td>Software</td>\n",
       "    </tr>\n",
       "    <tr>\n",
       "      <th>11937</th>\n",
       "      <td>iot device security</td>\n",
       "      <td>Tooling and Machining</td>\n",
       "      <td>Software</td>\n",
       "    </tr>\n",
       "  </tbody>\n",
       "</table>\n",
       "<p>857 rows × 3 columns</p>\n",
       "</div>"
      ],
      "text/plain": [
       "                                                Skill_US  \\\n",
       "5                                      energy management   \n",
       "24                      water distribution system design   \n",
       "26                     materials management applications   \n",
       "33                        electrical testing instruments   \n",
       "45     leadership in energy and environmental design ...   \n",
       "...                                                  ...   \n",
       "11783                                spectrum management   \n",
       "11879                         connected vehicle security   \n",
       "11928         ics/ot threat and vulnerability management   \n",
       "11936                              iot device management   \n",
       "11937                                iot device security   \n",
       "\n",
       "                      Phases       Predicted Phases  \n",
       "5         Support Activities     Support Activities  \n",
       "24                    Design               Software  \n",
       "26                 Materials               Software  \n",
       "33     Tooling and Machining  Tooling and Machining  \n",
       "45                    Design                 Design  \n",
       "...                      ...                    ...  \n",
       "11783     Support Activities     Support Activities  \n",
       "11879  Tooling and Machining               Software  \n",
       "11928     Support Activities               Software  \n",
       "11936     Support Activities               Software  \n",
       "11937  Tooling and Machining               Software  \n",
       "\n",
       "[857 rows x 3 columns]"
      ]
     },
     "execution_count": 132,
     "metadata": {},
     "output_type": "execute_result"
    }
   ],
   "source": [
    "predicted_probabilities = model.predict(x_nan)\n",
    "predicted_phase = numpy.argmax(predicted_probabilities,axis=-1)\n",
    "dfnan = dfnan[['Skill_US','Phases']]\n",
    "dfnan['Predicted Phases'] = predicted_phase\n",
    "dfnan['Predicted Phases'].replace(mydict,inplace=True)\n",
    "dfnan.to_excel('Predictions_nan.xlsx')\n",
    "dfnan"
   ]
  },
  {
   "cell_type": "markdown",
   "metadata": {},
   "source": [
    "## Predictions on all 12,016"
   ]
  },
  {
   "cell_type": "code",
   "execution_count": 135,
   "metadata": {},
   "outputs": [],
   "source": [
    "ML = original.copy()\n",
    "predicted_probabilities = model.predict(ML.Skill_US.to_numpy())\n",
    "predicted_phase = numpy.argmax(predicted_probabilities,axis=-1)\n",
    "ML['ML Phases'] = predicted_phase\n",
    "ML['ML Phases'].replace(mydict,inplace=True)\n",
    "ML.to_excel('ML.xlsx')"
   ]
  },
  {
   "cell_type": "markdown",
   "metadata": {},
   "source": [
    "## Get files for the tensorflow projector"
   ]
  },
  {
   "cell_type": "code",
   "execution_count": 37,
   "metadata": {},
   "outputs": [],
   "source": [
    "import io\n",
    "out_v = io.open('vecs.tsv','w',encoding='utf-8')\n",
    "out_m = io.open('meta.tsv','w',encoding='utf-8')\n",
    "weights = layer_0.get_weights()[0]\n",
    "for i,phrase in enumerate(final.Skill_US):\n",
    "  embeddings = weights[i]\n",
    "  out_m.write(phrase + '\\n')\n",
    "  out_v.write('\\t'.join([str(x) for x in embeddings]) + '\\n')\n",
    "out_v.close()\n",
    "out_m.close()"
   ]
  },
  {
   "cell_type": "code",
   "execution_count": null,
   "metadata": {},
   "outputs": [],
   "source": [
    "plt.xlabel('Epoch Number')\n",
    "plt.ylabel(\"Loss Magnitude\")\n",
    "plt.plot(history.history['loss'])"
   ]
  },
  {
   "cell_type": "code",
   "execution_count": null,
   "metadata": {},
   "outputs": [],
   "source": [
    "coded.loc[(coded.SkillClusterFamily=='agriculture, horticulture, and the outdoors'),'Phases'] = 'Industry-Specific'\n",
    "coded.loc[(coded.SkillClusterFamily=='architecture and construction'),'Phases'] = 'Industry-Specific'\n",
    "coded.loc[(coded.SkillCluster=='bioinformatics'),'Phases'] = 'Industry-Specific'\n",
    "coded.loc[(coded.SkillCluster=='biology'),'Phases'] = 'Industry-Specific'\n",
    "coded.loc[(coded.SkillCluster=='biopharmaceutical manufacturing'),'Phases'] = 'Industry-Specific'\n",
    "coded.loc[(coded.SkillClusterFamily=='economics, policy, and social studies'),'Phases'] = 'Industry-Specific'\n",
    "coded.loc[(coded.SkillClusterFamily=='education and training')&(coded.SkillCluster!='foreign and language skills')&(coded.SkillCluster!='training programs'),'Phases'] = 'Industry-Specific'\n",
    "coded.loc[(coded.SkillClusterFamily=='energy and utilities'),'Phases'] = 'Industry-Specific'\n",
    "coded.loc[(coded.SkillClusterFamily=='engineering')&(coded.SkillCluster!='automation engineering')&(coded.SkillCluster!='analog design')&(coded.SkillCluster!='drafting and engineering design')&(coded.SkillCluster!='process engineering')&(coded.SkillCluster!='robotics')&(coded.SkillCluster!='simulation')&(coded.SkillCluster!='simulation software'),'Phases'] = 'Industry-Specific'\n",
    "coded.loc[(coded.SkillClusterFamily=='environment'),'Phases'] = 'Industry-Specific'\n",
    "coded.loc[(coded.SkillCluster=='genetics'),'Phases'] = 'Industry-Specific'\n",
    "coded.loc[(coded.SkillClusterFamily=='health Care')&(coded.SkillCluster!='physical abilities'),'Phases'] = 'Industry-Specific'\n",
    "coded.loc[(coded.SkillClusterFamily=='industry knowledge')&(coded.SkillCluster!='aluminium industry knowledge')&(coded.SkillCluster!='chemical industry knowledge')&(coded.SkillCluster!='engineering industry knowledge')&(coded.SkillCluster!='metal industy industry knowledge')&(coded.SkillCluster!='plastics material industry knowledge'),'Phases'] = 'Industry-Specific'\n",
    "coded.loc[(coded.SkillClusterFamily=='media and writing'),'Phases'] = 'Industry-Specific'\n",
    "coded.loc[(coded.SkillClusterFamily=='personal care and services'),'Phases'] = 'Industry-Specific'\n",
    "coded.loc[(coded.SkillClusterFamily=='public safety and national Security'),'Phases'] = 'Industry-Specific'\n",
    "coded.loc[(coded.SkillClusterFamily=='religion'),'Phases'] = 'Industry-Specific'"
   ]
  }
 ],
 "metadata": {
  "kernelspec": {
   "display_name": "Python 3 (ipykernel)",
   "language": "python",
   "name": "python3"
  },
  "language_info": {
   "codemirror_mode": {
    "name": "ipython",
    "version": 3
   },
   "file_extension": ".py",
   "mimetype": "text/x-python",
   "name": "python",
   "nbconvert_exporter": "python",
   "pygments_lexer": "ipython3",
   "version": "3.9.6"
  }
 },
 "nbformat": 4,
 "nbformat_minor": 4
}
