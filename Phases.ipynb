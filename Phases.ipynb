{
 "cells": [
  {
   "cell_type": "code",
   "execution_count": 1,
   "metadata": {},
   "outputs": [],
   "source": [
    "import pandas\n",
    "import numpy\n",
    "import openpyxl\n",
    "import tensorflow as tf\n",
    "import tensorflow_hub as hub\n",
    "from tensorflow import keras\n",
    "from tensorflow.keras import regularizers\n",
    "import matplotlib.pyplot as plt"
   ]
  },
  {
   "cell_type": "markdown",
   "metadata": {},
   "source": [
    "### Manufacturing sample"
   ]
  },
  {
   "cell_type": "code",
   "execution_count": 2,
   "metadata": {},
   "outputs": [
    {
     "name": "stdout",
     "output_type": "stream",
     "text": [
      "4416837 initial postings\n",
      "1131600 postings with missing Employer\n",
      "3285237 postings with nonmissing Employer\n",
      "BGTJobId           int64\n",
      "JobDate           object\n",
      "CleanTitle        object\n",
      "CanonTitle        object\n",
      "SOC                int64\n",
      "SOCName           object\n",
      "ONET              object\n",
      "ONETName          object\n",
      "Employer          object\n",
      "Sector            object\n",
      "SectorName        object\n",
      "NAICS3           float64\n",
      "NAICS4           float64\n",
      "NAICS5           float64\n",
      "NAICS6           float64\n",
      "City              object\n",
      "County            object\n",
      "State             object\n",
      "Lat              float64\n",
      "Lon              float64\n",
      "Edu              float64\n",
      "MaxEdu           float64\n",
      "Degree            object\n",
      "MaxDegree         object\n",
      "Exp              float64\n",
      "MaxExp           float64\n",
      "MinSalary        float64\n",
      "MaxSalary        float64\n",
      "MinHrlySalary    float64\n",
      "MaxHrlySalary    float64\n",
      "PayFrequency      object\n",
      "SalaryType        object\n",
      "JobHours          object\n",
      "SOC2               int64\n",
      "SOC4               int64\n",
      "SOC5               int64\n",
      "SK                object\n",
      "dtype: object\n",
      "162                                  planning,purchasing\n",
      "163    positive disposition,repair,communication skil...\n",
      "164    product sales,microsoft excel,proposal writing...\n",
      "165    clinical development,performance management,pr...\n",
      "166    ansys,nastran,mechanical engineering,nastran /...\n",
      "Name: SK, dtype: object\n"
     ]
    }
   ],
   "source": [
    "data = pandas.read_csv('D:/BG/Paper_2/Data/Downloading/SKILL.txt', sep='\\t')\n",
    "data = data.sort_values(['JobDate','BGTJobId'], ascending=[True, True])\n",
    "print('{} initial postings'.format(data.shape[0]))\n",
    "print('{} postings with missing Employer'.format(data.Employer.isna().sum()))\n",
    "print('{} postings with nonmissing Employer'.format(data.shape[0]-data.Employer.isna().sum()))\n",
    "print(data.dtypes)\n",
    "print(data.SK[0:5])"
   ]
  },
  {
   "cell_type": "code",
   "execution_count": 3,
   "metadata": {},
   "outputs": [
    {
     "name": "stdout",
     "output_type": "stream",
     "text": [
      "4416837 Postings in Manufacturing sample\n",
      "[['planning', 'purchasing'], ['positive disposition', 'repair', 'communication skills', 'verbal / oral communication', 'welding', 'system maintenance'], ['product sales', 'microsoft excel', 'proposal writing', 'scheduling', 'staff management', 'planning', 'technical training', 'customer contact', 'customer service', 'project planning and development skills', 'microsoft project', 'supervisory skills'], ['clinical development', 'performance management', 'project management', 'research', 'pharmacology', 'creativity', 'budgeting', 'mentoring', 'writing', 'due diligence', 'problem solving', 'teamwork / collaboration', 'building effective relationships', 'clinical trials', 'drug development'], ['ansys', 'nastran', 'mechanical engineering', 'nastran / patran', 'system design', 'finite element method / analysis software', 'communication skills', 'ls-dyna', 'finite element analysis', 'cad / cam (computer-aided design / manufacturing)', 'troubleshooting', 'unigraphics']]\n",
      "50122510 Terms in Manufacturing sample\n",
      "12015 Unique terms in Manufacturing sample after removing na\n"
     ]
    }
   ],
   "source": [
    "BoW = data['SK']\n",
    "BoW = [job.replace('colleterallized loan obligation (clo)','collateralized loan obligations (clos)') for job in BoW]\n",
    "BoW = [job.split(',') for job in BoW]\n",
    "print(len(BoW),'Postings in Manufacturing sample')\n",
    "print(BoW[0:5])\n",
    "BoW = [term for job in BoW for term in job]\n",
    "BoW = [term for term in BoW if term!='na']\n",
    "print(len(BoW),'Terms in Manufacturing sample')\n",
    "print(len(list(set(BoW))),'Unique terms in Manufacturing sample after removing na')\n",
    "skills = pandas.DataFrame(list(set(BoW)),columns=['Skill_US'])"
   ]
  },
  {
   "cell_type": "markdown",
   "metadata": {},
   "source": [
    "## Annotation\n"
   ]
  },
  {
   "cell_type": "code",
   "execution_count": 35,
   "metadata": {},
   "outputs": [
    {
     "name": "stdout",
     "output_type": "stream",
     "text": [
      "12015 terms to label\n",
      "4931 labelled\n",
      "Software                      1877\n",
      "Support Activities            1833\n",
      "Tooling and Machining          290\n",
      "Supply Chain and Logistics     250\n",
      "Ideation and Development       170\n",
      "Design                         163\n",
      "Materials                      120\n",
      "Production and Assembling      119\n",
      "General Skills                 109\n",
      "Name: Phases, dtype: int64\n"
     ]
    }
   ],
   "source": [
    "original = pandas.read_csv('All_Skills_US.csv',sep=',')\n",
    "original['Skill_US'] = original['Skill_US'].str.lower()\n",
    "original['Skill_US'] = original['Skill_US'].str.replace(r',','',regex=True)\n",
    "original['SkillClusterFamily'] = original['SkillClusterFamily'].str.lower()\n",
    "original['SkillCluster'] = original['SkillCluster'].str.lower()\n",
    "original = original.merge(skills,on='Skill_US',how='right')\n",
    "print(len(original),'terms to label')\n",
    "original['SkillId'] = original['SkillId'].astype('int')\n",
    "original = original.sort_values('SkillId').reset_index(drop=True)\n",
    "original['Phases'] = numpy.nan\n",
    "\n",
    "original.loc[(original.SkillCluster=='analog design'),'Phases'] = 'Design'\n",
    "original.loc[(original.SkillClusterFamily=='design'),'Phases'] = 'Design'\n",
    "original.loc[(original.SkillCluster=='drafting and engineering design'),'Phases'] = 'Design'\n",
    "\n",
    "original.loc[(original.IsBaseline==1)&(original.IsSoftware==0),'Phases'] = 'General Skills'\n",
    "original.loc[(original.SkillCluster=='foreign language skills'),'Phases'] = 'General Skills'\n",
    "original.loc[(original.SkillCluster=='physical abilities'),'Phases'] = 'General Skills'\n",
    "\n",
    "original.loc[(original.SkillCluster=='company product and service knowledge'),'Phases'] = 'Ideation and Development'\n",
    "original.loc[(original.SkillCluster=='concept development'),'Phases'] = 'Ideation and Development'\n",
    "original.loc[(original.SkillCluster=='engineering processes'),'Phases'] = 'Ideation and Development'\n",
    "original.loc[(original.SkillCluster=='engineering software'),'Phases'] = 'Ideation and Development'\n",
    "original.loc[(original.SkillCluster=='mathematical modeling'),'Phases'] = 'Ideation and Development'\n",
    "original.loc[(original.SkillCluster=='product development'),'Phases'] = 'Ideation and Development'\n",
    "original.loc[(original.SkillCluster=='research methodology'),'Phases'] = 'Ideation and Development'\n",
    "original.loc[(original.SkillCluster=='simulation'),'Phases'] = 'Ideation and Development'\n",
    "original.loc[(original.SkillCluster=='simulation software'),'Phases'] = 'Ideation and Development'\n",
    "original.loc[(original.Phases.isna())&(original.Skill_US.str.contains('develop')),'Phases'] = 'Ideation and Development'\n",
    "\n",
    "original.loc[(original.SkillCluster=='aluminium industry knowledge'),'Phases'] = 'Materials'\n",
    "original.loc[(original.SkillCluster=='cellular biology'),'Phases'] = 'Materials'\n",
    "original.loc[(original.SkillCluster=='chemical analysis'),'Phases'] = 'Materials'\n",
    "original.loc[(original.SkillCluster=='chemical industry knowledge'),'Phases'] = 'Materials'\n",
    "original.loc[(original.SkillCluster=='chemistry'),'Phases'] = 'Materials'\n",
    "original.loc[(original.SkillCluster=='materials process'),'Phases'] = 'Materials'\n",
    "original.loc[(original.SkillCluster=='materials science'),'Phases'] = 'Materials'\n",
    "original.loc[(original.SkillCluster=='metal industy industry knowledge'),'Phases'] = 'Materials'\n",
    "original.loc[(original.SkillCluster=='molecular biology'),'Phases'] = 'Materials'\n",
    "original.loc[(original.SkillCluster=='physics'),'Phases'] = 'Materials'\n",
    "original.loc[(original.SkillCluster=='plastics material industry knowledge'),'Phases'] = 'Materials'\n",
    "original.loc[(original.SkillCluster=='process engineering'),'Phases'] = 'Materials'\n",
    "\n",
    "original.loc[(original.SkillClusterFamily=='manufacturing and production')&(original.SkillCluster!='computer-aided manufacturing')&(original.SkillCluster!='equipment acquisition standards')&(original.SkillCluster!='machine tools')&(original.SkillCluster!='machinery')&(original.SkillCluster!='materials process')&(original.SkillCluster!='materials science')&(original.SkillCluster!='product development'),'Phases'] = 'Production and Assembling'\n",
    "                                                      \n",
    "original.loc[(original.SkillCluster=='automation engineering'),'Phases'] = 'Tooling and Machining'\n",
    "original.loc[(original.SkillCluster=='machine tools'),'Phases'] = 'Tooling and Machining'\n",
    "original.loc[(original.SkillCluster=='machinery'),'Phases'] = 'Tooling and Machining'\n",
    "original.loc[(original.SkillCluster=='equipment acquisition standards'),'Phases'] = 'Tooling and Machining'\n",
    "original.loc[(original.SkillClusterFamily=='maintenance, repair, and installation'),'Phases'] = 'Tooling and Machining'\n",
    "original.loc[(original.SkillCluster=='robotics'),'Phases'] = 'Tooling and Machining'\n",
    "original.loc[(original.SkillCluster=='computer-aided manufacturing'),'Phases'] = 'Tooling and Machining'\n",
    "\n",
    "original.loc[(original.SkillClusterFamily=='information technology'),'Phases'] = 'Software'\n",
    "original.loc[(original.IsSoftware==1)&(original.Phases.isna()),'Phases'] = 'Software'\n",
    "\n",
    "original.loc[(original.SkillClusterFamily=='supply chain and logistics'),'Phases'] = 'Supply Chain and Logistics'\n",
    "original.loc[(original.SkillCluster=='supply chain and logistics industry knowledge'),'Phases'] = 'Supply Chain and Logistics'\n",
    "\n",
    "original.loc[(original.SkillClusterFamily=='accounting'),'Phases'] = 'Support Activities'\n",
    "original.loc[(original.SkillClusterFamily=='administration'),'Phases'] = 'Support Activities'\n",
    "original.loc[(original.SkillClusterFamily=='analysis')&(original.SkillCluster!='mathematical modeling'),'Phases'] = 'Support Activities'\n",
    "original.loc[(original.SkillClusterFamily=='business'),'Phases'] = 'Support Activities'\n",
    "original.loc[(original.SkillClusterFamily=='customer and client support'),'Phases'] = 'Support Activities'\n",
    "original.loc[(original.SkillClusterFamily=='finance'),'Phases'] = 'Support Activities'\n",
    "original.loc[(original.SkillClusterFamily=='human resources'),'Phases'] = 'Support Activities'\n",
    "original.loc[(original.SkillClusterFamily=='legal'),'Phases'] = 'Support Activities'\n",
    "original.loc[(original.SkillClusterFamily=='marketing and public relations')&(original.SkillCluster!='concept development'),'Phases'] = 'Support Activities'\n",
    "original.loc[(original.SkillClusterFamily=='sales')&(original.SkillCluster!='company product and service knowledge'),'Phases'] = 'Support Activities'\n",
    "original.loc[(original.SkillCluster=='surveying'),'Phases'] = 'Support Activities'\n",
    "original.loc[(original.SkillCluster=='surveys'),'Phases'] = 'Support Activities'\n",
    "original.loc[(original.SkillCluster=='training programs'),'Phases'] = 'Support Activities'\n",
    "\n",
    "original.to_csv('Phases-annotated.csv',index=False)\n",
    "final = original.dropna()\n",
    "final = final.sample(frac=1).reset_index(drop=True)\n",
    "print(len(final),'labelled')\n",
    "print(final.Phases.value_counts())"
   ]
  },
  {
   "cell_type": "markdown",
   "metadata": {},
   "source": [
    "## Dense layers"
   ]
  },
  {
   "cell_type": "code",
   "execution_count": 36,
   "metadata": {},
   "outputs": [],
   "source": [
    "embedding = \"https://tfhub.dev/google/universal-sentence-encoder/4\"\n",
    "l0 = hub.KerasLayer(embedding,input_shape=[],dtype=tf.string,trainable=False)\n",
    "l1 = tf.keras.layers.Dropout(rate=0.1)\n",
    "l2 = tf.keras.layers.Dense(units=18,activation='relu')\n",
    "l3 = tf.keras.layers.Dropout(rate=0.1)\n",
    "l4 = tf.keras.layers.Dense(units=9,activation='softmax')"
   ]
  },
  {
   "cell_type": "code",
   "execution_count": 37,
   "metadata": {},
   "outputs": [
    {
     "data": {
      "text/plain": [
       "<tf.Tensor: shape=(2, 512), dtype=float32, numpy=\n",
       "array([[-0.01352593, -0.04137931, -0.03572562, ...,  0.00144605,\n",
       "         0.03580635, -0.03725556],\n",
       "       [ 0.01181236,  0.07083593, -0.00576556, ..., -0.0054428 ,\n",
       "        -0.04420812,  0.03615686]], dtype=float32)>"
      ]
     },
     "execution_count": 37,
     "metadata": {},
     "output_type": "execute_result"
    }
   ],
   "source": [
    "l0(final.Skill_US[0:2].to_numpy())"
   ]
  },
  {
   "cell_type": "code",
   "execution_count": 38,
   "metadata": {},
   "outputs": [
    {
     "name": "stdout",
     "output_type": "stream",
     "text": [
      "Model: \"sequential_3\"\n",
      "_________________________________________________________________\n",
      "Layer (type)                 Output Shape              Param #   \n",
      "=================================================================\n",
      "keras_layer_3 (KerasLayer)   (None, 512)               256797824 \n",
      "_________________________________________________________________\n",
      "dropout_6 (Dropout)          (None, 512)               0         \n",
      "_________________________________________________________________\n",
      "dense_6 (Dense)              (None, 18)                9234      \n",
      "_________________________________________________________________\n",
      "dropout_7 (Dropout)          (None, 18)                0         \n",
      "_________________________________________________________________\n",
      "dense_7 (Dense)              (None, 9)                 171       \n",
      "=================================================================\n",
      "Total params: 256,807,229\n",
      "Trainable params: 9,405\n",
      "Non-trainable params: 256,797,824\n",
      "_________________________________________________________________\n",
      "None\n"
     ]
    }
   ],
   "source": [
    "model = tf.keras.Sequential([l0,l1,l2,l3,l4])\n",
    "print(model.summary())\n",
    "model.compile(optimizer='adam',loss='categorical_crossentropy',metrics=['accuracy'])"
   ]
  },
  {
   "cell_type": "markdown",
   "metadata": {},
   "source": [
    "## Labels"
   ]
  },
  {
   "cell_type": "code",
   "execution_count": 39,
   "metadata": {},
   "outputs": [
    {
     "name": "stdout",
     "output_type": "stream",
     "text": [
      "Index(['Design', 'General Skills', 'Ideation and Development', 'Materials',\n",
      "       'Production and Assembling', 'Software', 'Supply Chain and Logistics',\n",
      "       'Support Activities', 'Tooling and Machining'],\n",
      "      dtype='object')\n"
     ]
    },
    {
     "data": {
      "text/plain": [
       "{0: 'Design',\n",
       " 1: 'General Skills',\n",
       " 2: 'Ideation and Development',\n",
       " 3: 'Materials',\n",
       " 4: 'Production and Assembling',\n",
       " 5: 'Software',\n",
       " 6: 'Supply Chain and Logistics',\n",
       " 7: 'Support Activities',\n",
       " 8: 'Tooling and Machining'}"
      ]
     },
     "execution_count": 39,
     "metadata": {},
     "output_type": "execute_result"
    }
   ],
   "source": [
    "y = final.Phases.str.get_dummies()\n",
    "labels = y.columns\n",
    "print(labels)\n",
    "mydict = dict(enumerate(labels))\n",
    "mydict"
   ]
  },
  {
   "cell_type": "markdown",
   "metadata": {},
   "source": [
    "## Splitting the sample (training and validation)"
   ]
  },
  {
   "cell_type": "code",
   "execution_count": 40,
   "metadata": {},
   "outputs": [],
   "source": [
    "y = y.to_numpy()\n",
    "y_train = y\n",
    "y_val = y_train[-250:]\n",
    "y_train = y_train[:-250]\n",
    "x_train = final.Skill_US.to_numpy()\n",
    "x_val = x_train[-250:]\n",
    "x_train = x_train[:-250]"
   ]
  },
  {
   "cell_type": "code",
   "execution_count": 41,
   "metadata": {},
   "outputs": [
    {
     "name": "stdout",
     "output_type": "stream",
     "text": [
      "Fit model on training data\n",
      "Epoch 1/50\n",
      "74/74 [==============================] - 6s 18ms/step - loss: 1.9011 - accuracy: 0.4768 - val_loss: 1.5214 - val_accuracy: 0.6000\n",
      "Epoch 2/50\n",
      "74/74 [==============================] - 1s 13ms/step - loss: 1.4003 - accuracy: 0.5986 - val_loss: 1.1967 - val_accuracy: 0.6600\n",
      "Epoch 3/50\n",
      "74/74 [==============================] - 1s 13ms/step - loss: 1.1897 - accuracy: 0.6285 - val_loss: 1.0495 - val_accuracy: 0.6800\n",
      "Epoch 4/50\n",
      "74/74 [==============================] - 1s 15ms/step - loss: 1.0755 - accuracy: 0.6441 - val_loss: 0.9639 - val_accuracy: 0.6960\n",
      "Epoch 5/50\n",
      "74/74 [==============================] - 1s 13ms/step - loss: 0.9945 - accuracy: 0.6648 - val_loss: 0.8982 - val_accuracy: 0.7160\n",
      "Epoch 6/50\n",
      "74/74 [==============================] - 1s 13ms/step - loss: 0.9305 - accuracy: 0.6973 - val_loss: 0.8436 - val_accuracy: 0.7160\n",
      "Epoch 7/50\n",
      "74/74 [==============================] - 1s 13ms/step - loss: 0.8868 - accuracy: 0.7112 - val_loss: 0.8018 - val_accuracy: 0.7360\n",
      "Epoch 8/50\n",
      "74/74 [==============================] - 1s 13ms/step - loss: 0.8487 - accuracy: 0.7189 - val_loss: 0.7748 - val_accuracy: 0.7480\n",
      "Epoch 9/50\n",
      "74/74 [==============================] - 1s 12ms/step - loss: 0.8202 - accuracy: 0.7263 - val_loss: 0.7532 - val_accuracy: 0.7520\n",
      "Epoch 10/50\n",
      "74/74 [==============================] - 1s 13ms/step - loss: 0.7988 - accuracy: 0.7270 - val_loss: 0.7358 - val_accuracy: 0.7640\n",
      "Epoch 11/50\n",
      "74/74 [==============================] - 1s 13ms/step - loss: 0.7855 - accuracy: 0.7345 - val_loss: 0.7195 - val_accuracy: 0.7760\n",
      "Epoch 12/50\n",
      "74/74 [==============================] - 1s 13ms/step - loss: 0.7729 - accuracy: 0.7424 - val_loss: 0.7056 - val_accuracy: 0.7760\n",
      "Epoch 13/50\n",
      "74/74 [==============================] - 1s 12ms/step - loss: 0.7570 - accuracy: 0.7477 - val_loss: 0.6980 - val_accuracy: 0.7760\n",
      "Epoch 14/50\n",
      "74/74 [==============================] - 1s 13ms/step - loss: 0.7469 - accuracy: 0.7471 - val_loss: 0.6858 - val_accuracy: 0.7840\n",
      "Epoch 15/50\n",
      "74/74 [==============================] - 1s 12ms/step - loss: 0.7351 - accuracy: 0.7496 - val_loss: 0.6770 - val_accuracy: 0.7840\n",
      "Epoch 16/50\n",
      "74/74 [==============================] - 1s 13ms/step - loss: 0.7318 - accuracy: 0.7513 - val_loss: 0.6709 - val_accuracy: 0.7840\n",
      "Epoch 17/50\n",
      "74/74 [==============================] - 1s 12ms/step - loss: 0.7181 - accuracy: 0.7541 - val_loss: 0.6630 - val_accuracy: 0.7880\n",
      "Epoch 18/50\n",
      "74/74 [==============================] - 1s 12ms/step - loss: 0.6999 - accuracy: 0.7665 - val_loss: 0.6558 - val_accuracy: 0.7840\n",
      "Epoch 19/50\n",
      "74/74 [==============================] - 1s 12ms/step - loss: 0.7019 - accuracy: 0.7582 - val_loss: 0.6496 - val_accuracy: 0.7840\n",
      "Epoch 20/50\n",
      "74/74 [==============================] - 1s 12ms/step - loss: 0.6928 - accuracy: 0.7550 - val_loss: 0.6449 - val_accuracy: 0.7840\n",
      "Epoch 21/50\n",
      "74/74 [==============================] - 1s 11ms/step - loss: 0.6849 - accuracy: 0.7618 - val_loss: 0.6427 - val_accuracy: 0.7840\n",
      "Epoch 22/50\n",
      "74/74 [==============================] - 1s 12ms/step - loss: 0.6791 - accuracy: 0.7667 - val_loss: 0.6393 - val_accuracy: 0.7840\n",
      "Epoch 23/50\n",
      "74/74 [==============================] - 1s 11ms/step - loss: 0.6696 - accuracy: 0.7689 - val_loss: 0.6342 - val_accuracy: 0.7920\n",
      "Epoch 24/50\n",
      "74/74 [==============================] - 1s 11ms/step - loss: 0.6631 - accuracy: 0.7731 - val_loss: 0.6328 - val_accuracy: 0.7840\n",
      "Epoch 25/50\n",
      "74/74 [==============================] - 1s 11ms/step - loss: 0.6612 - accuracy: 0.7727 - val_loss: 0.6291 - val_accuracy: 0.7880\n",
      "Epoch 26/50\n",
      "74/74 [==============================] - 1s 12ms/step - loss: 0.6480 - accuracy: 0.7738 - val_loss: 0.6307 - val_accuracy: 0.7880\n",
      "Epoch 27/50\n",
      "74/74 [==============================] - 1s 12ms/step - loss: 0.6439 - accuracy: 0.7772 - val_loss: 0.6279 - val_accuracy: 0.7880\n",
      "Epoch 28/50\n",
      "74/74 [==============================] - 1s 12ms/step - loss: 0.6370 - accuracy: 0.7812 - val_loss: 0.6265 - val_accuracy: 0.7880\n",
      "Epoch 29/50\n",
      "74/74 [==============================] - 1s 11ms/step - loss: 0.6358 - accuracy: 0.7802 - val_loss: 0.6257 - val_accuracy: 0.7880\n",
      "Epoch 30/50\n",
      "74/74 [==============================] - 1s 12ms/step - loss: 0.6320 - accuracy: 0.7795 - val_loss: 0.6247 - val_accuracy: 0.7840\n",
      "Epoch 31/50\n",
      "74/74 [==============================] - 1s 12ms/step - loss: 0.6237 - accuracy: 0.7808 - val_loss: 0.6220 - val_accuracy: 0.7840\n",
      "Epoch 32/50\n",
      "74/74 [==============================] - 1s 12ms/step - loss: 0.6192 - accuracy: 0.7844 - val_loss: 0.6217 - val_accuracy: 0.7920\n",
      "Epoch 33/50\n",
      "74/74 [==============================] - 1s 12ms/step - loss: 0.6247 - accuracy: 0.7791 - val_loss: 0.6238 - val_accuracy: 0.7840\n",
      "Epoch 34/50\n",
      "74/74 [==============================] - 1s 12ms/step - loss: 0.6207 - accuracy: 0.7844 - val_loss: 0.6239 - val_accuracy: 0.7920\n",
      "Epoch 35/50\n",
      "74/74 [==============================] - 1s 12ms/step - loss: 0.6196 - accuracy: 0.7827 - val_loss: 0.6227 - val_accuracy: 0.7880\n",
      "Epoch 36/50\n",
      "74/74 [==============================] - 1s 12ms/step - loss: 0.6062 - accuracy: 0.7844 - val_loss: 0.6197 - val_accuracy: 0.7920\n",
      "Epoch 37/50\n",
      "74/74 [==============================] - 1s 12ms/step - loss: 0.6077 - accuracy: 0.7849 - val_loss: 0.6238 - val_accuracy: 0.7920\n",
      "Epoch 38/50\n",
      "74/74 [==============================] - 1s 12ms/step - loss: 0.6008 - accuracy: 0.7883 - val_loss: 0.6248 - val_accuracy: 0.7960\n",
      "Epoch 39/50\n",
      "74/74 [==============================] - 1s 12ms/step - loss: 0.5971 - accuracy: 0.7889 - val_loss: 0.6212 - val_accuracy: 0.7960\n",
      "Epoch 40/50\n",
      "74/74 [==============================] - 1s 12ms/step - loss: 0.5910 - accuracy: 0.7917 - val_loss: 0.6231 - val_accuracy: 0.7840\n",
      "Epoch 41/50\n",
      "74/74 [==============================] - 1s 12ms/step - loss: 0.5897 - accuracy: 0.7870 - val_loss: 0.6220 - val_accuracy: 0.7920\n",
      "Epoch 42/50\n",
      "74/74 [==============================] - 1s 12ms/step - loss: 0.5929 - accuracy: 0.7887 - val_loss: 0.6201 - val_accuracy: 0.7880\n",
      "Epoch 43/50\n",
      "74/74 [==============================] - 1s 12ms/step - loss: 0.5917 - accuracy: 0.7902 - val_loss: 0.6214 - val_accuracy: 0.7880\n",
      "Epoch 44/50\n",
      "74/74 [==============================] - 1s 12ms/step - loss: 0.5858 - accuracy: 0.7887 - val_loss: 0.6223 - val_accuracy: 0.7840\n",
      "Epoch 45/50\n",
      "74/74 [==============================] - 1s 12ms/step - loss: 0.5807 - accuracy: 0.7992 - val_loss: 0.6234 - val_accuracy: 0.7880\n",
      "Epoch 46/50\n",
      "74/74 [==============================] - 1s 12ms/step - loss: 0.5803 - accuracy: 0.7977 - val_loss: 0.6230 - val_accuracy: 0.7920\n",
      "Epoch 47/50\n",
      "74/74 [==============================] - 1s 11ms/step - loss: 0.5791 - accuracy: 0.7904 - val_loss: 0.6257 - val_accuracy: 0.7840\n",
      "Epoch 48/50\n",
      "74/74 [==============================] - 1s 12ms/step - loss: 0.5698 - accuracy: 0.7983 - val_loss: 0.6234 - val_accuracy: 0.7920\n",
      "Epoch 49/50\n",
      "74/74 [==============================] - 1s 13ms/step - loss: 0.5741 - accuracy: 0.7971 - val_loss: 0.6263 - val_accuracy: 0.7840\n",
      "Epoch 50/50\n",
      "74/74 [==============================] - 1s 12ms/step - loss: 0.5672 - accuracy: 0.8000 - val_loss: 0.6244 - val_accuracy: 0.7920\n"
     ]
    }
   ],
   "source": [
    "print(\"Fit model on training data\")\n",
    "history = model.fit(x_train,y_train,batch_size=64,epochs=50,validation_data=(x_val,y_val))"
   ]
  },
  {
   "cell_type": "markdown",
   "metadata": {},
   "source": [
    "## Loss and accuracy plots on training and validation datasets"
   ]
  },
  {
   "cell_type": "code",
   "execution_count": 42,
   "metadata": {},
   "outputs": [
    {
     "data": {
      "text/plain": [
       "<matplotlib.legend.Legend at 0x2a73f490970>"
      ]
     },
     "execution_count": 42,
     "metadata": {},
     "output_type": "execute_result"
    },
    {
     "data": {
      "image/png": "[encoded data removed]",
      "text/plain": [
       "<Figure size 432x288 with 1 Axes>"
      ]
     },
     "metadata": {
      "needs_background": "light"
     },
     "output_type": "display_data"
    }
   ],
   "source": [
    "plt.xlabel('Epoch Number')\n",
    "plt.ylabel(\"Loss Magnitude\")\n",
    "plt.plot(history.history['val_loss'],'r',label='validation loss')\n",
    "plt.plot(history.history['loss'],'b',label='training loss')\n",
    "plt.legend()"
   ]
  },
  {
   "cell_type": "code",
   "execution_count": 43,
   "metadata": {},
   "outputs": [
    {
     "data": {
      "text/plain": [
       "<matplotlib.legend.Legend at 0x2a74c3eaac0>"
      ]
     },
     "execution_count": 43,
     "metadata": {},
     "output_type": "execute_result"
    },
    {
     "data": {
      "image/png": "[encoded data removed]",
      "text/plain": [
       "<Figure size 432x288 with 1 Axes>"
      ]
     },
     "metadata": {
      "needs_background": "light"
     },
     "output_type": "display_data"
    }
   ],
   "source": [
    "plt.xlabel('Epoch Number')\n",
    "plt.ylabel(\"Loss Magnitude\")\n",
    "plt.plot(history.history['val_accuracy'],'r',label='validation accuracy')\n",
    "plt.plot(history.history['accuracy'],'b',label='training accuracy')\n",
    "plt.legend()"
   ]
  },
  {
   "cell_type": "markdown",
   "metadata": {},
   "source": [
    "## Evaluate accuracy on test dataset"
   ]
  },
  {
   "cell_type": "code",
   "execution_count": 44,
   "metadata": {},
   "outputs": [
    {
     "name": "stdout",
     "output_type": "stream",
     "text": [
      "8/8 [==============================] - 0s 10ms/step - loss: 0.6244 - accuracy: 0.7920\n",
      "Accuracy on test dataset: 0.7919999957084656\n"
     ]
    }
   ],
   "source": [
    "x_test = final.Skill_US[-250:].to_numpy()\n",
    "y_test = y[-250:]\n",
    "test_loss, test_accuracy = model.evaluate(x_test,y_test)\n",
    "print('Accuracy on test dataset:',test_accuracy)"
   ]
  },
  {
   "cell_type": "markdown",
   "metadata": {},
   "source": [
    "## Predictions on test dataset"
   ]
  },
  {
   "cell_type": "code",
   "execution_count": 45,
   "metadata": {},
   "outputs": [
    {
     "data": {
      "text/html": [
       "<div>\n",
       "<style scoped>\n",
       "    .dataframe tbody tr th:only-of-type {\n",
       "        vertical-align: middle;\n",
       "    }\n",
       "\n",
       "    .dataframe tbody tr th {\n",
       "        vertical-align: top;\n",
       "    }\n",
       "\n",
       "    .dataframe thead th {\n",
       "        text-align: right;\n",
       "    }\n",
       "</style>\n",
       "<table border=\"1\" class=\"dataframe\">\n",
       "  <thead>\n",
       "    <tr style=\"text-align: right;\">\n",
       "      <th></th>\n",
       "      <th>Skill_US</th>\n",
       "      <th>Phases</th>\n",
       "      <th>Predicted Phases</th>\n",
       "    </tr>\n",
       "  </thead>\n",
       "  <tbody>\n",
       "    <tr>\n",
       "      <th>4681</th>\n",
       "      <td>visual design</td>\n",
       "      <td>Design</td>\n",
       "      <td>Design</td>\n",
       "    </tr>\n",
       "    <tr>\n",
       "      <th>4682</th>\n",
       "      <td>design software</td>\n",
       "      <td>Design</td>\n",
       "      <td>Software</td>\n",
       "    </tr>\n",
       "    <tr>\n",
       "      <th>4683</th>\n",
       "      <td>oracle unified directory</td>\n",
       "      <td>Software</td>\n",
       "      <td>Software</td>\n",
       "    </tr>\n",
       "    <tr>\n",
       "      <th>4684</th>\n",
       "      <td>community relations</td>\n",
       "      <td>Support Activities</td>\n",
       "      <td>Support Activities</td>\n",
       "    </tr>\n",
       "    <tr>\n",
       "      <th>4685</th>\n",
       "      <td>capacity planning</td>\n",
       "      <td>Supply Chain and Logistics</td>\n",
       "      <td>Support Activities</td>\n",
       "    </tr>\n",
       "    <tr>\n",
       "      <th>...</th>\n",
       "      <td>...</td>\n",
       "      <td>...</td>\n",
       "      <td>...</td>\n",
       "    </tr>\n",
       "    <tr>\n",
       "      <th>4926</th>\n",
       "      <td>wet chemistry</td>\n",
       "      <td>Materials</td>\n",
       "      <td>Materials</td>\n",
       "    </tr>\n",
       "    <tr>\n",
       "      <th>4927</th>\n",
       "      <td>adobe acrobat</td>\n",
       "      <td>Design</td>\n",
       "      <td>Software</td>\n",
       "    </tr>\n",
       "    <tr>\n",
       "      <th>4928</th>\n",
       "      <td>engine repair</td>\n",
       "      <td>Tooling and Machining</td>\n",
       "      <td>Tooling and Machining</td>\n",
       "    </tr>\n",
       "    <tr>\n",
       "      <th>4929</th>\n",
       "      <td>athenaclinicals</td>\n",
       "      <td>Software</td>\n",
       "      <td>Software</td>\n",
       "    </tr>\n",
       "    <tr>\n",
       "      <th>4930</th>\n",
       "      <td>web content management</td>\n",
       "      <td>Software</td>\n",
       "      <td>Software</td>\n",
       "    </tr>\n",
       "  </tbody>\n",
       "</table>\n",
       "<p>250 rows × 3 columns</p>\n",
       "</div>"
      ],
      "text/plain": [
       "                      Skill_US                      Phases  \\\n",
       "4681             visual design                      Design   \n",
       "4682           design software                      Design   \n",
       "4683  oracle unified directory                    Software   \n",
       "4684       community relations          Support Activities   \n",
       "4685         capacity planning  Supply Chain and Logistics   \n",
       "...                        ...                         ...   \n",
       "4926             wet chemistry                   Materials   \n",
       "4927             adobe acrobat                      Design   \n",
       "4928             engine repair       Tooling and Machining   \n",
       "4929           athenaclinicals                    Software   \n",
       "4930    web content management                    Software   \n",
       "\n",
       "           Predicted Phases  \n",
       "4681                 Design  \n",
       "4682               Software  \n",
       "4683               Software  \n",
       "4684     Support Activities  \n",
       "4685     Support Activities  \n",
       "...                     ...  \n",
       "4926              Materials  \n",
       "4927               Software  \n",
       "4928  Tooling and Machining  \n",
       "4929               Software  \n",
       "4930               Software  \n",
       "\n",
       "[250 rows x 3 columns]"
      ]
     },
     "execution_count": 45,
     "metadata": {},
     "output_type": "execute_result"
    }
   ],
   "source": [
    "predicted_probabilities = model.predict(x_test)\n",
    "predicted_phase = numpy.argmax(predicted_probabilities,axis=-1)\n",
    "df = final[-250:]\n",
    "df = df[['Skill_US','Phases']]\n",
    "df['Predicted Phases'] = predicted_phase\n",
    "df['Predicted Phases'].replace(mydict,inplace=True)\n",
    "df.to_excel('Phases-predictions-test.xlsx')\n",
    "df"
   ]
  },
  {
   "cell_type": "markdown",
   "metadata": {},
   "source": [
    "## NaNs"
   ]
  },
  {
   "cell_type": "code",
   "execution_count": 46,
   "metadata": {},
   "outputs": [
    {
     "name": "stdout",
     "output_type": "stream",
     "text": [
      "857 annotated nans\n"
     ]
    },
    {
     "data": {
      "text/plain": [
       "Tooling and Machining         200\n",
       "Support Activities            172\n",
       "Design                        172\n",
       "Supply Chain and Logistics    137\n",
       "Production and Assembly       109\n",
       "Materials                      39\n",
       "Software                       20\n",
       "Ideation and Development        4\n",
       "General Skills                  4\n",
       "Name: Phases, dtype: int64"
      ]
     },
     "execution_count": 46,
     "metadata": {},
     "output_type": "execute_result"
    }
   ],
   "source": [
    "dfnan = original.copy()\n",
    "dfnan = dfnan.loc[original.Phases.isna()]\n",
    "dfnan.loc[(dfnan.Phases.isna())&(dfnan.Skill_US.str.contains('design'))&(~dfnan.Skill_US.str.contains('supply'))&(~dfnan.Skill_US.str.contains('sales')),'Phases'] = 'Design'\n",
    "dfnan.loc[(dfnan.Phases.isna())&(dfnan.Skill_US.str.contains('skills')),'Phases'] = 'General Skills'\n",
    "dfnan.loc[(dfnan.Phases.isna())&(dfnan.Skill_US.str.contains('discover')),'Phases'] = 'Ideation and Development'\n",
    "dfnan.loc[(dfnan.Phases.isna())&(dfnan.Skill_US.str.contains('prototyp')),'Phases'] = 'Ideation and Development'\n",
    "dfnan.loc[(dfnan.Phases.isna())&(dfnan.Skill_US.str.contains('material'))&(~dfnan.Skill_US.str.contains('design'))&(~dfnan.Skill_US.str.contains('inventory'))&(~dfnan.Skill_US.str.contains('manufactur'))&(~dfnan.Skill_US.str.contains('procurement'))&(~dfnan.Skill_US.str.contains('purchas')),'Phases'] = 'Materials'\n",
    "dfnan.loc[(dfnan.Phases.isna())&(dfnan.Skill_US.str.contains('brazing'))&(~dfnan.Skill_US.str.contains('design'))&(~dfnan.Skill_US.str.contains('equipment'))&(~dfnan.Skill_US.str.contains('machine')),'Phases'] = 'Production and Assembly'\n",
    "dfnan.loc[(dfnan.Phases.isna())&(dfnan.Skill_US.str.contains('manufactur'))&(~dfnan.Skill_US.str.contains('design'))&(~dfnan.Skill_US.str.contains('equipment'))&(~dfnan.Skill_US.str.contains('machine')),'Phases'] = 'Production and Assembly'\n",
    "dfnan.loc[(dfnan.Phases.isna())&(dfnan.Skill_US.str.contains('production'))&(~dfnan.Skill_US.str.contains('design'))&(~dfnan.Skill_US.str.contains('equipment'))&(~dfnan.Skill_US.str.contains('machine')),'Phases'] = 'Production and Assembly'\n",
    "dfnan.loc[(dfnan.Phases.isna())&(dfnan.Skill_US.str.contains('soldering'))&(~dfnan.Skill_US.str.contains('design'))&(~dfnan.Skill_US.str.contains('equipment'))&(~dfnan.Skill_US.str.contains('machine')),'Phases'] = 'Production and Assembly'\n",
    "dfnan.loc[(dfnan.Phases.isna())&(dfnan.Skill_US.str.contains('welding'))&(~dfnan.Skill_US.str.contains('design'))&(~dfnan.Skill_US.str.contains('equipment'))&(~dfnan.Skill_US.str.contains('machine')),'Phases'] = 'Production and Assembly'\n",
    "dfnan.loc[(dfnan.Phases.isna())&(dfnan.Skill_US.str.contains('software')),'Phases'] = 'Software'\n",
    "dfnan.loc[(dfnan.Phases.isna())&(dfnan.Skill_US.str.contains('inventory'))&(~dfnan.Skill_US.str.contains('manufactur'))&(~dfnan.Skill_US.str.contains('market')),'Phases'] = 'Supply Chain and Logistics'\n",
    "dfnan.loc[(dfnan.Phases.isna())&(dfnan.Skill_US.str.contains('procurement'))&(~dfnan.Skill_US.str.contains('manufactur'))&(~dfnan.Skill_US.str.contains('market')),'Phases'] = 'Supply Chain and Logistics'\n",
    "dfnan.loc[(dfnan.Phases.isna())&(dfnan.Skill_US.str.contains('purchas'))&(~dfnan.Skill_US.str.contains('manufactur'))&(~dfnan.Skill_US.str.contains('market')),'Phases'] = 'Supply Chain and Logistics'\n",
    "dfnan.loc[(dfnan.Phases.isna())&(dfnan.Skill_US.str.contains('supplier'))&(~dfnan.Skill_US.str.contains('manufactur'))&(~dfnan.Skill_US.str.contains('market')),'Phases'] = 'Supply Chain and Logistics'\n",
    "dfnan.loc[(dfnan.Phases.isna())&(dfnan.Skill_US.str.contains('supply'))&(~dfnan.Skill_US.str.contains('manufactur'))&(~dfnan.Skill_US.str.contains('market')),'Phases'] = 'Supply Chain and Logistics'\n",
    "dfnan.loc[(dfnan.Phases.isna())&(dfnan.Skill_US.str.contains('stock'))&(~dfnan.Skill_US.str.contains('manufactur'))&(~dfnan.Skill_US.str.contains('market')),'Phases'] = 'Supply Chain and Logistics'\n",
    "dfnan.loc[(dfnan.Phases.isna())&(dfnan.Skill_US.str.contains('management')),'Phases'] = 'Support Activities'\n",
    "dfnan.loc[(dfnan.Phases.isna())&(dfnan.Skill_US.str.contains('device'))&(~dfnan.Skill_US.str.contains('design'))&(~dfnan.Skill_US.str.contains('sales')),'Phases'] = 'Tooling and Machining'\n",
    "dfnan.loc[(dfnan.Phases.isna())&(dfnan.Skill_US.str.contains('equipment'))&(~dfnan.Skill_US.str.contains('design'))&(~dfnan.Skill_US.str.contains('sales')),'Phases'] = 'Tooling and Machining'\n",
    "dfnan.loc[(dfnan.Phases.isna())&(dfnan.Skill_US.str.contains('instrument'))&(~dfnan.Skill_US.str.contains('design'))&(~dfnan.Skill_US.str.contains('sales')),'Phases'] = 'Tooling and Machining'\n",
    "dfnan.loc[(dfnan.Phases.isna())&(dfnan.Skill_US.str.contains('machine'))&(~dfnan.Skill_US.str.contains('design'))&(~dfnan.Skill_US.str.contains('sales')),'Phases'] = 'Tooling and Machining'\n",
    "dfnan.loc[(dfnan.Phases.isna())&(dfnan.Skill_US.str.contains('machine'))&(~dfnan.Skill_US.str.contains('design'))&(~dfnan.Skill_US.str.contains('sales')),'Phases'] = 'Tooling and Machining'\n",
    "dfnan.loc[(dfnan.Phases.isna())&(dfnan.Skill_US.str.contains('repair'))&(~dfnan.Skill_US.str.contains('design'))&(~dfnan.Skill_US.str.contains('sales')),'Phases'] = 'Tooling and Machining'\n",
    "dfnan.loc[(dfnan.Phases.isna())&(dfnan.Skill_US.str.contains('vehicle'))&(~dfnan.Skill_US.str.contains('design'))&(~dfnan.Skill_US.str.contains('sales')),'Phases'] = 'Tooling and Machining'\n",
    "dfnan = dfnan.dropna(subset=['Phases'])\n",
    "print(len(dfnan),'annotated nans')\n",
    "dfnan.Phases.value_counts()"
   ]
  },
  {
   "cell_type": "markdown",
   "metadata": {},
   "source": [
    "## Accuracy on NaNs dataset"
   ]
  },
  {
   "cell_type": "code",
   "execution_count": 47,
   "metadata": {},
   "outputs": [
    {
     "name": "stdout",
     "output_type": "stream",
     "text": [
      "27/27 [==============================] - 0s 8ms/step - loss: 1.1059 - accuracy: 0.6371\n",
      "Accuracy on nans dataset: 0.63710618019104\n"
     ]
    }
   ],
   "source": [
    "x_nan = dfnan.Skill_US.to_numpy()\n",
    "y_nan = dfnan.Phases.str.get_dummies()\n",
    "y_nan = y_nan.to_numpy()\n",
    "nan_loss, nan_accuracy = model.evaluate(x_nan,y_nan)\n",
    "print('Accuracy on nans dataset:',nan_accuracy)"
   ]
  },
  {
   "cell_type": "markdown",
   "metadata": {},
   "source": [
    "## Predictions on NaNs dataset"
   ]
  },
  {
   "cell_type": "code",
   "execution_count": 48,
   "metadata": {},
   "outputs": [
    {
     "data": {
      "text/html": [
       "<div>\n",
       "<style scoped>\n",
       "    .dataframe tbody tr th:only-of-type {\n",
       "        vertical-align: middle;\n",
       "    }\n",
       "\n",
       "    .dataframe tbody tr th {\n",
       "        vertical-align: top;\n",
       "    }\n",
       "\n",
       "    .dataframe thead th {\n",
       "        text-align: right;\n",
       "    }\n",
       "</style>\n",
       "<table border=\"1\" class=\"dataframe\">\n",
       "  <thead>\n",
       "    <tr style=\"text-align: right;\">\n",
       "      <th></th>\n",
       "      <th>Skill_US</th>\n",
       "      <th>Phases</th>\n",
       "      <th>Predicted Phases</th>\n",
       "    </tr>\n",
       "  </thead>\n",
       "  <tbody>\n",
       "    <tr>\n",
       "      <th>4</th>\n",
       "      <td>energy management</td>\n",
       "      <td>Support Activities</td>\n",
       "      <td>Support Activities</td>\n",
       "    </tr>\n",
       "    <tr>\n",
       "      <th>23</th>\n",
       "      <td>water distribution system design</td>\n",
       "      <td>Design</td>\n",
       "      <td>Software</td>\n",
       "    </tr>\n",
       "    <tr>\n",
       "      <th>25</th>\n",
       "      <td>materials management applications</td>\n",
       "      <td>Materials</td>\n",
       "      <td>Supply Chain and Logistics</td>\n",
       "    </tr>\n",
       "    <tr>\n",
       "      <th>32</th>\n",
       "      <td>electrical testing instruments</td>\n",
       "      <td>Tooling and Machining</td>\n",
       "      <td>Tooling and Machining</td>\n",
       "    </tr>\n",
       "    <tr>\n",
       "      <th>44</th>\n",
       "      <td>leadership in energy and environmental design ...</td>\n",
       "      <td>Design</td>\n",
       "      <td>Production and Assembling</td>\n",
       "    </tr>\n",
       "    <tr>\n",
       "      <th>...</th>\n",
       "      <td>...</td>\n",
       "      <td>...</td>\n",
       "      <td>...</td>\n",
       "    </tr>\n",
       "    <tr>\n",
       "      <th>11782</th>\n",
       "      <td>spectrum management</td>\n",
       "      <td>Support Activities</td>\n",
       "      <td>Support Activities</td>\n",
       "    </tr>\n",
       "    <tr>\n",
       "      <th>11878</th>\n",
       "      <td>connected vehicle security</td>\n",
       "      <td>Tooling and Machining</td>\n",
       "      <td>Software</td>\n",
       "    </tr>\n",
       "    <tr>\n",
       "      <th>11927</th>\n",
       "      <td>ics/ot threat and vulnerability management</td>\n",
       "      <td>Support Activities</td>\n",
       "      <td>Software</td>\n",
       "    </tr>\n",
       "    <tr>\n",
       "      <th>11935</th>\n",
       "      <td>iot device management</td>\n",
       "      <td>Support Activities</td>\n",
       "      <td>Software</td>\n",
       "    </tr>\n",
       "    <tr>\n",
       "      <th>11936</th>\n",
       "      <td>iot device security</td>\n",
       "      <td>Tooling and Machining</td>\n",
       "      <td>Software</td>\n",
       "    </tr>\n",
       "  </tbody>\n",
       "</table>\n",
       "<p>857 rows × 3 columns</p>\n",
       "</div>"
      ],
      "text/plain": [
       "                                                Skill_US  \\\n",
       "4                                      energy management   \n",
       "23                      water distribution system design   \n",
       "25                     materials management applications   \n",
       "32                        electrical testing instruments   \n",
       "44     leadership in energy and environmental design ...   \n",
       "...                                                  ...   \n",
       "11782                                spectrum management   \n",
       "11878                         connected vehicle security   \n",
       "11927         ics/ot threat and vulnerability management   \n",
       "11935                              iot device management   \n",
       "11936                                iot device security   \n",
       "\n",
       "                      Phases            Predicted Phases  \n",
       "4         Support Activities          Support Activities  \n",
       "23                    Design                    Software  \n",
       "25                 Materials  Supply Chain and Logistics  \n",
       "32     Tooling and Machining       Tooling and Machining  \n",
       "44                    Design   Production and Assembling  \n",
       "...                      ...                         ...  \n",
       "11782     Support Activities          Support Activities  \n",
       "11878  Tooling and Machining                    Software  \n",
       "11927     Support Activities                    Software  \n",
       "11935     Support Activities                    Software  \n",
       "11936  Tooling and Machining                    Software  \n",
       "\n",
       "[857 rows x 3 columns]"
      ]
     },
     "execution_count": 48,
     "metadata": {},
     "output_type": "execute_result"
    }
   ],
   "source": [
    "predicted_probabilities = model.predict(x_nan)\n",
    "predicted_phase = numpy.argmax(predicted_probabilities,axis=-1)\n",
    "dfnan = dfnan[['Skill_US','Phases']]\n",
    "dfnan['Predicted Phases'] = predicted_phase\n",
    "dfnan['Predicted Phases'].replace(mydict,inplace=True)\n",
    "dfnan.to_excel('Phases-predictions-nan.xlsx')\n",
    "dfnan"
   ]
  },
  {
   "cell_type": "markdown",
   "metadata": {},
   "source": [
    "## Predictions on all 12,016"
   ]
  },
  {
   "cell_type": "code",
   "execution_count": 49,
   "metadata": {},
   "outputs": [],
   "source": [
    "df = original.copy()\n",
    "predicted_probabilities = model.predict(df.Skill_US.to_numpy())\n",
    "predicted_phase = numpy.argmax(predicted_probabilities,axis=-1)\n",
    "df['Phases'] = predicted_phase\n",
    "df['Phases'].replace(mydict,inplace=True)\n",
    "df.to_csv('Phases-predictions.csv',index=False)"
   ]
  },
  {
   "cell_type": "markdown",
   "metadata": {},
   "source": [
    "## Mixture of annotated with predictions"
   ]
  },
  {
   "cell_type": "code",
   "execution_count": 50,
   "metadata": {},
   "outputs": [
    {
     "data": {
      "text/html": [
       "<div>\n",
       "<style scoped>\n",
       "    .dataframe tbody tr th:only-of-type {\n",
       "        vertical-align: middle;\n",
       "    }\n",
       "\n",
       "    .dataframe tbody tr th {\n",
       "        vertical-align: top;\n",
       "    }\n",
       "\n",
       "    .dataframe thead th {\n",
       "        text-align: right;\n",
       "    }\n",
       "</style>\n",
       "<table border=\"1\" class=\"dataframe\">\n",
       "  <thead>\n",
       "    <tr style=\"text-align: right;\">\n",
       "      <th></th>\n",
       "      <th>SkillId</th>\n",
       "      <th>Skill_US</th>\n",
       "      <th>Phases</th>\n",
       "    </tr>\n",
       "  </thead>\n",
       "  <tbody>\n",
       "    <tr>\n",
       "      <th>0</th>\n",
       "      <td>3</td>\n",
       "      <td>anxiety reduction</td>\n",
       "      <td>Support Activities</td>\n",
       "    </tr>\n",
       "    <tr>\n",
       "      <th>1</th>\n",
       "      <td>5</td>\n",
       "      <td>injections</td>\n",
       "      <td>Software</td>\n",
       "    </tr>\n",
       "    <tr>\n",
       "      <th>2</th>\n",
       "      <td>11</td>\n",
       "      <td>hm customs and excise</td>\n",
       "      <td>Support Activities</td>\n",
       "    </tr>\n",
       "    <tr>\n",
       "      <th>3</th>\n",
       "      <td>12</td>\n",
       "      <td>behavioral health</td>\n",
       "      <td>Support Activities</td>\n",
       "    </tr>\n",
       "    <tr>\n",
       "      <th>4</th>\n",
       "      <td>13</td>\n",
       "      <td>energy management</td>\n",
       "      <td>Support Activities</td>\n",
       "    </tr>\n",
       "    <tr>\n",
       "      <th>...</th>\n",
       "      <td>...</td>\n",
       "      <td>...</td>\n",
       "      <td>...</td>\n",
       "    </tr>\n",
       "    <tr>\n",
       "      <th>12010</th>\n",
       "      <td>18031</td>\n",
       "      <td>latex</td>\n",
       "      <td>Software</td>\n",
       "    </tr>\n",
       "    <tr>\n",
       "      <th>12011</th>\n",
       "      <td>18034</td>\n",
       "      <td>rapid recovery</td>\n",
       "      <td>Software</td>\n",
       "    </tr>\n",
       "    <tr>\n",
       "      <th>12012</th>\n",
       "      <td>18035</td>\n",
       "      <td>react javascript</td>\n",
       "      <td>Software</td>\n",
       "    </tr>\n",
       "    <tr>\n",
       "      <th>12013</th>\n",
       "      <td>18036</td>\n",
       "      <td>virtual reality (vr)</td>\n",
       "      <td>Software</td>\n",
       "    </tr>\n",
       "    <tr>\n",
       "      <th>12014</th>\n",
       "      <td>9000069</td>\n",
       "      <td>behavior problems</td>\n",
       "      <td>Support Activities</td>\n",
       "    </tr>\n",
       "  </tbody>\n",
       "</table>\n",
       "<p>12015 rows × 3 columns</p>\n",
       "</div>"
      ],
      "text/plain": [
       "       SkillId               Skill_US              Phases\n",
       "0            3      anxiety reduction  Support Activities\n",
       "1            5             injections            Software\n",
       "2           11  hm customs and excise  Support Activities\n",
       "3           12      behavioral health  Support Activities\n",
       "4           13      energy management  Support Activities\n",
       "...        ...                    ...                 ...\n",
       "12010    18031                  latex            Software\n",
       "12011    18034         rapid recovery            Software\n",
       "12012    18035       react javascript            Software\n",
       "12013    18036   virtual reality (vr)            Software\n",
       "12014  9000069      behavior problems  Support Activities\n",
       "\n",
       "[12015 rows x 3 columns]"
      ]
     },
     "execution_count": 50,
     "metadata": {},
     "output_type": "execute_result"
    }
   ],
   "source": [
    "df1 = original.copy()\n",
    "predicted_probabilities = model.predict(df1.Skill_US.to_numpy())\n",
    "predicted_phase = numpy.argmax(predicted_probabilities,axis=-1)\n",
    "df1['Phases'] = predicted_phase\n",
    "df1['Phases'].replace(mydict,inplace=True)\n",
    "df1 = df1[['SkillId','Skill_US','Phases']]\n",
    "df2 = final.copy()\n",
    "df2 = df2[['SkillId','Phases']]\n",
    "df1 = df1.merge(df2,right_on='SkillId',left_on='SkillId',how='left')\n",
    "df1['Phases'] = df1['Phases_y']\n",
    "df1.loc[df1.Phases.isna(),'Phases'] = df1['Phases_x']\n",
    "df1.to_csv('Phases-mixture.csv',index=False)\n",
    "df1 = df1[['SkillId','Skill_US','Phases']]\n",
    "df1.to_csv('Phases-mixture.csv',index=False)\n",
    "df1"
   ]
  },
  {
   "cell_type": "markdown",
   "metadata": {},
   "source": [
    "## Get files for the tensorflow projector"
   ]
  },
  {
   "cell_type": "code",
   "execution_count": 37,
   "metadata": {},
   "outputs": [],
   "source": [
    "import io\n",
    "out_v = io.open('vecs.tsv','w',encoding='utf-8')\n",
    "out_m = io.open('meta.tsv','w',encoding='utf-8')\n",
    "weights = layer_0.get_weights()[0]\n",
    "for i,phrase in enumerate(final.Skill_US):\n",
    "  embeddings = weights[i]\n",
    "  out_m.write(phrase + '\\n')\n",
    "  out_v.write('\\t'.join([str(x) for x in embeddings]) + '\\n')\n",
    "out_v.close()\n",
    "out_m.close()"
   ]
  },
  {
   "cell_type": "code",
   "execution_count": null,
   "metadata": {},
   "outputs": [],
   "source": [
    "plt.xlabel('Epoch Number')\n",
    "plt.ylabel(\"Loss Magnitude\")\n",
    "plt.plot(history.history['loss'])"
   ]
  },
  {
   "cell_type": "code",
   "execution_count": null,
   "metadata": {},
   "outputs": [],
   "source": [
    "coded.loc[(coded.SkillClusterFamily=='agriculture, horticulture, and the outdoors'),'Phases'] = 'Industry-Specific'\n",
    "coded.loc[(coded.SkillClusterFamily=='architecture and construction'),'Phases'] = 'Industry-Specific'\n",
    "coded.loc[(coded.SkillCluster=='bioinformatics'),'Phases'] = 'Industry-Specific'\n",
    "coded.loc[(coded.SkillCluster=='biology'),'Phases'] = 'Industry-Specific'\n",
    "coded.loc[(coded.SkillCluster=='biopharmaceutical manufacturing'),'Phases'] = 'Industry-Specific'\n",
    "coded.loc[(coded.SkillClusterFamily=='economics, policy, and social studies'),'Phases'] = 'Industry-Specific'\n",
    "coded.loc[(coded.SkillClusterFamily=='education and training')&(coded.SkillCluster!='foreign and language skills')&(coded.SkillCluster!='training programs'),'Phases'] = 'Industry-Specific'\n",
    "coded.loc[(coded.SkillClusterFamily=='energy and utilities'),'Phases'] = 'Industry-Specific'\n",
    "coded.loc[(coded.SkillClusterFamily=='engineering')&(coded.SkillCluster!='automation engineering')&(coded.SkillCluster!='analog design')&(coded.SkillCluster!='drafting and engineering design')&(coded.SkillCluster!='process engineering')&(coded.SkillCluster!='robotics')&(coded.SkillCluster!='simulation')&(coded.SkillCluster!='simulation software'),'Phases'] = 'Industry-Specific'\n",
    "coded.loc[(coded.SkillClusterFamily=='environment'),'Phases'] = 'Industry-Specific'\n",
    "coded.loc[(coded.SkillCluster=='genetics'),'Phases'] = 'Industry-Specific'\n",
    "coded.loc[(coded.SkillClusterFamily=='health Care')&(coded.SkillCluster!='physical abilities'),'Phases'] = 'Industry-Specific'\n",
    "coded.loc[(coded.SkillClusterFamily=='industry knowledge')&(coded.SkillCluster!='aluminium industry knowledge')&(coded.SkillCluster!='chemical industry knowledge')&(coded.SkillCluster!='engineering industry knowledge')&(coded.SkillCluster!='metal industy industry knowledge')&(coded.SkillCluster!='plastics material industry knowledge'),'Phases'] = 'Industry-Specific'\n",
    "coded.loc[(coded.SkillClusterFamily=='media and writing'),'Phases'] = 'Industry-Specific'\n",
    "coded.loc[(coded.SkillClusterFamily=='personal care and services'),'Phases'] = 'Industry-Specific'\n",
    "coded.loc[(coded.SkillClusterFamily=='public safety and national Security'),'Phases'] = 'Industry-Specific'\n",
    "coded.loc[(coded.SkillClusterFamily=='religion'),'Phases'] = 'Industry-Specific'"
   ]
  }
 ],
 "metadata": {
  "kernelspec": {
   "display_name": "Python 3 (ipykernel)",
   "language": "python",
   "name": "python3"
  },
  "language_info": {
   "codemirror_mode": {
    "name": "ipython",
    "version": 3
   },
   "file_extension": ".py",
   "mimetype": "text/x-python",
   "name": "python",
   "nbconvert_exporter": "python",
   "pygments_lexer": "ipython3",
   "version": "3.9.6"
  }
 },
 "nbformat": 4,
 "nbformat_minor": 4
}
