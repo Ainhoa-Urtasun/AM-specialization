{
 "cells": [
  {
   "cell_type": "code",
   "execution_count": 21,
   "metadata": {},
   "outputs": [],
   "source": [
    "import pandas\n",
    "import numpy\n",
    "import openpyxl\n",
    "import tensorflow as tf\n",
    "import tensorflow_hub as hub\n",
    "from tensorflow import keras\n",
    "from tensorflow.keras import regularizers\n",
    "import matplotlib.pyplot as plt"
   ]
  },
  {
   "cell_type": "markdown",
   "metadata": {},
   "source": [
    "### Manufacturing sample"
   ]
  },
  {
   "cell_type": "code",
   "execution_count": 22,
   "metadata": {},
   "outputs": [
    {
     "name": "stdout",
     "output_type": "stream",
     "text": [
      "4416837 initial postings\n",
      "1131600 postings with missing Employer\n",
      "3285237 postings with nonmissing Employer\n",
      "BGTJobId           int64\n",
      "JobDate           object\n",
      "CleanTitle        object\n",
      "CanonTitle        object\n",
      "SOC                int64\n",
      "SOCName           object\n",
      "ONET              object\n",
      "ONETName          object\n",
      "Employer          object\n",
      "Sector            object\n",
      "SectorName        object\n",
      "NAICS3           float64\n",
      "NAICS4           float64\n",
      "NAICS5           float64\n",
      "NAICS6           float64\n",
      "City              object\n",
      "County            object\n",
      "State             object\n",
      "Lat              float64\n",
      "Lon              float64\n",
      "Edu              float64\n",
      "MaxEdu           float64\n",
      "Degree            object\n",
      "MaxDegree         object\n",
      "Exp              float64\n",
      "MaxExp           float64\n",
      "MinSalary        float64\n",
      "MaxSalary        float64\n",
      "MinHrlySalary    float64\n",
      "MaxHrlySalary    float64\n",
      "PayFrequency      object\n",
      "SalaryType        object\n",
      "JobHours          object\n",
      "SOC2               int64\n",
      "SOC4               int64\n",
      "SOC5               int64\n",
      "SK                object\n",
      "dtype: object\n",
      "162                                  planning,purchasing\n",
      "163    positive disposition,repair,communication skil...\n",
      "164    product sales,microsoft excel,proposal writing...\n",
      "165    clinical development,performance management,pr...\n",
      "166    ansys,nastran,mechanical engineering,nastran /...\n",
      "Name: SK, dtype: object\n"
     ]
    }
   ],
   "source": [
    "data = pandas.read_csv('D:/BG/Paper_2/Data/Downloading/SKILL.txt', sep='\\t')\n",
    "data = data.sort_values(['JobDate','BGTJobId'], ascending=[True, True])\n",
    "print('{} initial postings'.format(data.shape[0]))\n",
    "print('{} postings with missing Employer'.format(data.Employer.isna().sum()))\n",
    "print('{} postings with nonmissing Employer'.format(data.shape[0]-data.Employer.isna().sum()))\n",
    "print(data.dtypes)\n",
    "print(data.SK[0:5])"
   ]
  },
  {
   "cell_type": "code",
   "execution_count": 23,
   "metadata": {},
   "outputs": [
    {
     "name": "stdout",
     "output_type": "stream",
     "text": [
      "4416837 Postings in Manufacturing sample\n",
      "[['planning', 'purchasing'], ['positive disposition', 'repair', 'communication skills', 'verbal / oral communication', 'welding', 'system maintenance'], ['product sales', 'microsoft excel', 'proposal writing', 'scheduling', 'staff management', 'planning', 'technical training', 'customer contact', 'customer service', 'project planning and development skills', 'microsoft project', 'supervisory skills'], ['clinical development', 'performance management', 'project management', 'research', 'pharmacology', 'creativity', 'budgeting', 'mentoring', 'writing', 'due diligence', 'problem solving', 'teamwork / collaboration', 'building effective relationships', 'clinical trials', 'drug development'], ['ansys', 'nastran', 'mechanical engineering', 'nastran / patran', 'system design', 'finite element method / analysis software', 'communication skills', 'ls-dyna', 'finite element analysis', 'cad / cam (computer-aided design / manufacturing)', 'troubleshooting', 'unigraphics']]\n",
      "50250978 Terms in Manufacturing sample\n",
      "12016 Unique terms in Manufacturing sample\n"
     ]
    }
   ],
   "source": [
    "BoW = data['SK']\n",
    "BoW = [job.replace('colleterallized loan obligation (clo)','collateralized loan obligations (clos)') for job in BoW]\n",
    "BoW = [job.split(',') for job in BoW]\n",
    "print(len(BoW),'Postings in Manufacturing sample')\n",
    "print(BoW[0:5])\n",
    "BoW = [term for job in BoW for term in job]\n",
    "print(len(BoW),'Terms in Manufacturing sample')\n",
    "print(len(list(set(BoW))),'Unique terms in Manufacturing sample')\n",
    "skills = pandas.DataFrame(list(set(BoW)),columns=['Skill_US'])"
   ]
  },
  {
   "cell_type": "markdown",
   "metadata": {},
   "source": [
    "## Approach 1\n"
   ]
  },
  {
   "cell_type": "code",
   "execution_count": 42,
   "metadata": {},
   "outputs": [
    {
     "name": "stdout",
     "output_type": "stream",
     "text": [
      "12016 terms to label\n",
      "4931 labelled\n",
      "Software                      1877\n",
      "Support Activities            1839\n",
      "Tooling and Machining          290\n",
      "Supply Chain and Logistics     250\n",
      "Ideation and Development       164\n",
      "Design                         163\n",
      "Materials                      120\n",
      "Production and Assembling      119\n",
      "General Skills                 109\n",
      "Name: Phases, dtype: int64\n"
     ]
    }
   ],
   "source": [
    "original = pandas.read_csv('All_Skills_US.csv',sep=',')\n",
    "original['Skill_US'] = original['Skill_US'].str.lower()\n",
    "original['Skill_US'] = original['Skill_US'].str.replace(r',','',regex=True)\n",
    "original['SkillClusterFamily'] = original['SkillClusterFamily'].str.lower()\n",
    "original['SkillCluster'] = original['SkillCluster'].str.lower()\n",
    "original = original.merge(skills,on='Skill_US',how='right')\n",
    "print(len(original),'terms to label')\n",
    "original['SkillId'] = original['SkillId'].astype('int')\n",
    "original = original.sort_values('SkillId').reset_index(drop=True)\n",
    "original['Phases'] = numpy.nan\n",
    "\n",
    "original.loc[(original.SkillCluster=='analog design'),'Phases'] = 'Design'\n",
    "original.loc[(original.SkillClusterFamily=='design'),'Phases'] = 'Design'\n",
    "original.loc[(original.SkillCluster=='drafting and engineering design'),'Phases'] = 'Design'\n",
    "\n",
    "original.loc[(original.IsBaseline==1)&(original.IsSoftware==0),'Phases'] = 'General Skills'\n",
    "original.loc[(original.SkillCluster=='foreign language skills'),'Phases'] = 'General Skills'\n",
    "original.loc[(original.SkillCluster=='physical abilities'),'Phases'] = 'General Skills'\n",
    "\n",
    "original.loc[(original.SkillCluster=='concept development'),'Phases'] = 'Ideation and Development'\n",
    "original.loc[(original.SkillCluster=='engineering processes'),'Phases'] = 'Ideation and Development'\n",
    "original.loc[(original.SkillCluster=='engineering software'),'Phases'] = 'Ideation and Development'\n",
    "original.loc[(original.SkillCluster=='mathematical modeling'),'Phases'] = 'Ideation and Development'\n",
    "original.loc[(original.SkillCluster=='product development'),'Phases'] = 'Ideation and Development'\n",
    "original.loc[(original.SkillCluster=='research methodology'),'Phases'] = 'Ideation and Development'\n",
    "original.loc[(original.SkillCluster=='simulation'),'Phases'] = 'Ideation and Development'\n",
    "original.loc[(original.SkillCluster=='simulation software'),'Phases'] = 'Ideation and Development'\n",
    "original.loc[(original.Phases.isna())&(original.Skill_US.str.contains('develop')),'Phases'] = 'Ideation and Development'\n",
    "\n",
    "original.loc[(original.SkillCluster=='aluminium industry knowledge'),'Phases'] = 'Materials'\n",
    "original.loc[(original.SkillCluster=='cellular biology'),'Phases'] = 'Materials'\n",
    "original.loc[(original.SkillCluster=='chemical analysis'),'Phases'] = 'Materials'\n",
    "original.loc[(original.SkillCluster=='chemical industry knowledge'),'Phases'] = 'Materials'\n",
    "original.loc[(original.SkillCluster=='chemistry'),'Phases'] = 'Materials'\n",
    "original.loc[(original.SkillCluster=='materials process'),'Phases'] = 'Materials'\n",
    "original.loc[(original.SkillCluster=='materials science'),'Phases'] = 'Materials'\n",
    "original.loc[(original.SkillCluster=='metal industy industry knowledge'),'Phases'] = 'Materials'\n",
    "original.loc[(original.SkillCluster=='molecular biology'),'Phases'] = 'Materials'\n",
    "original.loc[(original.SkillCluster=='physics'),'Phases'] = 'Materials'\n",
    "original.loc[(original.SkillCluster=='plastics material industry knowledge'),'Phases'] = 'Materials'\n",
    "original.loc[(original.SkillCluster=='process engineering'),'Phases'] = 'Materials'\n",
    "\n",
    "original.loc[(original.SkillClusterFamily=='manufacturing and production')&(original.SkillCluster!='computer-aided manufacturing')&(original.SkillCluster!='equipment acquisition standards')&(original.SkillCluster!='machine tools')&(original.SkillCluster!='machinery')&(original.SkillCluster!='materials process')&(original.SkillCluster!='materials science')&(original.SkillCluster!='product development'),'Phases'] = 'Production and Assembling'\n",
    "                                                      \n",
    "original.loc[(original.SkillCluster=='automation engineering'),'Phases'] = 'Tooling and Machining'\n",
    "original.loc[(original.SkillCluster=='machine tools'),'Phases'] = 'Tooling and Machining'\n",
    "original.loc[(original.SkillCluster=='machinery'),'Phases'] = 'Tooling and Machining'\n",
    "original.loc[(original.SkillCluster=='equipment acquisition standards'),'Phases'] = 'Tooling and Machining'\n",
    "original.loc[(original.SkillClusterFamily=='maintenance, repair, and installation'),'Phases'] = 'Tooling and Machining'\n",
    "original.loc[(original.SkillCluster=='robotics'),'Phases'] = 'Tooling and Machining'\n",
    "original.loc[(original.SkillCluster=='computer-aided manufacturing'),'Phases'] = 'Tooling and Machining'\n",
    "\n",
    "original.loc[(original.SkillClusterFamily=='information technology'),'Phases'] = 'Software'\n",
    "original.loc[(original.IsSoftware==1)&(original.Phases.isna()),'Phases'] = 'Software'\n",
    "\n",
    "original.loc[(original.SkillClusterFamily=='supply chain and logistics'),'Phases'] = 'Supply Chain and Logistics'\n",
    "original.loc[(original.SkillCluster=='supply chain and logistics industry knowledge'),'Phases'] = 'Supply Chain and Logistics'\n",
    "\n",
    "original.loc[(original.SkillClusterFamily=='accounting'),'Phases'] = 'Support Activities'\n",
    "original.loc[(original.SkillClusterFamily=='administration'),'Phases'] = 'Support Activities'\n",
    "original.loc[(original.SkillClusterFamily=='analysis')&(original.SkillCluster!='mathematical modeling'),'Phases'] = 'Support Activities'\n",
    "original.loc[(original.SkillClusterFamily=='business'),'Phases'] = 'Support Activities'\n",
    "original.loc[(original.SkillClusterFamily=='customer and client support'),'Phases'] = 'Support Activities'\n",
    "original.loc[(original.SkillClusterFamily=='finance'),'Phases'] = 'Support Activities'\n",
    "original.loc[(original.SkillClusterFamily=='human resources'),'Phases'] = 'Support Activities'\n",
    "original.loc[(original.SkillClusterFamily=='legal'),'Phases'] = 'Support Activities'\n",
    "original.loc[(original.SkillClusterFamily=='marketing and public relations')&(original.SkillCluster!='concept development'),'Phases'] = 'Support Activities'\n",
    "original.loc[(original.SkillClusterFamily=='sales'),'Phases'] = 'Support Activities'\n",
    "original.loc[(original.SkillCluster=='surveying'),'Phases'] = 'Support Activities'\n",
    "original.loc[(original.SkillCluster=='surveys'),'Phases'] = 'Support Activities'\n",
    "original.loc[(original.SkillCluster=='training programs'),'Phases'] = 'Support Activities'\n",
    "\n",
    "original.to_excel('Phases-annotated.xlsx')\n",
    "final = original.dropna()\n",
    "final = final.sample(frac=1).reset_index(drop=True)\n",
    "print(len(final),'labelled')\n",
    "print(final.Phases.value_counts())"
   ]
  },
  {
   "cell_type": "markdown",
   "metadata": {},
   "source": [
    "## Dense layers"
   ]
  },
  {
   "cell_type": "code",
   "execution_count": 43,
   "metadata": {},
   "outputs": [],
   "source": [
    "embedding = \"https://tfhub.dev/google/universal-sentence-encoder/4\"\n",
    "l0 = hub.KerasLayer(embedding,input_shape=[],dtype=tf.string,trainable=False)\n",
    "l1 = tf.keras.layers.Dropout(rate=0.1)\n",
    "l2 = tf.keras.layers.Dense(units=18,activation='relu')\n",
    "l3 = tf.keras.layers.Dropout(rate=0.1)\n",
    "l4 = tf.keras.layers.Dense(units=9,activation='softmax')"
   ]
  },
  {
   "cell_type": "code",
   "execution_count": 44,
   "metadata": {},
   "outputs": [
    {
     "data": {
      "text/plain": [
       "<tf.Tensor: shape=(2, 512), dtype=float32, numpy=\n",
       "array([[-0.03156086, -0.03633365,  0.05666288, ..., -0.07666253,\n",
       "         0.00521136, -0.03999174],\n",
       "       [-0.02114221, -0.01991314,  0.01327619, ...,  0.01928672,\n",
       "        -0.02521921, -0.00845905]], dtype=float32)>"
      ]
     },
     "execution_count": 44,
     "metadata": {},
     "output_type": "execute_result"
    }
   ],
   "source": [
    "l0(final.Skill_US[0:2].to_numpy())"
   ]
  },
  {
   "cell_type": "code",
   "execution_count": 45,
   "metadata": {},
   "outputs": [
    {
     "name": "stdout",
     "output_type": "stream",
     "text": [
      "Model: \"sequential_2\"\n",
      "_________________________________________________________________\n",
      "Layer (type)                 Output Shape              Param #   \n",
      "=================================================================\n",
      "keras_layer_2 (KerasLayer)   (None, 512)               256797824 \n",
      "_________________________________________________________________\n",
      "dropout_4 (Dropout)          (None, 512)               0         \n",
      "_________________________________________________________________\n",
      "dense_4 (Dense)              (None, 18)                9234      \n",
      "_________________________________________________________________\n",
      "dropout_5 (Dropout)          (None, 18)                0         \n",
      "_________________________________________________________________\n",
      "dense_5 (Dense)              (None, 9)                 171       \n",
      "=================================================================\n",
      "Total params: 256,807,229\n",
      "Trainable params: 9,405\n",
      "Non-trainable params: 256,797,824\n",
      "_________________________________________________________________\n",
      "None\n"
     ]
    }
   ],
   "source": [
    "model = tf.keras.Sequential([l0,l1,l2,l3,l4])\n",
    "print(model.summary())\n",
    "model.compile(optimizer='adam',loss='categorical_crossentropy',metrics=['accuracy'])"
   ]
  },
  {
   "cell_type": "markdown",
   "metadata": {},
   "source": [
    "## Labels"
   ]
  },
  {
   "cell_type": "code",
   "execution_count": 46,
   "metadata": {},
   "outputs": [
    {
     "name": "stdout",
     "output_type": "stream",
     "text": [
      "Index(['Design', 'General Skills', 'Ideation and Development', 'Materials',\n",
      "       'Production and Assembling', 'Software', 'Supply Chain and Logistics',\n",
      "       'Support Activities', 'Tooling and Machining'],\n",
      "      dtype='object')\n"
     ]
    },
    {
     "data": {
      "text/plain": [
       "{0: 'Design',\n",
       " 1: 'General Skills',\n",
       " 2: 'Ideation and Development',\n",
       " 3: 'Materials',\n",
       " 4: 'Production and Assembling',\n",
       " 5: 'Software',\n",
       " 6: 'Supply Chain and Logistics',\n",
       " 7: 'Support Activities',\n",
       " 8: 'Tooling and Machining'}"
      ]
     },
     "execution_count": 46,
     "metadata": {},
     "output_type": "execute_result"
    }
   ],
   "source": [
    "y = final.Phases.str.get_dummies()\n",
    "labels = y.columns\n",
    "print(labels)\n",
    "mydict = dict(enumerate(labels))\n",
    "mydict"
   ]
  },
  {
   "cell_type": "markdown",
   "metadata": {},
   "source": [
    "## Splitting the sample (training and validation)"
   ]
  },
  {
   "cell_type": "code",
   "execution_count": 47,
   "metadata": {},
   "outputs": [],
   "source": [
    "y = y.to_numpy()\n",
    "y_train = y\n",
    "y_val = y_train[-250:]\n",
    "y_train = y_train[:-250]\n",
    "x_train = final.Skill_US.to_numpy()\n",
    "x_val = x_train[-250:]\n",
    "x_train = x_train[:-250]"
   ]
  },
  {
   "cell_type": "code",
   "execution_count": 48,
   "metadata": {},
   "outputs": [
    {
     "name": "stdout",
     "output_type": "stream",
     "text": [
      "Fit model on training data\n",
      "Epoch 1/50\n",
      "74/74 [==============================] - 3s 17ms/step - loss: 1.8794 - accuracy: 0.4471 - val_loss: 1.5264 - val_accuracy: 0.5920\n",
      "Epoch 2/50\n",
      "74/74 [==============================] - 1s 10ms/step - loss: 1.3689 - accuracy: 0.6046 - val_loss: 1.2633 - val_accuracy: 0.6320\n",
      "Epoch 3/50\n",
      "74/74 [==============================] - 1s 11ms/step - loss: 1.1884 - accuracy: 0.6281 - val_loss: 1.1176 - val_accuracy: 0.6440\n",
      "Epoch 4/50\n",
      "74/74 [==============================] - 1s 11ms/step - loss: 1.0763 - accuracy: 0.6486 - val_loss: 1.0218 - val_accuracy: 0.6640\n",
      "Epoch 5/50\n",
      "74/74 [==============================] - 1s 11ms/step - loss: 0.9993 - accuracy: 0.6804 - val_loss: 0.9515 - val_accuracy: 0.6880\n",
      "Epoch 6/50\n",
      "74/74 [==============================] - 1s 11ms/step - loss: 0.9410 - accuracy: 0.6999 - val_loss: 0.8979 - val_accuracy: 0.7120\n",
      "Epoch 7/50\n",
      "74/74 [==============================] - 1s 11ms/step - loss: 0.9066 - accuracy: 0.7035 - val_loss: 0.8667 - val_accuracy: 0.7320\n",
      "Epoch 8/50\n",
      "74/74 [==============================] - 1s 12ms/step - loss: 0.8745 - accuracy: 0.7114 - val_loss: 0.8426 - val_accuracy: 0.7280\n",
      "Epoch 9/50\n",
      "74/74 [==============================] - 1s 11ms/step - loss: 0.8458 - accuracy: 0.7225 - val_loss: 0.8185 - val_accuracy: 0.7400\n",
      "Epoch 10/50\n",
      "74/74 [==============================] - 1s 11ms/step - loss: 0.8248 - accuracy: 0.7276 - val_loss: 0.8040 - val_accuracy: 0.7440\n",
      "Epoch 11/50\n",
      "74/74 [==============================] - 1s 11ms/step - loss: 0.8109 - accuracy: 0.7325 - val_loss: 0.7910 - val_accuracy: 0.7520\n",
      "Epoch 12/50\n",
      "74/74 [==============================] - 1s 11ms/step - loss: 0.7929 - accuracy: 0.7302 - val_loss: 0.7774 - val_accuracy: 0.7480\n",
      "Epoch 13/50\n",
      "74/74 [==============================] - 1s 11ms/step - loss: 0.7752 - accuracy: 0.7407 - val_loss: 0.7717 - val_accuracy: 0.7400\n",
      "Epoch 14/50\n",
      "74/74 [==============================] - 1s 11ms/step - loss: 0.7589 - accuracy: 0.7417 - val_loss: 0.7529 - val_accuracy: 0.7600\n",
      "Epoch 15/50\n",
      "74/74 [==============================] - 1s 11ms/step - loss: 0.7457 - accuracy: 0.7477 - val_loss: 0.7501 - val_accuracy: 0.7680\n",
      "Epoch 16/50\n",
      "74/74 [==============================] - 1s 11ms/step - loss: 0.7400 - accuracy: 0.7496 - val_loss: 0.7409 - val_accuracy: 0.7720\n",
      "Epoch 17/50\n",
      "74/74 [==============================] - 1s 11ms/step - loss: 0.7234 - accuracy: 0.7558 - val_loss: 0.7397 - val_accuracy: 0.7640\n",
      "Epoch 18/50\n",
      "74/74 [==============================] - 1s 10ms/step - loss: 0.7182 - accuracy: 0.7530 - val_loss: 0.7291 - val_accuracy: 0.7760\n",
      "Epoch 19/50\n",
      "74/74 [==============================] - 1s 11ms/step - loss: 0.7112 - accuracy: 0.7575 - val_loss: 0.7249 - val_accuracy: 0.7840\n",
      "Epoch 20/50\n",
      "74/74 [==============================] - 1s 10ms/step - loss: 0.6981 - accuracy: 0.7584 - val_loss: 0.7213 - val_accuracy: 0.7840\n",
      "Epoch 21/50\n",
      "74/74 [==============================] - 1s 10ms/step - loss: 0.6917 - accuracy: 0.7667 - val_loss: 0.7187 - val_accuracy: 0.7840\n",
      "Epoch 22/50\n",
      "74/74 [==============================] - 1s 11ms/step - loss: 0.6865 - accuracy: 0.7665 - val_loss: 0.7137 - val_accuracy: 0.7840\n",
      "Epoch 23/50\n",
      "74/74 [==============================] - 1s 10ms/step - loss: 0.6693 - accuracy: 0.7723 - val_loss: 0.7066 - val_accuracy: 0.7840\n",
      "Epoch 24/50\n",
      "74/74 [==============================] - 1s 10ms/step - loss: 0.6723 - accuracy: 0.7676 - val_loss: 0.7039 - val_accuracy: 0.7840\n",
      "Epoch 25/50\n",
      "74/74 [==============================] - 1s 11ms/step - loss: 0.6612 - accuracy: 0.7765 - val_loss: 0.7057 - val_accuracy: 0.7800\n",
      "Epoch 26/50\n",
      "74/74 [==============================] - 1s 10ms/step - loss: 0.6589 - accuracy: 0.7738 - val_loss: 0.7046 - val_accuracy: 0.7880\n",
      "Epoch 27/50\n",
      "74/74 [==============================] - 1s 10ms/step - loss: 0.6601 - accuracy: 0.7695 - val_loss: 0.7091 - val_accuracy: 0.7880\n",
      "Epoch 28/50\n",
      "74/74 [==============================] - 1s 11ms/step - loss: 0.6443 - accuracy: 0.7759 - val_loss: 0.7071 - val_accuracy: 0.7840\n",
      "Epoch 29/50\n",
      "74/74 [==============================] - 1s 11ms/step - loss: 0.6439 - accuracy: 0.7693 - val_loss: 0.6968 - val_accuracy: 0.7880\n",
      "Epoch 30/50\n",
      "74/74 [==============================] - 1s 10ms/step - loss: 0.6460 - accuracy: 0.7708 - val_loss: 0.6990 - val_accuracy: 0.7880\n",
      "Epoch 31/50\n",
      "74/74 [==============================] - 1s 10ms/step - loss: 0.6417 - accuracy: 0.7787 - val_loss: 0.6962 - val_accuracy: 0.7920\n",
      "Epoch 32/50\n",
      "74/74 [==============================] - 1s 10ms/step - loss: 0.6281 - accuracy: 0.7810 - val_loss: 0.6985 - val_accuracy: 0.7960\n",
      "Epoch 33/50\n",
      "74/74 [==============================] - 1s 10ms/step - loss: 0.6336 - accuracy: 0.7740 - val_loss: 0.6970 - val_accuracy: 0.7960\n",
      "Epoch 34/50\n",
      "74/74 [==============================] - 1s 11ms/step - loss: 0.6256 - accuracy: 0.7862 - val_loss: 0.6931 - val_accuracy: 0.7960\n",
      "Epoch 35/50\n",
      "74/74 [==============================] - 1s 11ms/step - loss: 0.6238 - accuracy: 0.7778 - val_loss: 0.6918 - val_accuracy: 0.7880\n",
      "Epoch 36/50\n",
      "74/74 [==============================] - 1s 11ms/step - loss: 0.6131 - accuracy: 0.7819 - val_loss: 0.6987 - val_accuracy: 0.7920\n",
      "Epoch 37/50\n",
      "74/74 [==============================] - 1s 12ms/step - loss: 0.6101 - accuracy: 0.7806 - val_loss: 0.6968 - val_accuracy: 0.7960\n",
      "Epoch 38/50\n",
      "74/74 [==============================] - 1s 11ms/step - loss: 0.5998 - accuracy: 0.7883 - val_loss: 0.6979 - val_accuracy: 0.7920\n",
      "Epoch 39/50\n",
      "74/74 [==============================] - 1s 11ms/step - loss: 0.5999 - accuracy: 0.7900 - val_loss: 0.6980 - val_accuracy: 0.7880\n",
      "Epoch 40/50\n",
      "74/74 [==============================] - 1s 11ms/step - loss: 0.5987 - accuracy: 0.7887 - val_loss: 0.6980 - val_accuracy: 0.7920\n",
      "Epoch 41/50\n",
      "74/74 [==============================] - 1s 11ms/step - loss: 0.6017 - accuracy: 0.7870 - val_loss: 0.6958 - val_accuracy: 0.7840\n",
      "Epoch 42/50\n",
      "74/74 [==============================] - 1s 11ms/step - loss: 0.5849 - accuracy: 0.7870 - val_loss: 0.7039 - val_accuracy: 0.7960\n",
      "Epoch 43/50\n",
      "74/74 [==============================] - 1s 11ms/step - loss: 0.5858 - accuracy: 0.7900 - val_loss: 0.6995 - val_accuracy: 0.7880\n",
      "Epoch 44/50\n",
      "74/74 [==============================] - 1s 12ms/step - loss: 0.5863 - accuracy: 0.7938 - val_loss: 0.6995 - val_accuracy: 0.7880\n",
      "Epoch 45/50\n",
      "74/74 [==============================] - 1s 11ms/step - loss: 0.5838 - accuracy: 0.7898 - val_loss: 0.6961 - val_accuracy: 0.7920\n",
      "Epoch 46/50\n",
      "74/74 [==============================] - 1s 11ms/step - loss: 0.5771 - accuracy: 0.7941 - val_loss: 0.6959 - val_accuracy: 0.7960\n",
      "Epoch 47/50\n",
      "74/74 [==============================] - 1s 11ms/step - loss: 0.5838 - accuracy: 0.7919 - val_loss: 0.6951 - val_accuracy: 0.7960\n",
      "Epoch 48/50\n",
      "74/74 [==============================] - 1s 11ms/step - loss: 0.5711 - accuracy: 0.7947 - val_loss: 0.6993 - val_accuracy: 0.7840\n",
      "Epoch 49/50\n",
      "74/74 [==============================] - 1s 11ms/step - loss: 0.5644 - accuracy: 0.7985 - val_loss: 0.7032 - val_accuracy: 0.7840\n",
      "Epoch 50/50\n",
      "74/74 [==============================] - 1s 11ms/step - loss: 0.5714 - accuracy: 0.7945 - val_loss: 0.6992 - val_accuracy: 0.7960\n"
     ]
    }
   ],
   "source": [
    "print(\"Fit model on training data\")\n",
    "history = model.fit(x_train,y_train,batch_size=64,epochs=50,validation_data=(x_val,y_val))"
   ]
  },
  {
   "cell_type": "markdown",
   "metadata": {},
   "source": [
    "## Loss and accuracy plots on training and validation datasets"
   ]
  },
  {
   "cell_type": "code",
   "execution_count": 49,
   "metadata": {},
   "outputs": [
    {
     "data": {
      "text/plain": [
       "<matplotlib.legend.Legend at 0x1a6b8a6d310>"
      ]
     },
     "execution_count": 49,
     "metadata": {},
     "output_type": "execute_result"
    },
    {
     "data": {
      "image/png": "[encoded data removed]",
      "text/plain": [
       "<Figure size 432x288 with 1 Axes>"
      ]
     },
     "metadata": {
      "needs_background": "light"
     },
     "output_type": "display_data"
    }
   ],
   "source": [
    "plt.xlabel('Epoch Number')\n",
    "plt.ylabel(\"Loss Magnitude\")\n",
    "plt.plot(history.history['val_loss'],'r',label='validation loss')\n",
    "plt.plot(history.history['loss'],'b',label='training loss')\n",
    "plt.legend()"
   ]
  },
  {
   "cell_type": "code",
   "execution_count": 50,
   "metadata": {},
   "outputs": [
    {
     "data": {
      "text/plain": [
       "<matplotlib.legend.Legend at 0x1a670471940>"
      ]
     },
     "execution_count": 50,
     "metadata": {},
     "output_type": "execute_result"
    },
    {
     "data": {
      "image/png": "[encoded data removed]",
      "text/plain": [
       "<Figure size 432x288 with 1 Axes>"
      ]
     },
     "metadata": {
      "needs_background": "light"
     },
     "output_type": "display_data"
    }
   ],
   "source": [
    "plt.xlabel('Epoch Number')\n",
    "plt.ylabel(\"Loss Magnitude\")\n",
    "plt.plot(history.history['val_accuracy'],'r',label='validation accuracy')\n",
    "plt.plot(history.history['accuracy'],'b',label='training accuracy')\n",
    "plt.legend()"
   ]
  },
  {
   "cell_type": "markdown",
   "metadata": {},
   "source": [
    "## Evaluate accuracy on test dataset"
   ]
  },
  {
   "cell_type": "code",
   "execution_count": 51,
   "metadata": {},
   "outputs": [
    {
     "name": "stdout",
     "output_type": "stream",
     "text": [
      "8/8 [==============================] - 0s 7ms/step - loss: 0.6992 - accuracy: 0.7960\n",
      "Accuracy on test dataset: 0.7960000038146973\n"
     ]
    }
   ],
   "source": [
    "x_test = final.Skill_US[-250:].to_numpy()\n",
    "y_test = y[-250:]\n",
    "test_loss, test_accuracy = model.evaluate(x_test,y_test)\n",
    "print('Accuracy on test dataset:',test_accuracy)"
   ]
  },
  {
   "cell_type": "markdown",
   "metadata": {},
   "source": [
    "## Predictions on test dataset"
   ]
  },
  {
   "cell_type": "code",
   "execution_count": 52,
   "metadata": {},
   "outputs": [
    {
     "data": {
      "text/html": [
       "<div>\n",
       "<style scoped>\n",
       "    .dataframe tbody tr th:only-of-type {\n",
       "        vertical-align: middle;\n",
       "    }\n",
       "\n",
       "    .dataframe tbody tr th {\n",
       "        vertical-align: top;\n",
       "    }\n",
       "\n",
       "    .dataframe thead th {\n",
       "        text-align: right;\n",
       "    }\n",
       "</style>\n",
       "<table border=\"1\" class=\"dataframe\">\n",
       "  <thead>\n",
       "    <tr style=\"text-align: right;\">\n",
       "      <th></th>\n",
       "      <th>Skill_US</th>\n",
       "      <th>Phases</th>\n",
       "      <th>Predicted Phases</th>\n",
       "    </tr>\n",
       "  </thead>\n",
       "  <tbody>\n",
       "    <tr>\n",
       "      <th>4681</th>\n",
       "      <td>life-safety systems</td>\n",
       "      <td>Supply Chain and Logistics</td>\n",
       "      <td>Software</td>\n",
       "    </tr>\n",
       "    <tr>\n",
       "      <th>4682</th>\n",
       "      <td>teamwork / collaboration</td>\n",
       "      <td>General Skills</td>\n",
       "      <td>Support Activities</td>\n",
       "    </tr>\n",
       "    <tr>\n",
       "      <th>4683</th>\n",
       "      <td>data loss prevention</td>\n",
       "      <td>Software</td>\n",
       "      <td>Support Activities</td>\n",
       "    </tr>\n",
       "    <tr>\n",
       "      <th>4684</th>\n",
       "      <td>invoice review</td>\n",
       "      <td>Support Activities</td>\n",
       "      <td>Support Activities</td>\n",
       "    </tr>\n",
       "    <tr>\n",
       "      <th>4685</th>\n",
       "      <td>grievance procedures</td>\n",
       "      <td>Support Activities</td>\n",
       "      <td>Support Activities</td>\n",
       "    </tr>\n",
       "    <tr>\n",
       "      <th>...</th>\n",
       "      <td>...</td>\n",
       "      <td>...</td>\n",
       "      <td>...</td>\n",
       "    </tr>\n",
       "    <tr>\n",
       "      <th>4926</th>\n",
       "      <td>zenworks</td>\n",
       "      <td>Software</td>\n",
       "      <td>Software</td>\n",
       "    </tr>\n",
       "    <tr>\n",
       "      <th>4927</th>\n",
       "      <td>linux</td>\n",
       "      <td>Software</td>\n",
       "      <td>Software</td>\n",
       "    </tr>\n",
       "    <tr>\n",
       "      <th>4928</th>\n",
       "      <td>sencha</td>\n",
       "      <td>Design</td>\n",
       "      <td>Software</td>\n",
       "    </tr>\n",
       "    <tr>\n",
       "      <th>4929</th>\n",
       "      <td>load calculations</td>\n",
       "      <td>Tooling and Machining</td>\n",
       "      <td>Supply Chain and Logistics</td>\n",
       "    </tr>\n",
       "    <tr>\n",
       "      <th>4930</th>\n",
       "      <td>procurement contracts</td>\n",
       "      <td>Support Activities</td>\n",
       "      <td>Support Activities</td>\n",
       "    </tr>\n",
       "  </tbody>\n",
       "</table>\n",
       "<p>250 rows × 3 columns</p>\n",
       "</div>"
      ],
      "text/plain": [
       "                      Skill_US                      Phases  \\\n",
       "4681       life-safety systems  Supply Chain and Logistics   \n",
       "4682  teamwork / collaboration              General Skills   \n",
       "4683      data loss prevention                    Software   \n",
       "4684            invoice review          Support Activities   \n",
       "4685      grievance procedures          Support Activities   \n",
       "...                        ...                         ...   \n",
       "4926                  zenworks                    Software   \n",
       "4927                     linux                    Software   \n",
       "4928                    sencha                      Design   \n",
       "4929         load calculations       Tooling and Machining   \n",
       "4930     procurement contracts          Support Activities   \n",
       "\n",
       "                Predicted Phases  \n",
       "4681                    Software  \n",
       "4682          Support Activities  \n",
       "4683          Support Activities  \n",
       "4684          Support Activities  \n",
       "4685          Support Activities  \n",
       "...                          ...  \n",
       "4926                    Software  \n",
       "4927                    Software  \n",
       "4928                    Software  \n",
       "4929  Supply Chain and Logistics  \n",
       "4930          Support Activities  \n",
       "\n",
       "[250 rows x 3 columns]"
      ]
     },
     "execution_count": 52,
     "metadata": {},
     "output_type": "execute_result"
    }
   ],
   "source": [
    "predicted_probabilities = model.predict(x_test)\n",
    "predicted_phase = numpy.argmax(predicted_probabilities,axis=-1)\n",
    "df = final[-250:]\n",
    "df = df[['Skill_US','Phases']]\n",
    "df['Predicted Phases'] = predicted_phase\n",
    "df['Predicted Phases'].replace(mydict,inplace=True)\n",
    "df.to_excel('Predictions-test.xlsx')\n",
    "df"
   ]
  },
  {
   "cell_type": "markdown",
   "metadata": {},
   "source": [
    "## NaNs"
   ]
  },
  {
   "cell_type": "code",
   "execution_count": 53,
   "metadata": {},
   "outputs": [
    {
     "name": "stdout",
     "output_type": "stream",
     "text": [
      "857 annotated nans\n"
     ]
    },
    {
     "data": {
      "text/plain": [
       "Tooling and Machining         200\n",
       "Support Activities            172\n",
       "Design                        172\n",
       "Supply Chain and Logistics    137\n",
       "Production and Assembly       109\n",
       "Materials                      39\n",
       "Software                       20\n",
       "Ideation and Development        4\n",
       "General Skills                  4\n",
       "Name: Phases, dtype: int64"
      ]
     },
     "execution_count": 53,
     "metadata": {},
     "output_type": "execute_result"
    }
   ],
   "source": [
    "dfnan = original.copy()\n",
    "dfnan = dfnan.loc[original.Phases.isna()]\n",
    "dfnan.loc[(dfnan.Phases.isna())&(dfnan.Skill_US.str.contains('design'))&(~dfnan.Skill_US.str.contains('supply'))&(~dfnan.Skill_US.str.contains('sales')),'Phases'] = 'Design'\n",
    "dfnan.loc[(dfnan.Phases.isna())&(dfnan.Skill_US.str.contains('skills')),'Phases'] = 'General Skills'\n",
    "dfnan.loc[(dfnan.Phases.isna())&(dfnan.Skill_US.str.contains('discover')),'Phases'] = 'Ideation and Development'\n",
    "dfnan.loc[(dfnan.Phases.isna())&(dfnan.Skill_US.str.contains('prototyp')),'Phases'] = 'Ideation and Development'\n",
    "dfnan.loc[(dfnan.Phases.isna())&(dfnan.Skill_US.str.contains('material'))&(~dfnan.Skill_US.str.contains('design'))&(~dfnan.Skill_US.str.contains('inventory'))&(~dfnan.Skill_US.str.contains('manufactur'))&(~dfnan.Skill_US.str.contains('procurement'))&(~dfnan.Skill_US.str.contains('purchas')),'Phases'] = 'Materials'\n",
    "dfnan.loc[(dfnan.Phases.isna())&(dfnan.Skill_US.str.contains('brazing'))&(~dfnan.Skill_US.str.contains('design'))&(~dfnan.Skill_US.str.contains('equipment'))&(~dfnan.Skill_US.str.contains('machine')),'Phases'] = 'Production and Assembly'\n",
    "dfnan.loc[(dfnan.Phases.isna())&(dfnan.Skill_US.str.contains('manufactur'))&(~dfnan.Skill_US.str.contains('design'))&(~dfnan.Skill_US.str.contains('equipment'))&(~dfnan.Skill_US.str.contains('machine')),'Phases'] = 'Production and Assembly'\n",
    "dfnan.loc[(dfnan.Phases.isna())&(dfnan.Skill_US.str.contains('production'))&(~dfnan.Skill_US.str.contains('design'))&(~dfnan.Skill_US.str.contains('equipment'))&(~dfnan.Skill_US.str.contains('machine')),'Phases'] = 'Production and Assembly'\n",
    "dfnan.loc[(dfnan.Phases.isna())&(dfnan.Skill_US.str.contains('soldering'))&(~dfnan.Skill_US.str.contains('design'))&(~dfnan.Skill_US.str.contains('equipment'))&(~dfnan.Skill_US.str.contains('machine')),'Phases'] = 'Production and Assembly'\n",
    "dfnan.loc[(dfnan.Phases.isna())&(dfnan.Skill_US.str.contains('welding'))&(~dfnan.Skill_US.str.contains('design'))&(~dfnan.Skill_US.str.contains('equipment'))&(~dfnan.Skill_US.str.contains('machine')),'Phases'] = 'Production and Assembly'\n",
    "dfnan.loc[(dfnan.Phases.isna())&(dfnan.Skill_US.str.contains('software')),'Phases'] = 'Software'\n",
    "dfnan.loc[(dfnan.Phases.isna())&(dfnan.Skill_US.str.contains('inventory'))&(~dfnan.Skill_US.str.contains('manufactur'))&(~dfnan.Skill_US.str.contains('market')),'Phases'] = 'Supply Chain and Logistics'\n",
    "dfnan.loc[(dfnan.Phases.isna())&(dfnan.Skill_US.str.contains('procurement'))&(~dfnan.Skill_US.str.contains('manufactur'))&(~dfnan.Skill_US.str.contains('market')),'Phases'] = 'Supply Chain and Logistics'\n",
    "dfnan.loc[(dfnan.Phases.isna())&(dfnan.Skill_US.str.contains('purchas'))&(~dfnan.Skill_US.str.contains('manufactur'))&(~dfnan.Skill_US.str.contains('market')),'Phases'] = 'Supply Chain and Logistics'\n",
    "dfnan.loc[(dfnan.Phases.isna())&(dfnan.Skill_US.str.contains('supplier'))&(~dfnan.Skill_US.str.contains('manufactur'))&(~dfnan.Skill_US.str.contains('market')),'Phases'] = 'Supply Chain and Logistics'\n",
    "dfnan.loc[(dfnan.Phases.isna())&(dfnan.Skill_US.str.contains('supply'))&(~dfnan.Skill_US.str.contains('manufactur'))&(~dfnan.Skill_US.str.contains('market')),'Phases'] = 'Supply Chain and Logistics'\n",
    "dfnan.loc[(dfnan.Phases.isna())&(dfnan.Skill_US.str.contains('stock'))&(~dfnan.Skill_US.str.contains('manufactur'))&(~dfnan.Skill_US.str.contains('market')),'Phases'] = 'Supply Chain and Logistics'\n",
    "dfnan.loc[(dfnan.Phases.isna())&(dfnan.Skill_US.str.contains('management')),'Phases'] = 'Support Activities'\n",
    "dfnan.loc[(dfnan.Phases.isna())&(dfnan.Skill_US.str.contains('device'))&(~dfnan.Skill_US.str.contains('design'))&(~dfnan.Skill_US.str.contains('sales')),'Phases'] = 'Tooling and Machining'\n",
    "dfnan.loc[(dfnan.Phases.isna())&(dfnan.Skill_US.str.contains('equipment'))&(~dfnan.Skill_US.str.contains('design'))&(~dfnan.Skill_US.str.contains('sales')),'Phases'] = 'Tooling and Machining'\n",
    "dfnan.loc[(dfnan.Phases.isna())&(dfnan.Skill_US.str.contains('instrument'))&(~dfnan.Skill_US.str.contains('design'))&(~dfnan.Skill_US.str.contains('sales')),'Phases'] = 'Tooling and Machining'\n",
    "dfnan.loc[(dfnan.Phases.isna())&(dfnan.Skill_US.str.contains('machine'))&(~dfnan.Skill_US.str.contains('design'))&(~dfnan.Skill_US.str.contains('sales')),'Phases'] = 'Tooling and Machining'\n",
    "dfnan.loc[(dfnan.Phases.isna())&(dfnan.Skill_US.str.contains('machine'))&(~dfnan.Skill_US.str.contains('design'))&(~dfnan.Skill_US.str.contains('sales')),'Phases'] = 'Tooling and Machining'\n",
    "dfnan.loc[(dfnan.Phases.isna())&(dfnan.Skill_US.str.contains('repair'))&(~dfnan.Skill_US.str.contains('design'))&(~dfnan.Skill_US.str.contains('sales')),'Phases'] = 'Tooling and Machining'\n",
    "dfnan.loc[(dfnan.Phases.isna())&(dfnan.Skill_US.str.contains('vehicle'))&(~dfnan.Skill_US.str.contains('design'))&(~dfnan.Skill_US.str.contains('sales')),'Phases'] = 'Tooling and Machining'\n",
    "dfnan = dfnan.dropna(subset=['Phases'])\n",
    "print(len(dfnan),'annotated nans')\n",
    "dfnan.Phases.value_counts()"
   ]
  },
  {
   "cell_type": "markdown",
   "metadata": {},
   "source": [
    "## Accuracy on NaNs dataset"
   ]
  },
  {
   "cell_type": "code",
   "execution_count": 54,
   "metadata": {},
   "outputs": [
    {
     "name": "stdout",
     "output_type": "stream",
     "text": [
      "27/27 [==============================] - 0s 7ms/step - loss: 1.0906 - accuracy: 0.6429\n",
      "Accuracy on nans dataset: 0.6429404616355896\n"
     ]
    }
   ],
   "source": [
    "x_nan = dfnan.Skill_US.to_numpy()\n",
    "y_nan = dfnan.Phases.str.get_dummies()\n",
    "y_nan = y_nan.to_numpy()\n",
    "nan_loss, nan_accuracy = model.evaluate(x_nan,y_nan)\n",
    "print('Accuracy on nans dataset:',nan_accuracy)"
   ]
  },
  {
   "cell_type": "markdown",
   "metadata": {},
   "source": [
    "## Predictions on NaNs dataset"
   ]
  },
  {
   "cell_type": "code",
   "execution_count": 55,
   "metadata": {},
   "outputs": [
    {
     "data": {
      "text/html": [
       "<div>\n",
       "<style scoped>\n",
       "    .dataframe tbody tr th:only-of-type {\n",
       "        vertical-align: middle;\n",
       "    }\n",
       "\n",
       "    .dataframe tbody tr th {\n",
       "        vertical-align: top;\n",
       "    }\n",
       "\n",
       "    .dataframe thead th {\n",
       "        text-align: right;\n",
       "    }\n",
       "</style>\n",
       "<table border=\"1\" class=\"dataframe\">\n",
       "  <thead>\n",
       "    <tr style=\"text-align: right;\">\n",
       "      <th></th>\n",
       "      <th>Skill_US</th>\n",
       "      <th>Phases</th>\n",
       "      <th>Predicted Phases</th>\n",
       "    </tr>\n",
       "  </thead>\n",
       "  <tbody>\n",
       "    <tr>\n",
       "      <th>5</th>\n",
       "      <td>energy management</td>\n",
       "      <td>Support Activities</td>\n",
       "      <td>Support Activities</td>\n",
       "    </tr>\n",
       "    <tr>\n",
       "      <th>24</th>\n",
       "      <td>water distribution system design</td>\n",
       "      <td>Design</td>\n",
       "      <td>Software</td>\n",
       "    </tr>\n",
       "    <tr>\n",
       "      <th>26</th>\n",
       "      <td>materials management applications</td>\n",
       "      <td>Materials</td>\n",
       "      <td>Supply Chain and Logistics</td>\n",
       "    </tr>\n",
       "    <tr>\n",
       "      <th>33</th>\n",
       "      <td>electrical testing instruments</td>\n",
       "      <td>Tooling and Machining</td>\n",
       "      <td>Tooling and Machining</td>\n",
       "    </tr>\n",
       "    <tr>\n",
       "      <th>45</th>\n",
       "      <td>leadership in energy and environmental design ...</td>\n",
       "      <td>Design</td>\n",
       "      <td>Production and Assembling</td>\n",
       "    </tr>\n",
       "    <tr>\n",
       "      <th>...</th>\n",
       "      <td>...</td>\n",
       "      <td>...</td>\n",
       "      <td>...</td>\n",
       "    </tr>\n",
       "    <tr>\n",
       "      <th>11783</th>\n",
       "      <td>spectrum management</td>\n",
       "      <td>Support Activities</td>\n",
       "      <td>Support Activities</td>\n",
       "    </tr>\n",
       "    <tr>\n",
       "      <th>11879</th>\n",
       "      <td>connected vehicle security</td>\n",
       "      <td>Tooling and Machining</td>\n",
       "      <td>Software</td>\n",
       "    </tr>\n",
       "    <tr>\n",
       "      <th>11928</th>\n",
       "      <td>ics/ot threat and vulnerability management</td>\n",
       "      <td>Support Activities</td>\n",
       "      <td>Software</td>\n",
       "    </tr>\n",
       "    <tr>\n",
       "      <th>11936</th>\n",
       "      <td>iot device management</td>\n",
       "      <td>Support Activities</td>\n",
       "      <td>Software</td>\n",
       "    </tr>\n",
       "    <tr>\n",
       "      <th>11937</th>\n",
       "      <td>iot device security</td>\n",
       "      <td>Tooling and Machining</td>\n",
       "      <td>Software</td>\n",
       "    </tr>\n",
       "  </tbody>\n",
       "</table>\n",
       "<p>857 rows × 3 columns</p>\n",
       "</div>"
      ],
      "text/plain": [
       "                                                Skill_US  \\\n",
       "5                                      energy management   \n",
       "24                      water distribution system design   \n",
       "26                     materials management applications   \n",
       "33                        electrical testing instruments   \n",
       "45     leadership in energy and environmental design ...   \n",
       "...                                                  ...   \n",
       "11783                                spectrum management   \n",
       "11879                         connected vehicle security   \n",
       "11928         ics/ot threat and vulnerability management   \n",
       "11936                              iot device management   \n",
       "11937                                iot device security   \n",
       "\n",
       "                      Phases            Predicted Phases  \n",
       "5         Support Activities          Support Activities  \n",
       "24                    Design                    Software  \n",
       "26                 Materials  Supply Chain and Logistics  \n",
       "33     Tooling and Machining       Tooling and Machining  \n",
       "45                    Design   Production and Assembling  \n",
       "...                      ...                         ...  \n",
       "11783     Support Activities          Support Activities  \n",
       "11879  Tooling and Machining                    Software  \n",
       "11928     Support Activities                    Software  \n",
       "11936     Support Activities                    Software  \n",
       "11937  Tooling and Machining                    Software  \n",
       "\n",
       "[857 rows x 3 columns]"
      ]
     },
     "execution_count": 55,
     "metadata": {},
     "output_type": "execute_result"
    }
   ],
   "source": [
    "predicted_probabilities = model.predict(x_nan)\n",
    "predicted_phase = numpy.argmax(predicted_probabilities,axis=-1)\n",
    "dfnan = dfnan[['Skill_US','Phases']]\n",
    "dfnan['Predicted Phases'] = predicted_phase\n",
    "dfnan['Predicted Phases'].replace(mydict,inplace=True)\n",
    "dfnan.to_excel('Predictions-nan.xlsx')\n",
    "dfnan"
   ]
  },
  {
   "cell_type": "markdown",
   "metadata": {},
   "source": [
    "## Predictions on all 12,016"
   ]
  },
  {
   "cell_type": "code",
   "execution_count": 56,
   "metadata": {},
   "outputs": [],
   "source": [
    "df = original.copy()\n",
    "predicted_probabilities = model.predict(df.Skill_US.to_numpy())\n",
    "predicted_phase = numpy.argmax(predicted_probabilities,axis=-1)\n",
    "df['Predicted Phases'] = predicted_phase\n",
    "df['Predicted Phases'].replace(mydict,inplace=True)\n",
    "df.to_csv('Predictions-all.csv',index=False)"
   ]
  },
  {
   "cell_type": "markdown",
   "metadata": {},
   "source": [
    "## Get files for the tensorflow projector"
   ]
  },
  {
   "cell_type": "code",
   "execution_count": 37,
   "metadata": {},
   "outputs": [],
   "source": [
    "import io\n",
    "out_v = io.open('vecs.tsv','w',encoding='utf-8')\n",
    "out_m = io.open('meta.tsv','w',encoding='utf-8')\n",
    "weights = layer_0.get_weights()[0]\n",
    "for i,phrase in enumerate(final.Skill_US):\n",
    "  embeddings = weights[i]\n",
    "  out_m.write(phrase + '\\n')\n",
    "  out_v.write('\\t'.join([str(x) for x in embeddings]) + '\\n')\n",
    "out_v.close()\n",
    "out_m.close()"
   ]
  },
  {
   "cell_type": "code",
   "execution_count": null,
   "metadata": {},
   "outputs": [],
   "source": [
    "plt.xlabel('Epoch Number')\n",
    "plt.ylabel(\"Loss Magnitude\")\n",
    "plt.plot(history.history['loss'])"
   ]
  },
  {
   "cell_type": "code",
   "execution_count": null,
   "metadata": {},
   "outputs": [],
   "source": [
    "coded.loc[(coded.SkillClusterFamily=='agriculture, horticulture, and the outdoors'),'Phases'] = 'Industry-Specific'\n",
    "coded.loc[(coded.SkillClusterFamily=='architecture and construction'),'Phases'] = 'Industry-Specific'\n",
    "coded.loc[(coded.SkillCluster=='bioinformatics'),'Phases'] = 'Industry-Specific'\n",
    "coded.loc[(coded.SkillCluster=='biology'),'Phases'] = 'Industry-Specific'\n",
    "coded.loc[(coded.SkillCluster=='biopharmaceutical manufacturing'),'Phases'] = 'Industry-Specific'\n",
    "coded.loc[(coded.SkillClusterFamily=='economics, policy, and social studies'),'Phases'] = 'Industry-Specific'\n",
    "coded.loc[(coded.SkillClusterFamily=='education and training')&(coded.SkillCluster!='foreign and language skills')&(coded.SkillCluster!='training programs'),'Phases'] = 'Industry-Specific'\n",
    "coded.loc[(coded.SkillClusterFamily=='energy and utilities'),'Phases'] = 'Industry-Specific'\n",
    "coded.loc[(coded.SkillClusterFamily=='engineering')&(coded.SkillCluster!='automation engineering')&(coded.SkillCluster!='analog design')&(coded.SkillCluster!='drafting and engineering design')&(coded.SkillCluster!='process engineering')&(coded.SkillCluster!='robotics')&(coded.SkillCluster!='simulation')&(coded.SkillCluster!='simulation software'),'Phases'] = 'Industry-Specific'\n",
    "coded.loc[(coded.SkillClusterFamily=='environment'),'Phases'] = 'Industry-Specific'\n",
    "coded.loc[(coded.SkillCluster=='genetics'),'Phases'] = 'Industry-Specific'\n",
    "coded.loc[(coded.SkillClusterFamily=='health Care')&(coded.SkillCluster!='physical abilities'),'Phases'] = 'Industry-Specific'\n",
    "coded.loc[(coded.SkillClusterFamily=='industry knowledge')&(coded.SkillCluster!='aluminium industry knowledge')&(coded.SkillCluster!='chemical industry knowledge')&(coded.SkillCluster!='engineering industry knowledge')&(coded.SkillCluster!='metal industy industry knowledge')&(coded.SkillCluster!='plastics material industry knowledge'),'Phases'] = 'Industry-Specific'\n",
    "coded.loc[(coded.SkillClusterFamily=='media and writing'),'Phases'] = 'Industry-Specific'\n",
    "coded.loc[(coded.SkillClusterFamily=='personal care and services'),'Phases'] = 'Industry-Specific'\n",
    "coded.loc[(coded.SkillClusterFamily=='public safety and national Security'),'Phases'] = 'Industry-Specific'\n",
    "coded.loc[(coded.SkillClusterFamily=='religion'),'Phases'] = 'Industry-Specific'"
   ]
  }
 ],
 "metadata": {
  "kernelspec": {
   "display_name": "Python 3 (ipykernel)",
   "language": "python",
   "name": "python3"
  },
  "language_info": {
   "codemirror_mode": {
    "name": "ipython",
    "version": 3
   },
   "file_extension": ".py",
   "mimetype": "text/x-python",
   "name": "python",
   "nbconvert_exporter": "python",
   "pygments_lexer": "ipython3",
   "version": "3.9.6"
  }
 },
 "nbformat": 4,
 "nbformat_minor": 4
}
