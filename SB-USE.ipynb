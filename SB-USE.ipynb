{
 "cells": [
  {
   "cell_type": "markdown",
   "id": "5b5f5070",
   "metadata": {},
   "source": [
    "## Set up"
   ]
  },
  {
   "cell_type": "code",
   "execution_count": 3,
   "id": "2470f6ef",
   "metadata": {},
   "outputs": [],
   "source": [
    "import tensorflow as tf\n",
    "import tensorflow_hub as hub\n",
    "import numpy \n",
    "import pandas\n",
    "from scipy import stats\n",
    "import time\n",
    "from itertools import combinations"
   ]
  },
  {
   "cell_type": "code",
   "execution_count": 4,
   "id": "99ead02e",
   "metadata": {},
   "outputs": [
    {
     "name": "stdout",
     "output_type": "stream",
     "text": [
      "module https://tfhub.dev/google/universal-sentence-encoder/4 loaded\n"
     ]
    }
   ],
   "source": [
    "url = \"https://tfhub.dev/google/universal-sentence-encoder/4\"\n",
    "nlp = hub.load(url)\n",
    "print (\"module %s loaded\" % url)"
   ]
  },
  {
   "cell_type": "code",
   "execution_count": 5,
   "id": "dbae6e60",
   "metadata": {},
   "outputs": [
    {
     "data": {
      "text/plain": [
       "<tf.Tensor: shape=(1, 512), dtype=float32, numpy=\n",
       "array([[ 0.00847739, -0.02442496, -0.00858844, -0.01480304, -0.00306875,\n",
       "         0.05746894,  0.05213621,  0.01705379,  0.03088988,  0.02509503,\n",
       "        -0.01306393,  0.06517093,  0.02921114, -0.05873831,  0.01662105,\n",
       "        -0.08658601,  0.07640935,  0.01744252,  0.07326126,  0.05524365,\n",
       "        -0.02530596, -0.0477285 , -0.01923554, -0.04782432, -0.08482939,\n",
       "        -0.03659053,  0.0323831 , -0.06681018, -0.06364907,  0.00755073,\n",
       "         0.03215759, -0.01605681, -0.08077275, -0.03591077, -0.04987152,\n",
       "        -0.00708391,  0.00600367,  0.03089833, -0.0008762 ,  0.03288973,\n",
       "        -0.0340079 ,  0.05709708,  0.0520334 , -0.06192387,  0.01787907,\n",
       "        -0.04159049, -0.00130487, -0.0392967 , -0.00623377, -0.05834588,\n",
       "        -0.02470777,  0.0453537 ,  0.03174945, -0.03971299,  0.03406378,\n",
       "        -0.00534536, -0.01546777, -0.04535134,  0.08519338,  0.05317898,\n",
       "        -0.00199912,  0.05836201, -0.00169684, -0.03763165, -0.02187691,\n",
       "        -0.00631783, -0.03953189,  0.01949226, -0.00087733, -0.00919354,\n",
       "        -0.05202941,  0.00259128, -0.04175941,  0.01284892,  0.00220995,\n",
       "        -0.0376519 , -0.05237691, -0.02448305,  0.08577071, -0.04433008,\n",
       "        -0.0129271 ,  0.03408802, -0.06906702, -0.04268059,  0.00046071,\n",
       "         0.06920031,  0.0362475 , -0.01165755,  0.02123392, -0.03149591,\n",
       "         0.03940725,  0.04321506, -0.05597677,  0.01684114, -0.01097073,\n",
       "         0.06838203, -0.08589924, -0.07194748,  0.00201294, -0.07861283,\n",
       "         0.06349131, -0.03209625, -0.08305181,  0.01471821,  0.02702502,\n",
       "         0.0293119 ,  0.03366717, -0.04219977,  0.00777314, -0.01788848,\n",
       "         0.04661969,  0.05944771, -0.0054702 , -0.07058143,  0.04783842,\n",
       "        -0.04085291,  0.02208697,  0.05893145, -0.04270222, -0.0008992 ,\n",
       "        -0.07140435,  0.06703446,  0.06515443, -0.07100503, -0.05779157,\n",
       "         0.07712977, -0.01554037, -0.07420988, -0.01689239, -0.01962339,\n",
       "        -0.07141487, -0.00777968, -0.01493655,  0.08116096,  0.01826221,\n",
       "         0.04528272, -0.00312827,  0.04086493,  0.04485258, -0.05509575,\n",
       "        -0.05127854, -0.03854347,  0.03674531, -0.03161903,  0.00478472,\n",
       "         0.05558653,  0.01853505, -0.01518981,  0.05534419, -0.05245942,\n",
       "         0.04026366, -0.01445151,  0.00863453,  0.0328843 , -0.03653737,\n",
       "        -0.02153146,  0.0297478 ,  0.04428015,  0.02630186, -0.01282658,\n",
       "         0.00161159,  0.04444471, -0.0569895 ,  0.05748531,  0.00247146,\n",
       "         0.01973622, -0.01494964, -0.06850491,  0.03183989, -0.02167971,\n",
       "        -0.04443493,  0.06283682, -0.02324301, -0.01145328,  0.08404002,\n",
       "         0.02034307,  0.01088418, -0.00463839,  0.00465942,  0.0350933 ,\n",
       "         0.00557536,  0.01135343,  0.03461216, -0.04477734,  0.06108934,\n",
       "         0.02485335, -0.04057689, -0.00408103, -0.0346082 , -0.042783  ,\n",
       "         0.04373607,  0.02390354,  0.01543247, -0.00065136,  0.03505168,\n",
       "        -0.07849285,  0.01869251,  0.00532393,  0.04487588, -0.04368077,\n",
       "        -0.05790944,  0.00144762,  0.02634922, -0.04903823, -0.01877123,\n",
       "         0.04036417,  0.05747696, -0.02454259, -0.01049321, -0.00789432,\n",
       "         0.04243965,  0.02937206, -0.04781865, -0.02793975, -0.05296488,\n",
       "         0.07038233,  0.01675137,  0.0251817 , -0.04193369,  0.05380651,\n",
       "         0.02494733, -0.04891158,  0.02233779,  0.00509368,  0.02900808,\n",
       "         0.02817009, -0.032187  , -0.00275919,  0.01918026, -0.01423461,\n",
       "        -0.04259619, -0.01904008,  0.02195513,  0.06946468,  0.05367005,\n",
       "        -0.01443055,  0.05283063,  0.02320615,  0.04072856,  0.05079984,\n",
       "         0.03718251, -0.02962294, -0.00140292,  0.00378195, -0.04135695,\n",
       "         0.00585655, -0.03500693,  0.07310208,  0.01455753, -0.07380178,\n",
       "        -0.01368621, -0.04081581,  0.02536158, -0.03565888,  0.00969579,\n",
       "        -0.04685545,  0.0225448 , -0.0212271 ,  0.04368205, -0.02262659,\n",
       "        -0.05914759,  0.00450097, -0.01053815,  0.03167713, -0.01121572,\n",
       "        -0.0298113 ,  0.03254743,  0.01526455, -0.02807852,  0.05430922,\n",
       "         0.02234123, -0.07977978,  0.03671288, -0.02590932, -0.0233901 ,\n",
       "        -0.03484337, -0.02875056,  0.00745989,  0.066841  ,  0.00945917,\n",
       "        -0.07479897, -0.0765453 , -0.02993835,  0.03771749,  0.0414352 ,\n",
       "         0.06110931,  0.05718706,  0.00164985,  0.05487564, -0.02086502,\n",
       "        -0.02529542,  0.01695052,  0.06507551, -0.07691231,  0.03808994,\n",
       "         0.05246627,  0.01159753, -0.02808691, -0.02091712,  0.01283187,\n",
       "        -0.03371761, -0.07415036,  0.0320368 , -0.01065352,  0.07686705,\n",
       "         0.04213627,  0.06963216,  0.03854644, -0.03096538,  0.0696428 ,\n",
       "        -0.00904088,  0.01798239, -0.0232899 , -0.00182249,  0.07979567,\n",
       "         0.00795921, -0.04497276, -0.03599205,  0.03445418,  0.02522961,\n",
       "        -0.08076687,  0.03828964, -0.00152285, -0.04065039, -0.05038052,\n",
       "        -0.01882603, -0.01744997,  0.07256084, -0.01081331, -0.0740466 ,\n",
       "         0.05120343, -0.04651026,  0.01890308,  0.06743918, -0.07620084,\n",
       "        -0.02780319,  0.0035337 ,  0.06697314, -0.00485986,  0.03493207,\n",
       "        -0.04823139, -0.05995378, -0.04420859, -0.00127256, -0.05612864,\n",
       "         0.02033548,  0.03818729, -0.04441323, -0.01619681, -0.06454024,\n",
       "         0.02512988,  0.07856563, -0.04537556, -0.00640153,  0.01586935,\n",
       "        -0.0871889 , -0.08439817,  0.01960043, -0.04305004, -0.07100113,\n",
       "        -0.06608926, -0.03992427,  0.0201389 , -0.05607866,  0.03076881,\n",
       "         0.05261176,  0.08298644, -0.04057578,  0.02459303,  0.0222507 ,\n",
       "         0.04087696,  0.03384482,  0.02474666,  0.05204305,  0.06465387,\n",
       "        -0.06083522, -0.00680554, -0.04178729, -0.05817893, -0.06592137,\n",
       "        -0.01051716, -0.07086524, -0.00235682, -0.04389505,  0.07086056,\n",
       "        -0.08553212, -0.00247324, -0.03816354, -0.03348533,  0.03307868,\n",
       "        -0.01553782, -0.01595154,  0.01711029,  0.07110871,  0.05882543,\n",
       "        -0.00349867, -0.00208408,  0.0852459 , -0.07851742, -0.00167992,\n",
       "         0.00204012,  0.01506292, -0.04644713, -0.03890076, -0.02737836,\n",
       "        -0.06774469, -0.0506303 ,  0.07832989, -0.04554461,  0.03669341,\n",
       "        -0.02330939, -0.00279228, -0.00595498, -0.03858051, -0.00161546,\n",
       "         0.01580064,  0.08581596,  0.00859207, -0.08508191, -0.032512  ,\n",
       "        -0.05681737, -0.03222608, -0.07361889, -0.04639925,  0.03538848,\n",
       "        -0.0690672 ,  0.03284085,  0.06489671,  0.0266909 , -0.07846482,\n",
       "         0.0113028 ,  0.03497085, -0.06543288, -0.06447499,  0.08181744,\n",
       "        -0.06653745,  0.07099247,  0.01236004,  0.01706222,  0.04229828,\n",
       "        -0.00278872,  0.05657633, -0.05054788,  0.0392647 ,  0.05898197,\n",
       "        -0.0163902 , -0.02596046,  0.00783573, -0.01576171, -0.02433441,\n",
       "        -0.04316922, -0.02374393,  0.00805829,  0.07505336,  0.08147883,\n",
       "         0.06204394,  0.07648757,  0.04769848,  0.06087586, -0.05227438,\n",
       "         0.04394137,  0.02566128,  0.08501037, -0.06892414, -0.01590785,\n",
       "         0.01752225, -0.07834327, -0.0059858 ,  0.02189545,  0.07866902,\n",
       "        -0.01690652, -0.08273667, -0.01503759, -0.05948914, -0.05477867,\n",
       "        -0.04569671, -0.03617093,  0.04647992,  0.0112802 ,  0.07365107,\n",
       "        -0.02802683, -0.05854068,  0.02549688, -0.04883113,  0.03062422,\n",
       "         0.06592443,  0.06751113,  0.00616526,  0.03350113,  0.01570588,\n",
       "        -0.03634014,  0.02672827,  0.0355233 ,  0.01022254, -0.06571561,\n",
       "         0.03806243, -0.05959367, -0.0152483 , -0.00175449,  0.02176646,\n",
       "        -0.02186969, -0.05725415, -0.05426321, -0.08689905,  0.00137955,\n",
       "         0.01662587,  0.02508535, -0.02754445,  0.07814685, -0.04444849,\n",
       "        -0.06791334,  0.03621201]], dtype=float32)>"
      ]
     },
     "execution_count": 5,
     "metadata": {},
     "output_type": "execute_result"
    }
   ],
   "source": [
    "nlp(['communication skills'])"
   ]
  },
  {
   "cell_type": "code",
   "execution_count": 7,
   "id": "5f3a8392",
   "metadata": {},
   "outputs": [
    {
     "name": "stdout",
     "output_type": "stream",
     "text": [
      "tf.Tensor(\n",
      "[[ 0.04736473 -0.00548766  0.01081967 ... -0.06126872 -0.0060198\n",
      "  -0.00647844]\n",
      " [-0.02010326 -0.07038264  0.01779231 ... -0.05918299 -0.00423545\n",
      "  -0.02273482]\n",
      " [ 0.00847739 -0.02442496 -0.00858843 ... -0.04444852 -0.06791332\n",
      "   0.03621201]], shape=(3, 512), dtype=float32)\n"
     ]
    },
    {
     "data": {
      "text/plain": [
       "array([[0.99999964, 0.22803646, 0.25098065],\n",
       "       [0.22803646, 1.0000005 , 0.33013391],\n",
       "       [0.25098065, 0.33013391, 0.99999976]], dtype=float32)"
      ]
     },
     "execution_count": 7,
     "metadata": {},
     "output_type": "execute_result"
    }
   ],
   "source": [
    "skills = ['additive manufacturing','problem solving','communication skills']\n",
    "skills_e = nlp(skills)\n",
    "print(skills_e)\n",
    "numpy.inner(skills_e,skills_e)"
   ]
  },
  {
   "cell_type": "code",
   "execution_count": 4,
   "id": "0d162547",
   "metadata": {},
   "outputs": [
    {
     "name": "stdout",
     "output_type": "stream",
     "text": [
      "0.22803646 similarity between additive manufacturing and problem solving\n",
      "0.25098065 similarity between additive manufacturing and communication skills\n",
      "0.33013391 similarity between communication skills and problem solving\n"
     ]
    }
   ],
   "source": [
    "print(numpy.inner(skills_e,skills_e)[0][1], 'similarity between additive manufacturing and problem solving')\n",
    "print(numpy.inner(skills_e,skills_e)[0][2], 'similarity between additive manufacturing and communication skills')\n",
    "print(numpy.inner(skills_e,skills_e)[1][2], 'similarity between communication skills and problem solving')"
   ]
  },
  {
   "cell_type": "markdown",
   "id": "25b95afb",
   "metadata": {},
   "source": [
    "## Data"
   ]
  },
  {
   "cell_type": "code",
   "execution_count": 8,
   "id": "3072c643",
   "metadata": {},
   "outputs": [
    {
     "name": "stdout",
     "output_type": "stream",
     "text": [
      "3091473 postings in full sample\n",
      "85 identified SB plants\n",
      "25 hybrid SB plants\n",
      "['Argen San Diego', 'Align Technolo San Jose', 'Protolabs Maple Plain', 'Stratasys Direct Eden Prairie', 'Jabil Circuit San Jose', 'Jabil Circuit Saint Petersburg', 'Jabil Circuit Anaheim', 'Protolabs Raleigh', 'Carpenter Technolo Bridgeville', 'Oerlikon Group Westbury', 'Stratasys Direct Minneapolis', 'Stratasys Direct New York', 'Stratasys Direct Poway', 'Stratasys Direct Santa Clarita', 'Shapeways New York', 'Carbon 3d Redwood City', 'Arconic Foundati New Kensington', 'Arconic Foundati Austin', 'Protolabs Morrisville', 'Stratasys Direct Austin', 'Stratasys Direct Belton', 'Xometry Gaithersburg', 'Fast Radius Chicago', 'Exone Irwin', 'Jabil Circuit Albuquerque']\n",
      "13 SB-B firms\n",
      "                         BGTJobId\n",
      "TECH firm                        \n",
      "AM   Align Technolo             9\n",
      "     Arconic Foundati          48\n",
      "     Argen                     11\n",
      "     Carbon 3d                 85\n",
      "     Carpenter Technolo        47\n",
      "     Exone                      8\n",
      "     Fast Radius               33\n",
      "     Jabil Circuit             42\n",
      "     Oerlikon Group            17\n",
      "     Protolabs                 26\n",
      "     Shapeways                 54\n",
      "     Stratasys Direct         190\n",
      "     Xometry                    5\n",
      "TM   Align Technolo            96\n",
      "     Arconic Foundati        3697\n",
      "     Argen                    101\n",
      "     Carbon 3d                109\n",
      "     Carpenter Technolo      1521\n",
      "     Exone                      5\n",
      "     Fast Radius               27\n",
      "     Jabil Circuit           5649\n",
      "     Oerlikon Group           244\n",
      "     Protolabs                169\n",
      "     Shapeways                  7\n",
      "     Stratasys Direct         212\n",
      "     Xometry                   33\n",
      "1441 postings in sample SB-B\n",
      "25 pure TM plants in sample SB-B\n",
      "2 pure AM plants in sample SB-B\n",
      "18 hybrid plants in sample SB-B\n",
      "10 SB-B firms\n",
      "45 SB-B plants\n",
      "0.0    1134\n",
      "2.0     290\n",
      "1.0      17\n",
      "Name: plant_5, dtype: int64\n",
      "TM    1003\n",
      "AM     438\n",
      "Name: TECH, dtype: int64\n",
      "TECH         AM   TM\n",
      "occupation          \n",
      "Manager     172  397\n",
      "Engineer    144  131\n",
      "Technician   43   88\n",
      "Operator     79  387\n"
     ]
    }
   ],
   "source": [
    "filepath = 'D:/BG/Data/Processing/4_data.txt'\n",
    "data = pandas.read_csv(filepath, sep='\\t')\n",
    "print(data.shape[0],'postings in full sample')\n",
    "ourSB = pandas.read_csv('SB.csv', sep=',')\n",
    "ourSB['plant'] = ourSB.firm + ' ' + ourSB.City\n",
    "a = ourSB.plant.unique().tolist()\n",
    "print(len(a),'identified SB plants')\n",
    "b = data.loc[(data.plant_5==0)&(data.plant.isin(a)),'plant'].unique().tolist()\n",
    "print(len(b),'hybrid SB plants')\n",
    "print(b)\n",
    "c = data.loc[(data.plant_5.notnull())&(data.plant.isin(b)),'firm'].unique().tolist()\n",
    "print(len(c),'SB-B firms')\n",
    "d = data.loc[(data.plant_5.notnull())&(data.firm.isin(c))]\n",
    "print(d.groupby(['TECH','firm']).nunique()[['BGTJobId']])\n",
    "c = [x for x in c if x not in ['Arconic Foundati','Carpenter Technolo','Jabil Circuit']]\n",
    "SBB = data[(data.plant_5.notnull())&(data.firm.isin(c))]\n",
    "print(SBB.shape[0],'postings in sample SB-B')\n",
    "print(SBB.loc[SBB.plant_5==2,'plant'].nunique(),'pure TM plants in sample SB-B')\n",
    "print(SBB.loc[SBB.plant_5==1,'plant'].nunique(),'pure AM plants in sample SB-B')\n",
    "print(SBB.loc[SBB.plant_5==0,'plant'].nunique(),'hybrid plants in sample SB-B')\n",
    "print(SBB.firm.nunique(),'SB-B firms')\n",
    "print(SBB.plant.nunique(),'SB-B plants')\n",
    "print(SBB.plant_5.value_counts())\n",
    "print(SBB.TECH.value_counts())\n",
    "N_jobs = SBB.groupby(['occupation','TECH']).nunique()[['BGTJobId']].reindex(['Manager','Engineer','Technician','Operator'], level='occupation').unstack(level=[1])\n",
    "N_jobs.columns = N_jobs.columns.droplevel(0)\n",
    "print(N_jobs)"
   ]
  },
  {
   "cell_type": "markdown",
   "id": "e632f026",
   "metadata": {},
   "source": [
    "## Example 1 - An engineer in Protolabs"
   ]
  },
  {
   "cell_type": "code",
   "execution_count": 41,
   "id": "16563d1b",
   "metadata": {},
   "outputs": [
    {
     "name": "stdout",
     "output_type": "stream",
     "text": [
      "An engineer in Protolabs: ['microsoft office', 'written communication', 'scheduling', 'onboarding', 'process improvement', 'quality assurance and control', 'engineering management', 'height gauges', 'quality management', 'problem solving', 'training materials', 'international traffic in arms regulations (itar)', 'calipers', 'computer numerical control (cnc)']\n",
      "All possible pairs: [('microsoft office', 'computer numerical control (cnc)'), ('problem solving', 'computer numerical control (cnc)'), ('onboarding', 'computer numerical control (cnc)'), ('engineering management', 'computer numerical control (cnc)'), ('microsoft office', 'problem solving'), ('onboarding', 'international traffic in arms regulations (itar)'), ('engineering management', 'international traffic in arms regulations (itar)'), ('scheduling', 'calipers'), ('microsoft office', 'height gauges'), ('microsoft office', 'onboarding'), ('process improvement', 'calipers'), ('written communication', 'calipers'), ('process improvement', 'quality management'), ('scheduling', 'training materials'), ('written communication', 'quality management'), ('onboarding', 'height gauges'), ('process improvement', 'training materials'), ('engineering management', 'height gauges'), ('written communication', 'training materials'), ('quality assurance and control', 'international traffic in arms regulations (itar)'), ('onboarding', 'engineering management'), ('height gauges', 'international traffic in arms regulations (itar)'), ('quality assurance and control', 'height gauges'), ('quality management', 'calipers'), ('microsoft office', 'international traffic in arms regulations (itar)'), ('training materials', 'calipers'), ('scheduling', 'quality assurance and control'), ('quality management', 'training materials'), ('problem solving', 'international traffic in arms regulations (itar)'), ('scheduling', 'process improvement'), ('process improvement', 'quality assurance and control'), ('written communication', 'process improvement'), ('quality assurance and control', 'engineering management'), ('height gauges', 'calipers'), ('height gauges', 'quality management'), ('scheduling', 'computer numerical control (cnc)'), ('microsoft office', 'quality management'), ('process improvement', 'computer numerical control (cnc)'), ('height gauges', 'training materials'), ('microsoft office', 'scheduling'), ('microsoft office', 'training materials'), ('microsoft office', 'engineering management'), ('onboarding', 'calipers'), ('engineering management', 'calipers'), ('onboarding', 'quality management'), ('scheduling', 'problem solving'), ('engineering management', 'quality management'), ('problem solving', 'training materials'), ('onboarding', 'training materials'), ('process improvement', 'problem solving'), ('engineering management', 'training materials'), ('written communication', 'problem solving'), ('scheduling', 'height gauges'), ('scheduling', 'onboarding'), ('quality assurance and control', 'calipers'), ('international traffic in arms regulations (itar)', 'calipers'), ('quality assurance and control', 'quality management'), ('quality management', 'computer numerical control (cnc)'), ('written communication', 'quality assurance and control'), ('quality assurance and control', 'training materials'), ('training materials', 'computer numerical control (cnc)'), ('quality management', 'problem solving'), ('microsoft office', 'calipers'), ('microsoft office', 'written communication'), ('onboarding', 'quality assurance and control'), ('onboarding', 'process improvement'), ('scheduling', 'international traffic in arms regulations (itar)'), ('written communication', 'computer numerical control (cnc)'), ('problem solving', 'calipers'), ('process improvement', 'international traffic in arms regulations (itar)'), ('written communication', 'international traffic in arms regulations (itar)'), ('height gauges', 'problem solving'), ('process improvement', 'height gauges'), ('written communication', 'height gauges'), ('written communication', 'onboarding'), ('scheduling', 'quality management'), ('calipers', 'computer numerical control (cnc)'), ('onboarding', 'problem solving'), ('engineering management', 'problem solving'), ('quality management', 'international traffic in arms regulations (itar)'), ('quality assurance and control', 'computer numerical control (cnc)'), ('scheduling', 'engineering management'), ('international traffic in arms regulations (itar)', 'computer numerical control (cnc)'), ('microsoft office', 'quality assurance and control'), ('written communication', 'scheduling'), ('microsoft office', 'process improvement'), ('process improvement', 'engineering management'), ('training materials', 'international traffic in arms regulations (itar)'), ('written communication', 'engineering management'), ('quality assurance and control', 'problem solving'), ('height gauges', 'computer numerical control (cnc)')]\n",
      "Similarity score for an engineer in Protoloabs: 0.22082385\n"
     ]
    }
   ],
   "source": [
    "df = SBB.copy()\n",
    "df['Year'] = pandas.to_datetime(df.JobDate).dt.year\n",
    "A = df.loc[(df.firm=='Protolabs')&(df.occupation=='Engineer')&(df.Year==2019),'SK']\n",
    "A = A.iloc[0]\n",
    "A = A.split(',')\n",
    "print('An engineer in Protolabs:',A)\n",
    "pairs = list(set(combinations(A,2)))\n",
    "print('All possible pairs:',pairs)\n",
    "for pair in pairs:\n",
    "  token1 = nlp([pair[0]])\n",
    "  token2 = nlp([pair[1]])\n",
    "  score = numpy.inner(token1,token2)\n",
    "  scores.append(score)\n",
    "avg_scores = sum(scores)/len(scores)\n",
    "print('Similarity score for an engineer in Protoloabs:',avg_scores[0][0])"
   ]
  },
  {
   "cell_type": "markdown",
   "id": "0a910b23",
   "metadata": {},
   "source": [
    "## Example 2 - An operator in Protolabs"
   ]
  },
  {
   "cell_type": "code",
   "execution_count": 43,
   "id": "b067156e",
   "metadata": {},
   "outputs": [
    {
     "name": "stdout",
     "output_type": "stream",
     "text": [
      "An operator in Protolabs: ['welding equipment', 'international traffic in arms regulations (itar)', 'organizational skills', '3d modeling / design', 'welding', 'communication skills', 'mig and tig welding']\n",
      "All possible pairs: [('international traffic in arms regulations (itar)', 'welding'), ('welding equipment', 'welding'), ('welding', 'communication skills'), ('international traffic in arms regulations (itar)', 'communication skills'), ('welding equipment', 'communication skills'), ('3d modeling / design', 'mig and tig welding'), ('organizational skills', '3d modeling / design'), ('international traffic in arms regulations (itar)', '3d modeling / design'), ('welding equipment', '3d modeling / design'), ('communication skills', 'mig and tig welding'), ('organizational skills', 'mig and tig welding'), ('welding equipment', 'organizational skills'), ('international traffic in arms regulations (itar)', 'organizational skills'), ('welding', 'mig and tig welding'), ('international traffic in arms regulations (itar)', 'mig and tig welding'), ('welding equipment', 'mig and tig welding'), ('3d modeling / design', 'communication skills'), ('3d modeling / design', 'welding'), ('welding equipment', 'international traffic in arms regulations (itar)'), ('organizational skills', 'communication skills'), ('organizational skills', 'welding')]\n",
      "Similarity score for an operator in Protoloabs: 0.22174238\n"
     ]
    }
   ],
   "source": [
    "df = SBB.copy()\n",
    "df['Year'] = pandas.to_datetime(df.JobDate).dt.year\n",
    "A = df.loc[(df.firm=='Protolabs')&(df.occupation=='Operator')&(df.Year==2019),'SK']\n",
    "A = A.iloc[0]\n",
    "A = A.split(',')\n",
    "print('An operator in Protolabs:',A)\n",
    "pairs = list(set(combinations(A,2)))\n",
    "print('All possible pairs:',pairs)\n",
    "for pair in pairs:\n",
    "  token1 = nlp([pair[0]])\n",
    "  token2 = nlp([pair[1]])\n",
    "  score = numpy.inner(token1,token2)\n",
    "  scores.append(score)\n",
    "avg_scores = sum(scores)/len(scores)\n",
    "print('Similarity score for an operator in Protoloabs:',avg_scores[0][0])"
   ]
  },
  {
   "cell_type": "markdown",
   "id": "12b73ba3",
   "metadata": {},
   "source": [
    "## Similarity"
   ]
  },
  {
   "cell_type": "code",
   "execution_count": 44,
   "id": "63242a14",
   "metadata": {},
   "outputs": [
    {
     "name": "stdout",
     "output_type": "stream",
     "text": [
      "Finished in 1044.442454814911 seconds\n"
     ]
    }
   ],
   "source": [
    "mydata = SBB.copy()\n",
    "mydata['SK'] = mydata.SK.str.lower()\n",
    "mydata['SK'] = mydata.SK.str.split(',')\n",
    "avg_scores = []\n",
    "start = time.time()\n",
    "for i,row in zip(mydata['BGTJobId'],mydata['SK']):\n",
    "  scores = []\n",
    "  pairs = list(set(combinations(row,2)))\n",
    "  for pair in pairs:\n",
    "    token1 = nlp([pair[0]])\n",
    "    token2 = nlp([pair[1]])\n",
    "    score = numpy.inner(token1,token2)\n",
    "    scores.append(score)\n",
    "  avg_scores.append([i,float(sum(scores)/len(scores))])\n",
    "end = time.time()\n",
    "print(f'Finished in {end-start} seconds')"
   ]
  },
  {
   "cell_type": "code",
   "execution_count": 8,
   "id": "f3555b92",
   "metadata": {},
   "outputs": [
    {
     "name": "stdout",
     "output_type": "stream",
     "text": [
      "Index(['BGTJobId', 'JobDate', 'CleanTitle', 'CanonTitle', 'SOC', 'SOCName',\n",
      "       'ONET', 'ONETName', 'Employer', 'Sector', 'SectorName', 'NAICS3',\n",
      "       'NAICS4', 'NAICS5', 'NAICS6', 'City', 'County', 'State', 'Lat', 'Lon',\n",
      "       'Edu', 'MaxEdu', 'Degree', 'MaxDegree', 'Exp', 'MaxExp', 'MinSalary',\n",
      "       'MaxSalary', 'MinHrlySalary', 'MaxHrlySalary', 'PayFrequency',\n",
      "       'SalaryType', 'JobHours', 'SOC2', 'SOC4', 'SOC5', 'SK',\n",
      "       'Employer_clean', 'n_terms', 'SK_without', 'TECH', 'occupation',\n",
      "       'firm1', 'firm2', 'firm', 'plant', 'plant_all', 'plant_5',\n",
      "       'development', 'materials', 'design', 'inventory', 'tooling',\n",
      "       'automation', 'production', 'maintenance', 'technical',\n",
      "       'administrative', 'management', 'finance', 'business', 'data',\n",
      "       'software', 'office', 'ml', 'cognitive', 'creativity', 'social',\n",
      "       'character', 'customer', 'writing', 'nonroutine analytic',\n",
      "       'nonroutine manual', 'routine cognitive', 'routine manual',\n",
      "       'sequential', 'reciprocal', 'Similarity'],\n",
      "      dtype='object')\n"
     ]
    }
   ],
   "source": [
    "df = pandas.DataFrame(avg_scores,columns=['BGTJobId','Similarity'])\n",
    "DF = pandas.merge(left=SBB,right=df,how='inner',on='BGTJobId')\n",
    "print(DF.columns)"
   ]
  },
  {
   "cell_type": "markdown",
   "id": "66192500",
   "metadata": {},
   "source": [
    "## Firm means"
   ]
  },
  {
   "cell_type": "code",
   "execution_count": 40,
   "id": "644abeba",
   "metadata": {},
   "outputs": [
    {
     "data": {
      "text/html": [
       "<div>\n",
       "<style scoped>\n",
       "    .dataframe tbody tr th:only-of-type {\n",
       "        vertical-align: middle;\n",
       "    }\n",
       "\n",
       "    .dataframe tbody tr th {\n",
       "        vertical-align: top;\n",
       "    }\n",
       "\n",
       "    .dataframe thead tr th {\n",
       "        text-align: left;\n",
       "    }\n",
       "</style>\n",
       "<table border=\"1\" class=\"dataframe\">\n",
       "  <thead>\n",
       "    <tr>\n",
       "      <th></th>\n",
       "      <th colspan=\"2\" halign=\"left\">Manager</th>\n",
       "      <th colspan=\"2\" halign=\"left\">Engineer</th>\n",
       "      <th colspan=\"2\" halign=\"left\">Technician</th>\n",
       "      <th colspan=\"2\" halign=\"left\">Operator</th>\n",
       "    </tr>\n",
       "    <tr>\n",
       "      <th></th>\n",
       "      <th>AM</th>\n",
       "      <th>TM</th>\n",
       "      <th>AM</th>\n",
       "      <th>TM</th>\n",
       "      <th>AM</th>\n",
       "      <th>TM</th>\n",
       "      <th>AM</th>\n",
       "      <th>TM</th>\n",
       "    </tr>\n",
       "  </thead>\n",
       "  <tbody>\n",
       "    <tr>\n",
       "      <th>Mean</th>\n",
       "      <td>0.208***</td>\n",
       "      <td>0.244</td>\n",
       "      <td>0.199</td>\n",
       "      <td>0.215</td>\n",
       "      <td>0.149</td>\n",
       "      <td>0.198</td>\n",
       "      <td>0.179**</td>\n",
       "      <td>0.214</td>\n",
       "    </tr>\n",
       "    <tr>\n",
       "      <th>SD</th>\n",
       "      <td>(0.033)</td>\n",
       "      <td>(0.036)</td>\n",
       "      <td>(0.018)</td>\n",
       "      <td>(0.024)</td>\n",
       "      <td>(0.016)</td>\n",
       "      <td>(0.029)</td>\n",
       "      <td>(0.021)</td>\n",
       "      <td>(0.032)</td>\n",
       "    </tr>\n",
       "    <tr>\n",
       "      <th>Number of job postings</th>\n",
       "      <td>172</td>\n",
       "      <td>397</td>\n",
       "      <td>144</td>\n",
       "      <td>131</td>\n",
       "      <td>43</td>\n",
       "      <td>88</td>\n",
       "      <td>79</td>\n",
       "      <td>387</td>\n",
       "    </tr>\n",
       "    <tr>\n",
       "      <th>Number of plants</th>\n",
       "      <td>17</td>\n",
       "      <td>34</td>\n",
       "      <td>15</td>\n",
       "      <td>28</td>\n",
       "      <td>12</td>\n",
       "      <td>20</td>\n",
       "      <td>15</td>\n",
       "      <td>35</td>\n",
       "    </tr>\n",
       "  </tbody>\n",
       "</table>\n",
       "</div>"
      ],
      "text/plain": [
       "                         Manager          Engineer          Technician  \\\n",
       "                              AM       TM       AM       TM         AM   \n",
       "Mean                    0.208***    0.244    0.199    0.215      0.149   \n",
       "SD                       (0.033)  (0.036)  (0.018)  (0.024)    (0.016)   \n",
       "Number of job postings       172      397      144      131         43   \n",
       "Number of plants              17       34       15       28         12   \n",
       "\n",
       "                                Operator           \n",
       "                             TM       AM       TM  \n",
       "Mean                      0.198  0.179**    0.214  \n",
       "SD                      (0.029)  (0.021)  (0.032)  \n",
       "Number of job postings       88       79      387  \n",
       "Number of plants             20       15       35  "
      ]
     },
     "execution_count": 40,
     "metadata": {},
     "output_type": "execute_result"
    }
   ],
   "source": [
    "occupation = ['Manager','Engineer','Technician','Operator']\n",
    "df = DF[['firm','TECH','occupation','Similarity']]\n",
    "\n",
    "mymean = df.groupby(by=['firm','occupation','TECH']).mean().reset_index()\n",
    "t = []\n",
    "for o in occupation:\n",
    "  t.append([o,stats.ttest_ind(mymean.loc[(mymean.TECH=='AM')&(mymean.occupation==o),'Similarity'],mymean.loc[(mymean.TECH=='TM')&(mymean.occupation==o),'Similarity'],equal_var=False)[1]])\n",
    "tdf = pandas.DataFrame(t,columns=['occupation','p-val'])\n",
    "tdf.set_index(['occupation'],inplace=True)\n",
    " \n",
    "mean_mymean = mymean.groupby(by=['occupation','TECH']).mean().unstack(level=0).T\n",
    "mean_mymean = mean_mymean.droplevel(0,axis=0)\n",
    "table2 = pandas.merge(left=mean_mymean,right=tdf,how='inner',left_on=['occupation'],right_on=['occupation'])\n",
    "table2['statistics'] = 'Mean'\n",
    "table2.set_index('statistics',append=True,inplace=True)\n",
    "\n",
    "mysd = df.groupby(by=['firm','occupation','TECH']).std(ddof=0).reset_index()\n",
    "mean_mysd = mysd.groupby(by=['occupation','TECH']).mean().unstack(level=0).T\n",
    "mean_mysd = mean_mysd.droplevel(0,axis=0)\n",
    "mean_mysd['statistics'] = 'SD'\n",
    "mean_mysd.set_index('statistics',append=True,inplace=True)\n",
    "mean_mysd['p-val'] = numpy.nan\n",
    "table2 = pandas.concat([table2,mean_mysd],axis=0).sort_index(kind='merge').unstack('occupation').swaplevel(0,1,axis=1).reindex(occupation,axis=1,level=0)\n",
    "table2.rename_axis([None,None],axis=1,inplace=True)\n",
    "\n",
    "postings = SBB.groupby(['occupation','TECH']).nunique()[['BGTJobId']].reindex(occupation, level='occupation').T\n",
    "postings.rename_axis([None,None],axis=1,inplace=True)\n",
    "postings.rename(index={'BGTJobId':'Number of job postings'},inplace=True)\n",
    "plants = SBB.groupby(['occupation','TECH']).nunique()[['plant']].reindex(occupation, level='occupation').T\n",
    "plants.rename_axis([None,None],axis=1,inplace=True)\n",
    "plants.rename(index={'plant':'Number of plants'},inplace=True)\n",
    "table2 = pandas.concat([table2,postings,plants],axis=0).reindex(occupation,axis=1,level=0)\n",
    "\n",
    "table = table2.copy()\n",
    "\n",
    "mylist = [('Manager','AM'),('Manager','TM'),('Engineer','AM'),('Engineer','TM'),('Technician','AM'),('Technician','TM'),('Operator','AM'),('Operator','TM')]\n",
    "table[mylist] = table[mylist].applymap('{:.3f}'.format)\n",
    "\n",
    "for i in ['Manager','Engineer','Technician','Operator']:\n",
    "  table.loc[(table[(i,'p-val')]<0.1)&(table[(i,'p-val')]>=0.05),(i,'AM')] = table.loc[(table[(i,'p-val')]<0.1)&(table[(i,'p-val')]>=0.05),(i,'AM')]+'*'\n",
    "  table.loc[(table[(i,'p-val')]<0.05)&(table[(i,'p-val')]>=0.01),(i,'AM')] = table.loc[(table[(i,'p-val')]<0.05)&(table[(i,'p-val')]>=0.01),(i,'AM')]+'**'\n",
    "  table.loc[table[(i,'p-val')]<0.01,(i,'AM')] = table.loc[table[(i,'p-val')]<0.01,(i,'AM')]+'***'\n",
    "\n",
    "table = table[mylist]\n",
    "table.loc['SD'] = table.loc['SD'].apply(lambda x: '(' + x + ')')\n",
    "table = table.mask(table == '(nan)',numpy.nan)\n",
    "table = table.mask(table == 'nan',numpy.nan)\n",
    "table = table.mask(table == '-0.000','0.000')\n",
    "table.loc['Number of job postings'] = table.loc['Number of job postings'].replace(r'.000','',regex=True)\n",
    "table.loc['Number of plants'] = table.loc['Number of plants'].replace(r'.000','',regex=True)\n",
    "\n",
    "table\n"
   ]
  },
  {
   "cell_type": "code",
   "execution_count": null,
   "id": "773be4cf",
   "metadata": {},
   "outputs": [],
   "source": []
  }
 ],
 "metadata": {
  "kernelspec": {
   "display_name": "Python 3 (ipykernel)",
   "language": "python",
   "name": "python3"
  },
  "language_info": {
   "codemirror_mode": {
    "name": "ipython",
    "version": 3
   },
   "file_extension": ".py",
   "mimetype": "text/x-python",
   "name": "python",
   "nbconvert_exporter": "python",
   "pygments_lexer": "ipython3",
   "version": "3.9.6"
  }
 },
 "nbformat": 4,
 "nbformat_minor": 5
}
