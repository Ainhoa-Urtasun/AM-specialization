{
 "cells": [
  {
   "cell_type": "code",
   "execution_count": 2,
   "metadata": {},
   "outputs": [],
   "source": [
    "import pandas\n",
    "import numpy\n",
    "import openpyxl\n",
    "import tensorflow as tf\n",
    "import tensorflow_hub as hub\n",
    "from tensorflow import keras\n",
    "from tensorflow.keras import regularizers\n",
    "import matplotlib.pyplot as plt"
   ]
  },
  {
   "cell_type": "markdown",
   "metadata": {},
   "source": [
    "### Manufacturing sample"
   ]
  },
  {
   "cell_type": "code",
   "execution_count": 3,
   "metadata": {},
   "outputs": [
    {
     "name": "stdout",
     "output_type": "stream",
     "text": [
      "4416837 initial postings\n",
      "1131600 postings with missing Employer\n",
      "3285237 postings with nonmissing Employer\n",
      "BGTJobId           int64\n",
      "JobDate           object\n",
      "CleanTitle        object\n",
      "CanonTitle        object\n",
      "SOC                int64\n",
      "SOCName           object\n",
      "ONET              object\n",
      "ONETName          object\n",
      "Employer          object\n",
      "Sector            object\n",
      "SectorName        object\n",
      "NAICS3           float64\n",
      "NAICS4           float64\n",
      "NAICS5           float64\n",
      "NAICS6           float64\n",
      "City              object\n",
      "County            object\n",
      "State             object\n",
      "Lat              float64\n",
      "Lon              float64\n",
      "Edu              float64\n",
      "MaxEdu           float64\n",
      "Degree            object\n",
      "MaxDegree         object\n",
      "Exp              float64\n",
      "MaxExp           float64\n",
      "MinSalary        float64\n",
      "MaxSalary        float64\n",
      "MinHrlySalary    float64\n",
      "MaxHrlySalary    float64\n",
      "PayFrequency      object\n",
      "SalaryType        object\n",
      "JobHours          object\n",
      "SOC2               int64\n",
      "SOC4               int64\n",
      "SOC5               int64\n",
      "SK                object\n",
      "dtype: object\n",
      "162                                  planning,purchasing\n",
      "163    positive disposition,repair,communication skil...\n",
      "164    product sales,microsoft excel,proposal writing...\n",
      "165    clinical development,performance management,pr...\n",
      "166    ansys,nastran,mechanical engineering,nastran /...\n",
      "Name: SK, dtype: object\n"
     ]
    }
   ],
   "source": [
    "data = pandas.read_csv('D:/BG/Data/Downloading/SKILL.txt', sep='\\t')\n",
    "data = data.sort_values(['JobDate','BGTJobId'], ascending=[True, True])\n",
    "print('{} initial postings'.format(data.shape[0]))\n",
    "print('{} postings with missing Employer'.format(data.Employer.isna().sum()))\n",
    "print('{} postings with nonmissing Employer'.format(data.shape[0]-data.Employer.isna().sum()))\n",
    "print(data.dtypes)\n",
    "print(data.SK[0:5])"
   ]
  },
  {
   "cell_type": "code",
   "execution_count": 4,
   "metadata": {},
   "outputs": [
    {
     "name": "stdout",
     "output_type": "stream",
     "text": [
      "4416837 Postings in Manufacturing sample\n",
      "[['planning', 'purchasing'], ['positive disposition', 'repair', 'communication skills', 'verbal / oral communication', 'welding', 'system maintenance'], ['product sales', 'microsoft excel', 'proposal writing', 'scheduling', 'staff management', 'planning', 'technical training', 'customer contact', 'customer service', 'project planning and development skills', 'microsoft project', 'supervisory skills'], ['clinical development', 'performance management', 'project management', 'research', 'pharmacology', 'creativity', 'budgeting', 'mentoring', 'writing', 'due diligence', 'problem solving', 'teamwork / collaboration', 'building effective relationships', 'clinical trials', 'drug development'], ['ansys', 'nastran', 'mechanical engineering', 'nastran / patran', 'system design', 'finite element method / analysis software', 'communication skills', 'ls-dyna', 'finite element analysis', 'cad / cam (computer-aided design / manufacturing)', 'troubleshooting', 'unigraphics']]\n",
      "50122510 Terms in Manufacturing sample\n",
      "12015 Unique terms in Manufacturing sample after removing na\n"
     ]
    }
   ],
   "source": [
    "BoW = data['SK']\n",
    "BoW = [job.replace('colleterallized loan obligation (clo)','collateralized loan obligations (clos)') for job in BoW]\n",
    "BoW = [job.split(',') for job in BoW]\n",
    "print(len(BoW),'Postings in Manufacturing sample')\n",
    "print(BoW[0:5])\n",
    "BoW = [term for job in BoW for term in job]\n",
    "BoW = [term for term in BoW if term!='na']\n",
    "print(len(BoW),'Terms in Manufacturing sample')\n",
    "print(len(list(set(BoW))),'Unique terms in Manufacturing sample after removing na')\n",
    "skills = pandas.DataFrame(list(set(BoW)),columns=['Skill_US'])"
   ]
  },
  {
   "cell_type": "markdown",
   "metadata": {},
   "source": [
    "## Annotation\n"
   ]
  },
  {
   "cell_type": "code",
   "execution_count": 30,
   "metadata": {},
   "outputs": [
    {
     "name": "stdout",
     "output_type": "stream",
     "text": [
      "12015 terms to label\n",
      "4931 labelled\n",
      "Software                      1877\n",
      "Support Activities            1286\n",
      "Delivery                       553\n",
      "Tooling and Machining          290\n",
      "Supply Chain and Logistics     250\n",
      "Ideation and Development       164\n",
      "Design                         163\n",
      "Materials                      120\n",
      "Production and Assembling      119\n",
      "General Skills                 109\n",
      "Name: Activity, dtype: int64\n"
     ]
    }
   ],
   "source": [
    "original = pandas.read_csv('All_Skills_US.csv',sep=',')\n",
    "original['Skill_US'] = original['Skill_US'].str.lower()\n",
    "original['Skill_US'] = original['Skill_US'].str.replace(r',','',regex=True)\n",
    "original['SkillClusterFamily'] = original['SkillClusterFamily'].str.lower()\n",
    "original['SkillCluster'] = original['SkillCluster'].str.lower()\n",
    "original = original.merge(skills,on='Skill_US',how='right')\n",
    "print(len(original),'terms to label')\n",
    "original['SkillId'] = original['SkillId'].astype('int')\n",
    "original = original.sort_values('SkillId').reset_index(drop=True)\n",
    "original['Activity'] = numpy.nan\n",
    "\n",
    "original.loc[(original.SkillClusterFamily=='customer and client support')&((original.SkillCluster!='cash register operation')|(original.SkillCluster!='payment processing and collection')),'Activity'] = 'Delivery'\n",
    "original.loc[(original.SkillClusterFamily=='marketing and public relations')&(original.SkillCluster!='concept development'),'Activity'] = 'Delivery'\n",
    "original.loc[(original.SkillClusterFamily=='sales')&((original.SkillCluster!='account management')|(original.SkillCluster!='company product and service knowledge')),'Activity'] = 'Delivery'\n",
    "\n",
    "original.loc[(original.SkillCluster=='analog design'),'Activity'] = 'Design'\n",
    "original.loc[(original.SkillClusterFamily=='design'),'Activity'] = 'Design'\n",
    "original.loc[(original.SkillCluster=='drafting and engineering design'),'Activity'] = 'Design'\n",
    "\n",
    "original.loc[(original.IsBaseline==1)&(original.IsSoftware==0),'Activity'] = 'General Skills'\n",
    "original.loc[(original.SkillCluster=='foreign language skills'),'Activity'] = 'General Skills'\n",
    "original.loc[(original.SkillCluster=='physical abilities'),'Activity'] = 'General Skills'\n",
    "\n",
    "original.loc[(original.SkillCluster=='company product and service knowledge'),'Activity'] = 'Ideation and Development'\n",
    "original.loc[(original.SkillCluster=='concept development'),'Activity'] = 'Ideation and Development'\n",
    "original.loc[(original.SkillCluster=='engineering processes'),'Activity'] = 'Ideation and Development'\n",
    "original.loc[(original.SkillCluster=='engineering software'),'Activity'] = 'Ideation and Development'\n",
    "original.loc[(original.SkillCluster=='mathematical modeling'),'Activity'] = 'Ideation and Development'\n",
    "original.loc[(original.SkillCluster=='product development'),'Activity'] = 'Ideation and Development'\n",
    "original.loc[(original.SkillCluster=='research methodology'),'Activity'] = 'Ideation and Development'\n",
    "original.loc[(original.SkillCluster=='simulation'),'Activity'] = 'Ideation and Development'\n",
    "original.loc[(original.SkillCluster=='simulation software'),'Activity'] = 'Ideation and Development'\n",
    "original.loc[(original.Activity.isna())&(original.Skill_US.str.contains('develop')),'Activity'] = 'Ideation and Development'\n",
    "\n",
    "original.loc[(original.SkillCluster=='aluminium industry knowledge'),'Activity'] = 'Materials'\n",
    "original.loc[(original.SkillCluster=='cellular biology'),'Activity'] = 'Materials'\n",
    "original.loc[(original.SkillCluster=='chemical analysis'),'Activity'] = 'Materials'\n",
    "original.loc[(original.SkillCluster=='chemical industry knowledge'),'Activity'] = 'Materials'\n",
    "original.loc[(original.SkillCluster=='chemistry'),'Activity'] = 'Materials'\n",
    "original.loc[(original.SkillCluster=='materials process'),'Activity'] = 'Materials'\n",
    "original.loc[(original.SkillCluster=='materials science'),'Activity'] = 'Materials'\n",
    "original.loc[(original.SkillCluster=='metal industy industry knowledge'),'Activity'] = 'Materials'\n",
    "original.loc[(original.SkillCluster=='molecular biology'),'Activity'] = 'Materials'\n",
    "original.loc[(original.SkillCluster=='physics'),'Activity'] = 'Materials'\n",
    "original.loc[(original.SkillCluster=='plastics material industry knowledge'),'Activity'] = 'Materials'\n",
    "original.loc[(original.SkillCluster=='process engineering'),'Activity'] = 'Materials'\n",
    "\n",
    "original.loc[(original.SkillClusterFamily=='manufacturing and production')&(original.SkillCluster!='computer-aided manufacturing')&(original.SkillCluster!='equipment acquisition standards')&(original.SkillCluster!='machine tools')&(original.SkillCluster!='machinery')&(original.SkillCluster!='materials process')&(original.SkillCluster!='materials science')&(original.SkillCluster!='product development'),'Activity'] = 'Production and Assembling'\n",
    "                                                      \n",
    "original.loc[(original.SkillCluster=='automation engineering'),'Activity'] = 'Tooling and Machining'\n",
    "original.loc[(original.SkillCluster=='machine tools'),'Activity'] = 'Tooling and Machining'\n",
    "original.loc[(original.SkillCluster=='machinery'),'Activity'] = 'Tooling and Machining'\n",
    "original.loc[(original.SkillCluster=='equipment acquisition standards'),'Activity'] = 'Tooling and Machining'\n",
    "original.loc[(original.SkillClusterFamily=='maintenance, repair, and installation'),'Activity'] = 'Tooling and Machining'\n",
    "original.loc[(original.SkillCluster=='robotics'),'Activity'] = 'Tooling and Machining'\n",
    "original.loc[(original.SkillCluster=='computer-aided manufacturing'),'Activity'] = 'Tooling and Machining'\n",
    "\n",
    "original.loc[(original.SkillClusterFamily=='supply chain and logistics'),'Activity'] = 'Supply Chain and Logistics'\n",
    "original.loc[(original.SkillCluster=='supply chain and logistics industry knowledge'),'Activity'] = 'Supply Chain and Logistics'\n",
    "\n",
    "original.loc[(original.SkillCluster=='account management'),'Activity'] = 'Support Activities'\n",
    "original.loc[(original.SkillClusterFamily=='accounting'),'Activity'] = 'Support Activities'\n",
    "original.loc[(original.SkillClusterFamily=='administration'),'Activity'] = 'Support Activities'\n",
    "original.loc[(original.SkillClusterFamily=='analysis')&(original.SkillCluster!='mathematical modeling'),'Activity'] = 'Support Activities'\n",
    "original.loc[(original.SkillClusterFamily=='business'),'Activity'] = 'Support Activities'\n",
    "original.loc[(original.SkillCluster=='cash register operation'),'Activity'] = 'Support Activities'\n",
    "original.loc[(original.SkillCluster=='payment processing and collection'),'Activity'] = 'Support Activities'\n",
    "original.loc[(original.SkillClusterFamily=='finance'),'Activity'] = 'Support Activities'\n",
    "original.loc[(original.SkillClusterFamily=='human resources'),'Activity'] = 'Support Activities'\n",
    "original.loc[(original.SkillClusterFamily=='legal'),'Activity'] = 'Support Activities'\n",
    "original.loc[(original.SkillCluster=='surveying'),'Activity'] = 'Support Activities'\n",
    "original.loc[(original.SkillCluster=='surveys'),'Activity'] = 'Support Activities'\n",
    "original.loc[(original.SkillCluster=='training programs'),'Activity'] = 'Support Activities'\n",
    "\n",
    "\n",
    "original.loc[(original.SkillClusterFamily=='marketing and public relations')&(original.SkillCluster!='concept development'),'Activity'] = 'Delivery'\n",
    "original.loc[(original.SkillClusterFamily=='sales')&((original.SkillCluster!='account management')|(original.SkillCluster!='company product and service knowledge')),'Activity'] = 'Delivery'\n",
    "\n",
    "original.loc[(original.SkillClusterFamily=='information technology'),'Activity'] = 'Software'\n",
    "original.loc[(original.IsSoftware==1)&(original.Activity.isna()),'Activity'] = 'Software'\n",
    "\n",
    "original.to_csv('Activity-annotated.csv',index=False)\n",
    "final = original.dropna()\n",
    "final = final.sample(frac=1).reset_index(drop=True)\n",
    "print(len(final),'labelled')\n",
    "print(final.Activity.value_counts())"
   ]
  },
  {
   "cell_type": "markdown",
   "metadata": {},
   "source": [
    "## Dense layers"
   ]
  },
  {
   "cell_type": "code",
   "execution_count": 31,
   "metadata": {},
   "outputs": [],
   "source": [
    "embedding = \"https://tfhub.dev/google/universal-sentence-encoder/4\"\n",
    "l0 = hub.KerasLayer(embedding,input_shape=[],dtype=tf.string,trainable=False)\n",
    "l1 = tf.keras.layers.Dropout(rate=0.1)\n",
    "l2 = tf.keras.layers.Dense(units=18,activation='relu')\n",
    "l3 = tf.keras.layers.Dropout(rate=0.1)\n",
    "l4 = tf.keras.layers.Dense(units=10,activation='softmax')"
   ]
  },
  {
   "cell_type": "code",
   "execution_count": 32,
   "metadata": {},
   "outputs": [
    {
     "data": {
      "text/plain": [
       "<tf.Tensor: shape=(2, 512), dtype=float32, numpy=\n",
       "array([[ 1.5010233e-02,  8.3611673e-03,  8.2730345e-05, ...,\n",
       "        -5.3262860e-02, -4.1157521e-02, -5.8267500e-02],\n",
       "       [-2.8608639e-02, -8.4954193e-03, -7.8067683e-02, ...,\n",
       "        -1.4157974e-02, -4.3159429e-02,  3.5864279e-02]], dtype=float32)>"
      ]
     },
     "execution_count": 32,
     "metadata": {},
     "output_type": "execute_result"
    }
   ],
   "source": [
    "l0(final.Skill_US[0:2].to_numpy())"
   ]
  },
  {
   "cell_type": "code",
   "execution_count": 33,
   "metadata": {},
   "outputs": [
    {
     "name": "stdout",
     "output_type": "stream",
     "text": [
      "Model: \"sequential_2\"\n",
      "_________________________________________________________________\n",
      "Layer (type)                 Output Shape              Param #   \n",
      "=================================================================\n",
      "keras_layer_2 (KerasLayer)   (None, 512)               256797824 \n",
      "_________________________________________________________________\n",
      "dropout_4 (Dropout)          (None, 512)               0         \n",
      "_________________________________________________________________\n",
      "dense_4 (Dense)              (None, 18)                9234      \n",
      "_________________________________________________________________\n",
      "dropout_5 (Dropout)          (None, 18)                0         \n",
      "_________________________________________________________________\n",
      "dense_5 (Dense)              (None, 10)                190       \n",
      "=================================================================\n",
      "Total params: 256,807,248\n",
      "Trainable params: 9,424\n",
      "Non-trainable params: 256,797,824\n",
      "_________________________________________________________________\n",
      "None\n"
     ]
    }
   ],
   "source": [
    "model = tf.keras.Sequential([l0,l1,l2,l3,l4])\n",
    "print(model.summary())\n",
    "model.compile(optimizer='adam',loss='categorical_crossentropy',metrics=['accuracy'])"
   ]
  },
  {
   "cell_type": "markdown",
   "metadata": {},
   "source": [
    "## Labels"
   ]
  },
  {
   "cell_type": "code",
   "execution_count": 34,
   "metadata": {},
   "outputs": [
    {
     "name": "stdout",
     "output_type": "stream",
     "text": [
      "Index(['Delivery', 'Design', 'General Skills', 'Ideation and Development',\n",
      "       'Materials', 'Production and Assembling', 'Software',\n",
      "       'Supply Chain and Logistics', 'Support Activities',\n",
      "       'Tooling and Machining'],\n",
      "      dtype='object')\n"
     ]
    },
    {
     "data": {
      "text/plain": [
       "{0: 'Delivery',\n",
       " 1: 'Design',\n",
       " 2: 'General Skills',\n",
       " 3: 'Ideation and Development',\n",
       " 4: 'Materials',\n",
       " 5: 'Production and Assembling',\n",
       " 6: 'Software',\n",
       " 7: 'Supply Chain and Logistics',\n",
       " 8: 'Support Activities',\n",
       " 9: 'Tooling and Machining'}"
      ]
     },
     "execution_count": 34,
     "metadata": {},
     "output_type": "execute_result"
    }
   ],
   "source": [
    "y = final.Activity.str.get_dummies()\n",
    "labels = y.columns\n",
    "print(labels)\n",
    "mydict = dict(enumerate(labels))\n",
    "mydict"
   ]
  },
  {
   "cell_type": "markdown",
   "metadata": {},
   "source": [
    "## Splitting the sample (training and validation)"
   ]
  },
  {
   "cell_type": "code",
   "execution_count": 35,
   "metadata": {},
   "outputs": [],
   "source": [
    "y = y.to_numpy()\n",
    "y_train = y\n",
    "y_val = y_train[-250:]\n",
    "y_train = y_train[:-250]\n",
    "x_train = final.Skill_US.to_numpy()\n",
    "x_val = x_train[-250:]\n",
    "x_train = x_train[:-250]"
   ]
  },
  {
   "cell_type": "code",
   "execution_count": 36,
   "metadata": {},
   "outputs": [
    {
     "name": "stdout",
     "output_type": "stream",
     "text": [
      "Fit model on training data\n",
      "Epoch 1/50\n",
      "74/74 [==============================] - 4s 16ms/step - loss: 2.0737 - accuracy: 0.4149 - val_loss: 1.7855 - val_accuracy: 0.4760\n",
      "Epoch 2/50\n",
      "74/74 [==============================] - 1s 9ms/step - loss: 1.6214 - accuracy: 0.5247 - val_loss: 1.4561 - val_accuracy: 0.5560\n",
      "Epoch 3/50\n",
      "74/74 [==============================] - 1s 9ms/step - loss: 1.3717 - accuracy: 0.5789 - val_loss: 1.2779 - val_accuracy: 0.5960\n",
      "Epoch 4/50\n",
      "74/74 [==============================] - 1s 9ms/step - loss: 1.2290 - accuracy: 0.6172 - val_loss: 1.1704 - val_accuracy: 0.6560\n",
      "Epoch 5/50\n",
      "74/74 [==============================] - 1s 9ms/step - loss: 1.1364 - accuracy: 0.6533 - val_loss: 1.0966 - val_accuracy: 0.6640\n",
      "Epoch 6/50\n",
      "74/74 [==============================] - 1s 9ms/step - loss: 1.0743 - accuracy: 0.6646 - val_loss: 1.0427 - val_accuracy: 0.6680\n",
      "Epoch 7/50\n",
      "74/74 [==============================] - 1s 9ms/step - loss: 1.0299 - accuracy: 0.6778 - val_loss: 1.0049 - val_accuracy: 0.6840\n",
      "Epoch 8/50\n",
      "74/74 [==============================] - 1s 9ms/step - loss: 0.9887 - accuracy: 0.6913 - val_loss: 0.9724 - val_accuracy: 0.6840\n",
      "Epoch 9/50\n",
      "74/74 [==============================] - 1s 9ms/step - loss: 0.9621 - accuracy: 0.6915 - val_loss: 0.9498 - val_accuracy: 0.6920\n",
      "Epoch 10/50\n",
      "74/74 [==============================] - 1s 9ms/step - loss: 0.9479 - accuracy: 0.6941 - val_loss: 0.9310 - val_accuracy: 0.6800\n",
      "Epoch 11/50\n",
      "74/74 [==============================] - 1s 9ms/step - loss: 0.9223 - accuracy: 0.7039 - val_loss: 0.9146 - val_accuracy: 0.6840\n",
      "Epoch 12/50\n",
      "74/74 [==============================] - 1s 9ms/step - loss: 0.9107 - accuracy: 0.7095 - val_loss: 0.9017 - val_accuracy: 0.6880\n",
      "Epoch 13/50\n",
      "74/74 [==============================] - 1s 9ms/step - loss: 0.8898 - accuracy: 0.7127 - val_loss: 0.8873 - val_accuracy: 0.7000\n",
      "Epoch 14/50\n",
      "74/74 [==============================] - 1s 10ms/step - loss: 0.8742 - accuracy: 0.7101 - val_loss: 0.8755 - val_accuracy: 0.7080\n",
      "Epoch 15/50\n",
      "74/74 [==============================] - 1s 9ms/step - loss: 0.8679 - accuracy: 0.7193 - val_loss: 0.8666 - val_accuracy: 0.7200\n",
      "Epoch 16/50\n",
      "74/74 [==============================] - 1s 10ms/step - loss: 0.8432 - accuracy: 0.7163 - val_loss: 0.8548 - val_accuracy: 0.7120\n",
      "Epoch 17/50\n",
      "74/74 [==============================] - 1s 10ms/step - loss: 0.8291 - accuracy: 0.7313 - val_loss: 0.8477 - val_accuracy: 0.7200\n",
      "Epoch 18/50\n",
      "74/74 [==============================] - 1s 10ms/step - loss: 0.8276 - accuracy: 0.7274 - val_loss: 0.8386 - val_accuracy: 0.7120\n",
      "Epoch 19/50\n",
      "74/74 [==============================] - 1s 9ms/step - loss: 0.8227 - accuracy: 0.7349 - val_loss: 0.8363 - val_accuracy: 0.7120\n",
      "Epoch 20/50\n",
      "74/74 [==============================] - 1s 9ms/step - loss: 0.7953 - accuracy: 0.7394 - val_loss: 0.8301 - val_accuracy: 0.7240\n",
      "Epoch 21/50\n",
      "74/74 [==============================] - 1s 9ms/step - loss: 0.7933 - accuracy: 0.7404 - val_loss: 0.8230 - val_accuracy: 0.7280\n",
      "Epoch 22/50\n",
      "74/74 [==============================] - 1s 9ms/step - loss: 0.7883 - accuracy: 0.7426 - val_loss: 0.8179 - val_accuracy: 0.7240\n",
      "Epoch 23/50\n",
      "74/74 [==============================] - 1s 9ms/step - loss: 0.7772 - accuracy: 0.7530 - val_loss: 0.8094 - val_accuracy: 0.7120\n",
      "Epoch 24/50\n",
      "74/74 [==============================] - 1s 9ms/step - loss: 0.7765 - accuracy: 0.7447 - val_loss: 0.8087 - val_accuracy: 0.7160\n",
      "Epoch 25/50\n",
      "74/74 [==============================] - 1s 9ms/step - loss: 0.7663 - accuracy: 0.7462 - val_loss: 0.8015 - val_accuracy: 0.7240\n",
      "Epoch 26/50\n",
      "74/74 [==============================] - 1s 9ms/step - loss: 0.7563 - accuracy: 0.7511 - val_loss: 0.8002 - val_accuracy: 0.7160\n",
      "Epoch 27/50\n",
      "74/74 [==============================] - 1s 9ms/step - loss: 0.7548 - accuracy: 0.7475 - val_loss: 0.7979 - val_accuracy: 0.7040\n",
      "Epoch 28/50\n",
      "74/74 [==============================] - 1s 9ms/step - loss: 0.7462 - accuracy: 0.7520 - val_loss: 0.7938 - val_accuracy: 0.7120\n",
      "Epoch 29/50\n",
      "74/74 [==============================] - 1s 9ms/step - loss: 0.7359 - accuracy: 0.7526 - val_loss: 0.7932 - val_accuracy: 0.7200\n",
      "Epoch 30/50\n",
      "74/74 [==============================] - 1s 9ms/step - loss: 0.7464 - accuracy: 0.7492 - val_loss: 0.7883 - val_accuracy: 0.7160\n",
      "Epoch 31/50\n",
      "74/74 [==============================] - 1s 9ms/step - loss: 0.7328 - accuracy: 0.7584 - val_loss: 0.7888 - val_accuracy: 0.7120\n",
      "Epoch 32/50\n",
      "74/74 [==============================] - 1s 9ms/step - loss: 0.7334 - accuracy: 0.7537 - val_loss: 0.7835 - val_accuracy: 0.7160\n",
      "Epoch 33/50\n",
      "74/74 [==============================] - 1s 9ms/step - loss: 0.7167 - accuracy: 0.7639 - val_loss: 0.7835 - val_accuracy: 0.7040\n",
      "Epoch 34/50\n",
      "74/74 [==============================] - 1s 9ms/step - loss: 0.7236 - accuracy: 0.7580 - val_loss: 0.7808 - val_accuracy: 0.7120\n",
      "Epoch 35/50\n",
      "74/74 [==============================] - 1s 9ms/step - loss: 0.7214 - accuracy: 0.7558 - val_loss: 0.7807 - val_accuracy: 0.7160\n",
      "Epoch 36/50\n",
      "74/74 [==============================] - 1s 9ms/step - loss: 0.7164 - accuracy: 0.7580 - val_loss: 0.7789 - val_accuracy: 0.7040\n",
      "Epoch 37/50\n",
      "74/74 [==============================] - 1s 9ms/step - loss: 0.7105 - accuracy: 0.7609 - val_loss: 0.7776 - val_accuracy: 0.7040\n",
      "Epoch 38/50\n",
      "74/74 [==============================] - 1s 9ms/step - loss: 0.7016 - accuracy: 0.7573 - val_loss: 0.7774 - val_accuracy: 0.7200\n",
      "Epoch 39/50\n",
      "74/74 [==============================] - 1s 9ms/step - loss: 0.6977 - accuracy: 0.7656 - val_loss: 0.7727 - val_accuracy: 0.7160\n",
      "Epoch 40/50\n",
      "74/74 [==============================] - 1s 10ms/step - loss: 0.7014 - accuracy: 0.7584 - val_loss: 0.7729 - val_accuracy: 0.7200\n",
      "Epoch 41/50\n",
      "74/74 [==============================] - 1s 10ms/step - loss: 0.6940 - accuracy: 0.7644 - val_loss: 0.7718 - val_accuracy: 0.7200\n",
      "Epoch 42/50\n",
      "74/74 [==============================] - 1s 10ms/step - loss: 0.6890 - accuracy: 0.7659 - val_loss: 0.7702 - val_accuracy: 0.7240\n",
      "Epoch 43/50\n",
      "74/74 [==============================] - 1s 10ms/step - loss: 0.6836 - accuracy: 0.7671 - val_loss: 0.7722 - val_accuracy: 0.7200\n",
      "Epoch 44/50\n",
      "74/74 [==============================] - 1s 9ms/step - loss: 0.6796 - accuracy: 0.7674 - val_loss: 0.7668 - val_accuracy: 0.7200\n",
      "Epoch 45/50\n",
      "74/74 [==============================] - 1s 9ms/step - loss: 0.6781 - accuracy: 0.7684 - val_loss: 0.7683 - val_accuracy: 0.7200\n",
      "Epoch 46/50\n",
      "74/74 [==============================] - 1s 9ms/step - loss: 0.6761 - accuracy: 0.7708 - val_loss: 0.7625 - val_accuracy: 0.7120\n",
      "Epoch 47/50\n",
      "74/74 [==============================] - 1s 9ms/step - loss: 0.6698 - accuracy: 0.7778 - val_loss: 0.7594 - val_accuracy: 0.7240\n",
      "Epoch 48/50\n",
      "74/74 [==============================] - 1s 9ms/step - loss: 0.6708 - accuracy: 0.7701 - val_loss: 0.7609 - val_accuracy: 0.7200\n",
      "Epoch 49/50\n",
      "74/74 [==============================] - 1s 9ms/step - loss: 0.6661 - accuracy: 0.7744 - val_loss: 0.7621 - val_accuracy: 0.7280\n",
      "Epoch 50/50\n",
      "74/74 [==============================] - 1s 9ms/step - loss: 0.6568 - accuracy: 0.7765 - val_loss: 0.7610 - val_accuracy: 0.7240\n"
     ]
    }
   ],
   "source": [
    "print(\"Fit model on training data\")\n",
    "history = model.fit(x_train,y_train,batch_size=64,epochs=50,validation_data=(x_val,y_val))"
   ]
  },
  {
   "cell_type": "markdown",
   "metadata": {},
   "source": [
    "## Loss and accuracy plots on training and validation datasets"
   ]
  },
  {
   "cell_type": "code",
   "execution_count": 37,
   "metadata": {},
   "outputs": [
    {
     "data": {
      "text/plain": [
       "<matplotlib.legend.Legend at 0x1cd61416730>"
      ]
     },
     "execution_count": 37,
     "metadata": {},
     "output_type": "execute_result"
    },
    {
     "data": {
      "image/png": "[encoded data removed]",
      "text/plain": [
       "<Figure size 432x288 with 1 Axes>"
      ]
     },
     "metadata": {
      "needs_background": "light"
     },
     "output_type": "display_data"
    }
   ],
   "source": [
    "plt.xlabel('Epoch Number')\n",
    "plt.ylabel(\"Loss Magnitude\")\n",
    "plt.plot(history.history['val_loss'],'r',label='validation loss')\n",
    "plt.plot(history.history['loss'],'b',label='training loss')\n",
    "plt.legend()"
   ]
  },
  {
   "cell_type": "code",
   "execution_count": 38,
   "metadata": {},
   "outputs": [
    {
     "data": {
      "text/plain": [
       "<matplotlib.legend.Legend at 0x1cd7140f7c0>"
      ]
     },
     "execution_count": 38,
     "metadata": {},
     "output_type": "execute_result"
    },
    {
     "data": {
      "image/png": "[encoded data removed]",
      "text/plain": [
       "<Figure size 432x288 with 1 Axes>"
      ]
     },
     "metadata": {
      "needs_background": "light"
     },
     "output_type": "display_data"
    }
   ],
   "source": [
    "plt.xlabel('Epoch Number')\n",
    "plt.ylabel(\"Loss Magnitude\")\n",
    "plt.plot(history.history['val_accuracy'],'r',label='validation accuracy')\n",
    "plt.plot(history.history['accuracy'],'b',label='training accuracy')\n",
    "plt.legend()"
   ]
  },
  {
   "cell_type": "markdown",
   "metadata": {},
   "source": [
    "## Evaluate accuracy on test dataset"
   ]
  },
  {
   "cell_type": "code",
   "execution_count": 39,
   "metadata": {},
   "outputs": [
    {
     "name": "stdout",
     "output_type": "stream",
     "text": [
      "4/4 [==============================] - 0s 5ms/step - loss: 0.9207 - accuracy: 0.6600\n",
      "Accuracy on test dataset: 0.6600000262260437\n"
     ]
    }
   ],
   "source": [
    "x_test = final.Skill_US[-100:].to_numpy()\n",
    "y_test = y[-100:]\n",
    "test_loss, test_accuracy = model.evaluate(x_test,y_test)\n",
    "print('Accuracy on test dataset:',test_accuracy)"
   ]
  },
  {
   "cell_type": "markdown",
   "metadata": {},
   "source": [
    "## Predictions on test dataset"
   ]
  },
  {
   "cell_type": "code",
   "execution_count": 40,
   "metadata": {},
   "outputs": [
    {
     "data": {
      "text/html": [
       "<div>\n",
       "<style scoped>\n",
       "    .dataframe tbody tr th:only-of-type {\n",
       "        vertical-align: middle;\n",
       "    }\n",
       "\n",
       "    .dataframe tbody tr th {\n",
       "        vertical-align: top;\n",
       "    }\n",
       "\n",
       "    .dataframe thead th {\n",
       "        text-align: right;\n",
       "    }\n",
       "</style>\n",
       "<table border=\"1\" class=\"dataframe\">\n",
       "  <thead>\n",
       "    <tr style=\"text-align: right;\">\n",
       "      <th></th>\n",
       "      <th>Skill_US</th>\n",
       "      <th>Activity</th>\n",
       "      <th>Predicted Activity</th>\n",
       "    </tr>\n",
       "  </thead>\n",
       "  <tbody>\n",
       "    <tr>\n",
       "      <th>4831</th>\n",
       "      <td>hyper-v</td>\n",
       "      <td>Software</td>\n",
       "      <td>Software</td>\n",
       "    </tr>\n",
       "    <tr>\n",
       "      <th>4832</th>\n",
       "      <td>macromedia lingo</td>\n",
       "      <td>Software</td>\n",
       "      <td>Software</td>\n",
       "    </tr>\n",
       "    <tr>\n",
       "      <th>4833</th>\n",
       "      <td>microsoft lync server</td>\n",
       "      <td>Support Activities</td>\n",
       "      <td>Software</td>\n",
       "    </tr>\n",
       "    <tr>\n",
       "      <th>4834</th>\n",
       "      <td>stakeholder communications</td>\n",
       "      <td>Support Activities</td>\n",
       "      <td>Support Activities</td>\n",
       "    </tr>\n",
       "    <tr>\n",
       "      <th>4835</th>\n",
       "      <td>business rules engines</td>\n",
       "      <td>Support Activities</td>\n",
       "      <td>Support Activities</td>\n",
       "    </tr>\n",
       "    <tr>\n",
       "      <th>...</th>\n",
       "      <td>...</td>\n",
       "      <td>...</td>\n",
       "      <td>...</td>\n",
       "    </tr>\n",
       "    <tr>\n",
       "      <th>4926</th>\n",
       "      <td>balsamiq</td>\n",
       "      <td>Software</td>\n",
       "      <td>Design</td>\n",
       "    </tr>\n",
       "    <tr>\n",
       "      <th>4927</th>\n",
       "      <td>poka-yoke</td>\n",
       "      <td>Production and Assembling</td>\n",
       "      <td>Software</td>\n",
       "    </tr>\n",
       "    <tr>\n",
       "      <th>4928</th>\n",
       "      <td>product and service information</td>\n",
       "      <td>Delivery</td>\n",
       "      <td>Delivery</td>\n",
       "    </tr>\n",
       "    <tr>\n",
       "      <th>4929</th>\n",
       "      <td>press materials</td>\n",
       "      <td>Delivery</td>\n",
       "      <td>Materials</td>\n",
       "    </tr>\n",
       "    <tr>\n",
       "      <th>4930</th>\n",
       "      <td>agilent chemstation</td>\n",
       "      <td>Materials</td>\n",
       "      <td>Software</td>\n",
       "    </tr>\n",
       "  </tbody>\n",
       "</table>\n",
       "<p>100 rows × 3 columns</p>\n",
       "</div>"
      ],
      "text/plain": [
       "                             Skill_US                   Activity  \\\n",
       "4831                          hyper-v                   Software   \n",
       "4832                 macromedia lingo                   Software   \n",
       "4833            microsoft lync server         Support Activities   \n",
       "4834       stakeholder communications         Support Activities   \n",
       "4835           business rules engines         Support Activities   \n",
       "...                               ...                        ...   \n",
       "4926                         balsamiq                   Software   \n",
       "4927                        poka-yoke  Production and Assembling   \n",
       "4928  product and service information                   Delivery   \n",
       "4929                  press materials                   Delivery   \n",
       "4930              agilent chemstation                  Materials   \n",
       "\n",
       "      Predicted Activity  \n",
       "4831            Software  \n",
       "4832            Software  \n",
       "4833            Software  \n",
       "4834  Support Activities  \n",
       "4835  Support Activities  \n",
       "...                  ...  \n",
       "4926              Design  \n",
       "4927            Software  \n",
       "4928            Delivery  \n",
       "4929           Materials  \n",
       "4930            Software  \n",
       "\n",
       "[100 rows x 3 columns]"
      ]
     },
     "execution_count": 40,
     "metadata": {},
     "output_type": "execute_result"
    }
   ],
   "source": [
    "predicted_probabilities = model.predict(x_test)\n",
    "predicted_activity = numpy.argmax(predicted_probabilities,axis=-1)\n",
    "df = final[-100:]\n",
    "df = df[['Skill_US','Activity']]\n",
    "df['Predicted Activity'] = predicted_activity\n",
    "df['Predicted Activity'].replace(mydict,inplace=True)\n",
    "df.to_excel('Activity-predictions-test.xlsx')\n",
    "df"
   ]
  },
  {
   "cell_type": "markdown",
   "metadata": {},
   "source": [
    "## NaNs"
   ]
  },
  {
   "cell_type": "code",
   "execution_count": 41,
   "metadata": {},
   "outputs": [
    {
     "name": "stdout",
     "output_type": "stream",
     "text": [
      "899 annotated nans\n"
     ]
    },
    {
     "data": {
      "text/plain": [
       "Tooling and Machining         200\n",
       "Design                        172\n",
       "Support Activities            171\n",
       "Supply Chain and Logistics    137\n",
       "Production and Assembly       109\n",
       "Delivery                       44\n",
       "Materials                      39\n",
       "Software                       20\n",
       "Ideation and Development        4\n",
       "General Skills                  3\n",
       "Name: Activity, dtype: int64"
      ]
     },
     "execution_count": 41,
     "metadata": {},
     "output_type": "execute_result"
    }
   ],
   "source": [
    "dfnan = original.copy()\n",
    "dfnan = dfnan.loc[original.Activity.isna()]\n",
    "dfnan.loc[(dfnan.Activity.isna())&(dfnan.Skill_US.str.contains('sales'))&(~dfnan.Skill_US.str.contains('supply'))&(~dfnan.Skill_US.str.contains('design')),'Activity'] = 'Delivery'\n",
    "dfnan.loc[(dfnan.Activity.isna())&(dfnan.Skill_US.str.contains('design'))&(~dfnan.Skill_US.str.contains('supply'))&(~dfnan.Skill_US.str.contains('sales')),'Activity'] = 'Design'\n",
    "dfnan.loc[(dfnan.Activity.isna())&(dfnan.Skill_US.str.contains('skills')),'Activity'] = 'General Skills'\n",
    "dfnan.loc[(dfnan.Activity.isna())&(dfnan.Skill_US.str.contains('discover')),'Activity'] = 'Ideation and Development'\n",
    "dfnan.loc[(dfnan.Activity.isna())&(dfnan.Skill_US.str.contains('prototyp')),'Activity'] = 'Ideation and Development'\n",
    "dfnan.loc[(dfnan.Activity.isna())&(dfnan.Skill_US.str.contains('material'))&(~dfnan.Skill_US.str.contains('design'))&(~dfnan.Skill_US.str.contains('inventory'))&(~dfnan.Skill_US.str.contains('manufactur'))&(~dfnan.Skill_US.str.contains('procurement'))&(~dfnan.Skill_US.str.contains('purchas')),'Activity'] = 'Materials'\n",
    "dfnan.loc[(dfnan.Activity.isna())&(dfnan.Skill_US.str.contains('brazing'))&(~dfnan.Skill_US.str.contains('design'))&(~dfnan.Skill_US.str.contains('equipment'))&(~dfnan.Skill_US.str.contains('machine')),'Activity'] = 'Production and Assembly'\n",
    "dfnan.loc[(dfnan.Activity.isna())&(dfnan.Skill_US.str.contains('manufactur'))&(~dfnan.Skill_US.str.contains('design'))&(~dfnan.Skill_US.str.contains('equipment'))&(~dfnan.Skill_US.str.contains('machine')),'Activity'] = 'Production and Assembly'\n",
    "dfnan.loc[(dfnan.Activity.isna())&(dfnan.Skill_US.str.contains('production'))&(~dfnan.Skill_US.str.contains('design'))&(~dfnan.Skill_US.str.contains('equipment'))&(~dfnan.Skill_US.str.contains('machine')),'Activity'] = 'Production and Assembly'\n",
    "dfnan.loc[(dfnan.Activity.isna())&(dfnan.Skill_US.str.contains('soldering'))&(~dfnan.Skill_US.str.contains('design'))&(~dfnan.Skill_US.str.contains('equipment'))&(~dfnan.Skill_US.str.contains('machine')),'Activity'] = 'Production and Assembly'\n",
    "dfnan.loc[(dfnan.Activity.isna())&(dfnan.Skill_US.str.contains('welding'))&(~dfnan.Skill_US.str.contains('design'))&(~dfnan.Skill_US.str.contains('equipment'))&(~dfnan.Skill_US.str.contains('machine')),'Activity'] = 'Production and Assembly'\n",
    "dfnan.loc[(dfnan.Activity.isna())&(dfnan.Skill_US.str.contains('software')),'Activity'] = 'Software'\n",
    "dfnan.loc[(dfnan.Activity.isna())&(dfnan.Skill_US.str.contains('inventory'))&(~dfnan.Skill_US.str.contains('manufactur'))&(~dfnan.Skill_US.str.contains('market')),'Activity'] = 'Supply Chain and Logistics'\n",
    "dfnan.loc[(dfnan.Activity.isna())&(dfnan.Skill_US.str.contains('procurement'))&(~dfnan.Skill_US.str.contains('manufactur'))&(~dfnan.Skill_US.str.contains('market')),'Activity'] = 'Supply Chain and Logistics'\n",
    "dfnan.loc[(dfnan.Activity.isna())&(dfnan.Skill_US.str.contains('purchas'))&(~dfnan.Skill_US.str.contains('manufactur'))&(~dfnan.Skill_US.str.contains('market')),'Activity'] = 'Supply Chain and Logistics'\n",
    "dfnan.loc[(dfnan.Activity.isna())&(dfnan.Skill_US.str.contains('supplier'))&(~dfnan.Skill_US.str.contains('manufactur'))&(~dfnan.Skill_US.str.contains('market')),'Activity'] = 'Supply Chain and Logistics'\n",
    "dfnan.loc[(dfnan.Activity.isna())&(dfnan.Skill_US.str.contains('supply'))&(~dfnan.Skill_US.str.contains('manufactur'))&(~dfnan.Skill_US.str.contains('market')),'Activity'] = 'Supply Chain and Logistics'\n",
    "dfnan.loc[(dfnan.Activity.isna())&(dfnan.Skill_US.str.contains('stock'))&(~dfnan.Skill_US.str.contains('manufactur'))&(~dfnan.Skill_US.str.contains('market')),'Activity'] = 'Supply Chain and Logistics'\n",
    "dfnan.loc[(dfnan.Activity.isna())&(dfnan.Skill_US.str.contains('management')),'Activity'] = 'Support Activities'\n",
    "dfnan.loc[(dfnan.Activity.isna())&(dfnan.Skill_US.str.contains('device'))&(~dfnan.Skill_US.str.contains('design'))&(~dfnan.Skill_US.str.contains('sales')),'Activity'] = 'Tooling and Machining'\n",
    "dfnan.loc[(dfnan.Activity.isna())&(dfnan.Skill_US.str.contains('equipment'))&(~dfnan.Skill_US.str.contains('design'))&(~dfnan.Skill_US.str.contains('sales')),'Activity'] = 'Tooling and Machining'\n",
    "dfnan.loc[(dfnan.Activity.isna())&(dfnan.Skill_US.str.contains('instrument'))&(~dfnan.Skill_US.str.contains('design'))&(~dfnan.Skill_US.str.contains('sales')),'Activity'] = 'Tooling and Machining'\n",
    "dfnan.loc[(dfnan.Activity.isna())&(dfnan.Skill_US.str.contains('machine'))&(~dfnan.Skill_US.str.contains('design'))&(~dfnan.Skill_US.str.contains('sales')),'Activity'] = 'Tooling and Machining'\n",
    "dfnan.loc[(dfnan.Activity.isna())&(dfnan.Skill_US.str.contains('machine'))&(~dfnan.Skill_US.str.contains('design'))&(~dfnan.Skill_US.str.contains('sales')),'Activity'] = 'Tooling and Machining'\n",
    "dfnan.loc[(dfnan.Activity.isna())&(dfnan.Skill_US.str.contains('repair'))&(~dfnan.Skill_US.str.contains('design'))&(~dfnan.Skill_US.str.contains('sales')),'Activity'] = 'Tooling and Machining'\n",
    "dfnan.loc[(dfnan.Activity.isna())&(dfnan.Skill_US.str.contains('vehicle'))&(~dfnan.Skill_US.str.contains('design'))&(~dfnan.Skill_US.str.contains('sales')),'Activity'] = 'Tooling and Machining'\n",
    "dfnan = dfnan.dropna(subset=['Activity'])\n",
    "print(len(dfnan),'annotated nans')\n",
    "dfnan.Activity.value_counts()"
   ]
  },
  {
   "cell_type": "markdown",
   "metadata": {},
   "source": [
    "## Accuracy on NaNs dataset"
   ]
  },
  {
   "cell_type": "code",
   "execution_count": 42,
   "metadata": {},
   "outputs": [
    {
     "name": "stdout",
     "output_type": "stream",
     "text": [
      "29/29 [==============================] - 0s 7ms/step - loss: 1.0908 - accuracy: 0.6529\n",
      "Accuracy on nans dataset: 0.652947723865509\n"
     ]
    }
   ],
   "source": [
    "x_nan = dfnan.Skill_US.to_numpy()\n",
    "y_nan = dfnan.Activity.str.get_dummies()\n",
    "y_nan = y_nan.to_numpy()\n",
    "nan_loss, nan_accuracy = model.evaluate(x_nan,y_nan)\n",
    "print('Accuracy on nans dataset:',nan_accuracy)"
   ]
  },
  {
   "cell_type": "markdown",
   "metadata": {},
   "source": [
    "## Predictions on NaNs dataset"
   ]
  },
  {
   "cell_type": "code",
   "execution_count": 43,
   "metadata": {},
   "outputs": [
    {
     "data": {
      "text/html": [
       "<div>\n",
       "<style scoped>\n",
       "    .dataframe tbody tr th:only-of-type {\n",
       "        vertical-align: middle;\n",
       "    }\n",
       "\n",
       "    .dataframe tbody tr th {\n",
       "        vertical-align: top;\n",
       "    }\n",
       "\n",
       "    .dataframe thead th {\n",
       "        text-align: right;\n",
       "    }\n",
       "</style>\n",
       "<table border=\"1\" class=\"dataframe\">\n",
       "  <thead>\n",
       "    <tr style=\"text-align: right;\">\n",
       "      <th></th>\n",
       "      <th>Skill_US</th>\n",
       "      <th>Activity</th>\n",
       "      <th>Predicted Activity</th>\n",
       "    </tr>\n",
       "  </thead>\n",
       "  <tbody>\n",
       "    <tr>\n",
       "      <th>4</th>\n",
       "      <td>energy management</td>\n",
       "      <td>Support Activities</td>\n",
       "      <td>Support Activities</td>\n",
       "    </tr>\n",
       "    <tr>\n",
       "      <th>23</th>\n",
       "      <td>water distribution system design</td>\n",
       "      <td>Design</td>\n",
       "      <td>Software</td>\n",
       "    </tr>\n",
       "    <tr>\n",
       "      <th>25</th>\n",
       "      <td>materials management applications</td>\n",
       "      <td>Materials</td>\n",
       "      <td>Supply Chain and Logistics</td>\n",
       "    </tr>\n",
       "    <tr>\n",
       "      <th>32</th>\n",
       "      <td>electrical testing instruments</td>\n",
       "      <td>Tooling and Machining</td>\n",
       "      <td>Tooling and Machining</td>\n",
       "    </tr>\n",
       "    <tr>\n",
       "      <th>44</th>\n",
       "      <td>leadership in energy and environmental design ...</td>\n",
       "      <td>Design</td>\n",
       "      <td>Production and Assembling</td>\n",
       "    </tr>\n",
       "    <tr>\n",
       "      <th>...</th>\n",
       "      <td>...</td>\n",
       "      <td>...</td>\n",
       "      <td>...</td>\n",
       "    </tr>\n",
       "    <tr>\n",
       "      <th>11782</th>\n",
       "      <td>spectrum management</td>\n",
       "      <td>Support Activities</td>\n",
       "      <td>Support Activities</td>\n",
       "    </tr>\n",
       "    <tr>\n",
       "      <th>11878</th>\n",
       "      <td>connected vehicle security</td>\n",
       "      <td>Tooling and Machining</td>\n",
       "      <td>Software</td>\n",
       "    </tr>\n",
       "    <tr>\n",
       "      <th>11927</th>\n",
       "      <td>ics/ot threat and vulnerability management</td>\n",
       "      <td>Support Activities</td>\n",
       "      <td>Software</td>\n",
       "    </tr>\n",
       "    <tr>\n",
       "      <th>11935</th>\n",
       "      <td>iot device management</td>\n",
       "      <td>Support Activities</td>\n",
       "      <td>Software</td>\n",
       "    </tr>\n",
       "    <tr>\n",
       "      <th>11936</th>\n",
       "      <td>iot device security</td>\n",
       "      <td>Tooling and Machining</td>\n",
       "      <td>Software</td>\n",
       "    </tr>\n",
       "  </tbody>\n",
       "</table>\n",
       "<p>899 rows × 3 columns</p>\n",
       "</div>"
      ],
      "text/plain": [
       "                                                Skill_US  \\\n",
       "4                                      energy management   \n",
       "23                      water distribution system design   \n",
       "25                     materials management applications   \n",
       "32                        electrical testing instruments   \n",
       "44     leadership in energy and environmental design ...   \n",
       "...                                                  ...   \n",
       "11782                                spectrum management   \n",
       "11878                         connected vehicle security   \n",
       "11927         ics/ot threat and vulnerability management   \n",
       "11935                              iot device management   \n",
       "11936                                iot device security   \n",
       "\n",
       "                    Activity          Predicted Activity  \n",
       "4         Support Activities          Support Activities  \n",
       "23                    Design                    Software  \n",
       "25                 Materials  Supply Chain and Logistics  \n",
       "32     Tooling and Machining       Tooling and Machining  \n",
       "44                    Design   Production and Assembling  \n",
       "...                      ...                         ...  \n",
       "11782     Support Activities          Support Activities  \n",
       "11878  Tooling and Machining                    Software  \n",
       "11927     Support Activities                    Software  \n",
       "11935     Support Activities                    Software  \n",
       "11936  Tooling and Machining                    Software  \n",
       "\n",
       "[899 rows x 3 columns]"
      ]
     },
     "execution_count": 43,
     "metadata": {},
     "output_type": "execute_result"
    }
   ],
   "source": [
    "predicted_probabilities = model.predict(x_nan)\n",
    "predicted_activity = numpy.argmax(predicted_probabilities,axis=-1)\n",
    "dfnan = dfnan[['Skill_US','Activity']]\n",
    "dfnan['Predicted Activity'] = predicted_activity\n",
    "dfnan['Predicted Activity'].replace(mydict,inplace=True)\n",
    "dfnan.to_excel('Activity-predictions-nan.xlsx')\n",
    "dfnan"
   ]
  },
  {
   "cell_type": "markdown",
   "metadata": {},
   "source": [
    "## Predictions on all 12,015"
   ]
  },
  {
   "cell_type": "code",
   "execution_count": 44,
   "metadata": {},
   "outputs": [],
   "source": [
    "df = original.copy()\n",
    "predicted_probabilities = model.predict(df.Skill_US.to_numpy())\n",
    "predicted_activity = numpy.argmax(predicted_probabilities,axis=-1)\n",
    "df['Activity'] = predicted_activity\n",
    "df['Activity'].replace(mydict,inplace=True)\n",
    "df.to_csv('Activity-predictions.csv',index=False)"
   ]
  },
  {
   "cell_type": "markdown",
   "metadata": {},
   "source": [
    "## Mixture of annotated with predictions"
   ]
  },
  {
   "cell_type": "code",
   "execution_count": 45,
   "metadata": {},
   "outputs": [
    {
     "data": {
      "text/html": [
       "<div>\n",
       "<style scoped>\n",
       "    .dataframe tbody tr th:only-of-type {\n",
       "        vertical-align: middle;\n",
       "    }\n",
       "\n",
       "    .dataframe tbody tr th {\n",
       "        vertical-align: top;\n",
       "    }\n",
       "\n",
       "    .dataframe thead th {\n",
       "        text-align: right;\n",
       "    }\n",
       "</style>\n",
       "<table border=\"1\" class=\"dataframe\">\n",
       "  <thead>\n",
       "    <tr style=\"text-align: right;\">\n",
       "      <th></th>\n",
       "      <th>SkillId</th>\n",
       "      <th>Skill_US</th>\n",
       "      <th>Activity</th>\n",
       "    </tr>\n",
       "  </thead>\n",
       "  <tbody>\n",
       "    <tr>\n",
       "      <th>0</th>\n",
       "      <td>3</td>\n",
       "      <td>anxiety reduction</td>\n",
       "      <td>Support Activities</td>\n",
       "    </tr>\n",
       "    <tr>\n",
       "      <th>1</th>\n",
       "      <td>5</td>\n",
       "      <td>injections</td>\n",
       "      <td>Software</td>\n",
       "    </tr>\n",
       "    <tr>\n",
       "      <th>2</th>\n",
       "      <td>11</td>\n",
       "      <td>hm customs and excise</td>\n",
       "      <td>Supply Chain and Logistics</td>\n",
       "    </tr>\n",
       "    <tr>\n",
       "      <th>3</th>\n",
       "      <td>12</td>\n",
       "      <td>behavioral health</td>\n",
       "      <td>Support Activities</td>\n",
       "    </tr>\n",
       "    <tr>\n",
       "      <th>4</th>\n",
       "      <td>13</td>\n",
       "      <td>energy management</td>\n",
       "      <td>Support Activities</td>\n",
       "    </tr>\n",
       "    <tr>\n",
       "      <th>...</th>\n",
       "      <td>...</td>\n",
       "      <td>...</td>\n",
       "      <td>...</td>\n",
       "    </tr>\n",
       "    <tr>\n",
       "      <th>12010</th>\n",
       "      <td>18031</td>\n",
       "      <td>latex</td>\n",
       "      <td>Software</td>\n",
       "    </tr>\n",
       "    <tr>\n",
       "      <th>12011</th>\n",
       "      <td>18034</td>\n",
       "      <td>rapid recovery</td>\n",
       "      <td>Software</td>\n",
       "    </tr>\n",
       "    <tr>\n",
       "      <th>12012</th>\n",
       "      <td>18035</td>\n",
       "      <td>react javascript</td>\n",
       "      <td>Software</td>\n",
       "    </tr>\n",
       "    <tr>\n",
       "      <th>12013</th>\n",
       "      <td>18036</td>\n",
       "      <td>virtual reality (vr)</td>\n",
       "      <td>Software</td>\n",
       "    </tr>\n",
       "    <tr>\n",
       "      <th>12014</th>\n",
       "      <td>9000069</td>\n",
       "      <td>behavior problems</td>\n",
       "      <td>Support Activities</td>\n",
       "    </tr>\n",
       "  </tbody>\n",
       "</table>\n",
       "<p>12015 rows × 3 columns</p>\n",
       "</div>"
      ],
      "text/plain": [
       "       SkillId               Skill_US                    Activity\n",
       "0            3      anxiety reduction          Support Activities\n",
       "1            5             injections                    Software\n",
       "2           11  hm customs and excise  Supply Chain and Logistics\n",
       "3           12      behavioral health          Support Activities\n",
       "4           13      energy management          Support Activities\n",
       "...        ...                    ...                         ...\n",
       "12010    18031                  latex                    Software\n",
       "12011    18034         rapid recovery                    Software\n",
       "12012    18035       react javascript                    Software\n",
       "12013    18036   virtual reality (vr)                    Software\n",
       "12014  9000069      behavior problems          Support Activities\n",
       "\n",
       "[12015 rows x 3 columns]"
      ]
     },
     "execution_count": 45,
     "metadata": {},
     "output_type": "execute_result"
    }
   ],
   "source": [
    "df1 = original.copy()\n",
    "predicted_probabilities = model.predict(df1.Skill_US.to_numpy())\n",
    "predicted_phase = numpy.argmax(predicted_probabilities,axis=-1)\n",
    "df1['Activity'] = predicted_phase\n",
    "df1['Activity'].replace(mydict,inplace=True)\n",
    "df1 = df1[['SkillId','Skill_US','Activity']]\n",
    "df2 = final.copy()\n",
    "df2 = df2[['SkillId','Activity']]\n",
    "df1 = df1.merge(df2,right_on='SkillId',left_on='SkillId',how='left')\n",
    "df1['Activity'] = df1['Activity_y']\n",
    "df1.loc[df1.Activity.isna(),'Activity'] = df1['Activity_x']\n",
    "df1.to_csv('Activity-mixture.csv',index=False)\n",
    "df1 = df1[['SkillId','Skill_US','Activity']]\n",
    "df1.to_csv('Activity-mixture.csv',index=False)\n",
    "df1"
   ]
  },
  {
   "cell_type": "markdown",
   "metadata": {},
   "source": [
    "## Get files for the tensorflow projector"
   ]
  },
  {
   "cell_type": "code",
   "execution_count": 37,
   "metadata": {},
   "outputs": [],
   "source": [
    "import io\n",
    "out_v = io.open('vecs.tsv','w',encoding='utf-8')\n",
    "out_m = io.open('meta.tsv','w',encoding='utf-8')\n",
    "weights = layer_0.get_weights()[0]\n",
    "for i,phrase in enumerate(final.Skill_US):\n",
    "  embeddings = weights[i]\n",
    "  out_m.write(phrase + '\\n')\n",
    "  out_v.write('\\t'.join([str(x) for x in embeddings]) + '\\n')\n",
    "out_v.close()\n",
    "out_m.close()"
   ]
  },
  {
   "cell_type": "code",
   "execution_count": null,
   "metadata": {},
   "outputs": [],
   "source": [
    "plt.xlabel('Epoch Number')\n",
    "plt.ylabel(\"Loss Magnitude\")\n",
    "plt.plot(history.history['loss'])"
   ]
  },
  {
   "cell_type": "code",
   "execution_count": null,
   "metadata": {},
   "outputs": [],
   "source": [
    "coded.loc[(coded.SkillClusterFamily=='agriculture, horticulture, and the outdoors'),'Phases'] = 'Industry-Specific'\n",
    "coded.loc[(coded.SkillClusterFamily=='architecture and construction'),'Phases'] = 'Industry-Specific'\n",
    "coded.loc[(coded.SkillCluster=='bioinformatics'),'Phases'] = 'Industry-Specific'\n",
    "coded.loc[(coded.SkillCluster=='biology'),'Phases'] = 'Industry-Specific'\n",
    "coded.loc[(coded.SkillCluster=='biopharmaceutical manufacturing'),'Phases'] = 'Industry-Specific'\n",
    "coded.loc[(coded.SkillClusterFamily=='economics, policy, and social studies'),'Phases'] = 'Industry-Specific'\n",
    "coded.loc[(coded.SkillClusterFamily=='education and training')&(coded.SkillCluster!='foreign and language skills')&(coded.SkillCluster!='training programs'),'Phases'] = 'Industry-Specific'\n",
    "coded.loc[(coded.SkillClusterFamily=='energy and utilities'),'Phases'] = 'Industry-Specific'\n",
    "coded.loc[(coded.SkillClusterFamily=='engineering')&(coded.SkillCluster!='automation engineering')&(coded.SkillCluster!='analog design')&(coded.SkillCluster!='drafting and engineering design')&(coded.SkillCluster!='process engineering')&(coded.SkillCluster!='robotics')&(coded.SkillCluster!='simulation')&(coded.SkillCluster!='simulation software'),'Phases'] = 'Industry-Specific'\n",
    "coded.loc[(coded.SkillClusterFamily=='environment'),'Phases'] = 'Industry-Specific'\n",
    "coded.loc[(coded.SkillCluster=='genetics'),'Phases'] = 'Industry-Specific'\n",
    "coded.loc[(coded.SkillClusterFamily=='health Care')&(coded.SkillCluster!='physical abilities'),'Phases'] = 'Industry-Specific'\n",
    "coded.loc[(coded.SkillClusterFamily=='industry knowledge')&(coded.SkillCluster!='aluminium industry knowledge')&(coded.SkillCluster!='chemical industry knowledge')&(coded.SkillCluster!='engineering industry knowledge')&(coded.SkillCluster!='metal industy industry knowledge')&(coded.SkillCluster!='plastics material industry knowledge'),'Phases'] = 'Industry-Specific'\n",
    "coded.loc[(coded.SkillClusterFamily=='media and writing'),'Phases'] = 'Industry-Specific'\n",
    "coded.loc[(coded.SkillClusterFamily=='personal care and services'),'Phases'] = 'Industry-Specific'\n",
    "coded.loc[(coded.SkillClusterFamily=='public safety and national Security'),'Phases'] = 'Industry-Specific'\n",
    "coded.loc[(coded.SkillClusterFamily=='religion'),'Phases'] = 'Industry-Specific'"
   ]
  }
 ],
 "metadata": {
  "kernelspec": {
   "display_name": "Python 3 (ipykernel)",
   "language": "python",
   "name": "python3"
  },
  "language_info": {
   "codemirror_mode": {
    "name": "ipython",
    "version": 3
   },
   "file_extension": ".py",
   "mimetype": "text/x-python",
   "name": "python",
   "nbconvert_exporter": "python",
   "pygments_lexer": "ipython3",
   "version": "3.9.6"
  }
 },
 "nbformat": 4,
 "nbformat_minor": 4
}
